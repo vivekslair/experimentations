{
 "cells": [
  {
   "cell_type": "code",
   "execution_count": 1,
   "metadata": {},
   "outputs": [],
   "source": [
    "import pandas as pd\n",
    "import numpy as np\n",
    "import matplotlib.pyplot as plt\n",
    "import seaborn as sns"
   ]
  },
  {
   "cell_type": "code",
   "execution_count": 106,
   "metadata": {},
   "outputs": [],
   "source": [
    "asset_df = pd.read_csv(\"/users/Vivek/Documents/assets/Asset_Item_Sales_Report.csv\")"
   ]
  },
  {
   "cell_type": "code",
   "execution_count": 26,
   "metadata": {},
   "outputs": [
    {
     "data": {
      "text/plain": [
       "(368030, 33)"
      ]
     },
     "execution_count": 26,
     "metadata": {},
     "output_type": "execute_result"
    }
   ],
   "source": [
    "asset_df.shape"
   ]
  },
  {
   "cell_type": "code",
   "execution_count": 27,
   "metadata": {},
   "outputs": [
    {
     "data": {
      "text/plain": [
       "Index(['Branch', 'Asset ID', 'Route Name', 'Customer Code', 'Customer',\n",
       "       'Location Code', 'Location', 'Place', 'City', 'Machine Class',\n",
       "       'Item Code', 'Item Name', 'Item Category', 'Manufacturer',\n",
       "       'Item Finance Category', 'Total Collections', 'Cash Collections',\n",
       "       'Cashless Sales', 'Sales Tax', 'Deposit', 'Pretax Revenue',\n",
       "       'Product Cost', 'Spoiled Cost', 'Gross Margin', 'Gross Margin %',\n",
       "       'Commissions', 'Net Margin', 'Net Margin %', 'Machine Inventory Cost',\n",
       "       'Sold Units', 'Added Units', 'Spoiled Units', 'Removed Units'],\n",
       "      dtype='object')"
      ]
     },
     "execution_count": 27,
     "metadata": {},
     "output_type": "execute_result"
    }
   ],
   "source": [
    "asset_df.columns"
   ]
  },
  {
   "cell_type": "code",
   "execution_count": 116,
   "metadata": {},
   "outputs": [
    {
     "name": "stdout",
     "output_type": "stream",
     "text": [
      "<class 'pandas.core.frame.DataFrame'>\n",
      "RangeIndex: 368030 entries, 0 to 368029\n",
      "Data columns (total 33 columns):\n",
      " #   Column                  Non-Null Count   Dtype  \n",
      "---  ------                  --------------   -----  \n",
      " 0   Branch                  368030 non-null  object \n",
      " 1   Asset ID                368030 non-null  object \n",
      " 2   Route Name              368030 non-null  object \n",
      " 3   Customer Code           116345 non-null  object \n",
      " 4   Customer                368030 non-null  object \n",
      " 5   Location Code           78993 non-null   object \n",
      " 6   Location                368030 non-null  object \n",
      " 7   Place                   360848 non-null  object \n",
      " 8   City                    368030 non-null  object \n",
      " 9   Machine Class           367737 non-null  object \n",
      " 10  Item Code               368030 non-null  object \n",
      " 11  Item Name               368030 non-null  object \n",
      " 12  Item Category           368030 non-null  object \n",
      " 13  Manufacturer            368030 non-null  object \n",
      " 14  Item Finance Category   368030 non-null  object \n",
      " 15  Total Collections       368030 non-null  object \n",
      " 16  Cash Collections        368030 non-null  float64\n",
      " 17  Cashless Sales          368030 non-null  float64\n",
      " 18  Sales Tax               368030 non-null  float64\n",
      " 19  Deposit                 368030 non-null  float64\n",
      " 20  Pretax Revenue          368030 non-null  float64\n",
      " 21  Product Cost            367845 non-null  object \n",
      " 22  Spoiled Cost            367845 non-null  float64\n",
      " 23  Gross Margin            367845 non-null  object \n",
      " 24  Gross Margin %          98798 non-null   float64\n",
      " 25  Commissions             368030 non-null  object \n",
      " 26  Net Margin              367845 non-null  object \n",
      " 27  Net Margin %            98798 non-null   float64\n",
      " 28  Machine Inventory Cost  367845 non-null  object \n",
      " 29  Sold Units              368030 non-null  object \n",
      " 30  Added Units             368030 non-null  object \n",
      " 31  Spoiled Units           368030 non-null  int64  \n",
      " 32  Removed Units           368030 non-null  int64  \n",
      "dtypes: float64(8), int64(2), object(23)\n",
      "memory usage: 92.7+ MB\n"
     ]
    }
   ],
   "source": [
    "asset_df.info()"
   ]
  },
  {
   "cell_type": "code",
   "execution_count": 15,
   "metadata": {},
   "outputs": [],
   "source": [
    "import re"
   ]
  },
  {
   "cell_type": "code",
   "execution_count": 30,
   "metadata": {},
   "outputs": [
    {
     "data": {
      "text/plain": [
       "0    2135.36\n",
       "1    1570.10\n",
       "2    1118.85\n",
       "3     733.86\n",
       "4     695.66\n",
       "Name: Total Collections, dtype: object"
      ]
     },
     "execution_count": 30,
     "metadata": {},
     "output_type": "execute_result"
    }
   ],
   "source": [
    "asset_df['Total Collections'].head()"
   ]
  },
  {
   "cell_type": "code",
   "execution_count": 31,
   "metadata": {},
   "outputs": [],
   "source": [
    "asset_df['Total Collections'] = asset_df['Total Collections'].apply(pd.to_numeric)"
   ]
  },
  {
   "cell_type": "code",
   "execution_count": 170,
   "metadata": {},
   "outputs": [
    {
     "data": {
      "text/plain": [
       "array([nan, '$1,414.50', '$1,002.36', ..., '-$30.36', '-$139.20',\n",
       "       '-$71.60'], dtype=object)"
      ]
     },
     "execution_count": 170,
     "metadata": {},
     "output_type": "execute_result"
    }
   ],
   "source": [
    "asset_df['Gross Margin'].unique()"
   ]
  },
  {
   "cell_type": "code",
   "execution_count": null,
   "metadata": {},
   "outputs": [],
   "source": [
    "Product Cost , Gross Margin , Net Margin , Machine Inventory Cost, Sold Units, Added Units"
   ]
  },
  {
   "cell_type": "code",
   "execution_count": 173,
   "metadata": {},
   "outputs": [],
   "source": [
    "asset_df[['Product Cost' , 'Gross Margin', 'Net Margin' , 'Machine Inventory Cost']] = asset_df[['Product Cost' , 'Gross Margin', 'Net Margin' , 'Machine Inventory Cost']].fillna(\"$0.00\")"
   ]
  },
  {
   "cell_type": "code",
   "execution_count": 177,
   "metadata": {},
   "outputs": [],
   "source": [
    "asset_df[['Sold Units','Added Units']] = asset_df[['Sold Units','Added Units']].fillna(\"0\")"
   ]
  },
  {
   "cell_type": "code",
   "execution_count": 186,
   "metadata": {},
   "outputs": [],
   "source": [
    "def cleanse_numeric(asset_df,x) : \n",
    "    #asset_df[x] = asset_df[x].fillna(0)\n",
    "    try : \n",
    "        asset_df[x] = asset_df[x].apply(lambda x : re.sub(r'[^0-9.]','',x))\n",
    "        #asset_df[x] = pd.to_numeric(asset_df[x].str.replace(',', ''))\n",
    "        asset_df[x] = asset_df[x].apply(pd.to_numeric)\n",
    "    except :\n",
    "        \n",
    "        asset_df[x] = asset_df[x].apply(pd.to_numeric)\n",
    "    print(\"completed for :\",x)"
   ]
  },
  {
   "cell_type": "code",
   "execution_count": 187,
   "metadata": {},
   "outputs": [],
   "source": [
    "numeric_cols = ['Sold Units','Added Units']"
   ]
  },
  {
   "cell_type": "code",
   "execution_count": 188,
   "metadata": {},
   "outputs": [
    {
     "name": "stdout",
     "output_type": "stream",
     "text": [
      "completed for : Sold Units\n",
      "completed for : Added Units\n"
     ]
    }
   ],
   "source": [
    "for x in numeric_cols : \n",
    "    cleanse_numeric(asset_df,x)"
   ]
  },
  {
   "cell_type": "code",
   "execution_count": 189,
   "metadata": {},
   "outputs": [
    {
     "name": "stdout",
     "output_type": "stream",
     "text": [
      "<class 'pandas.core.frame.DataFrame'>\n",
      "RangeIndex: 368030 entries, 0 to 368029\n",
      "Data columns (total 33 columns):\n",
      " #   Column                  Non-Null Count   Dtype  \n",
      "---  ------                  --------------   -----  \n",
      " 0   Branch                  368030 non-null  object \n",
      " 1   Asset ID                368030 non-null  object \n",
      " 2   Route Name              368030 non-null  object \n",
      " 3   Customer Code           116345 non-null  object \n",
      " 4   Customer                368030 non-null  object \n",
      " 5   Location Code           78993 non-null   object \n",
      " 6   Location                368030 non-null  object \n",
      " 7   Place                   360848 non-null  object \n",
      " 8   City                    368030 non-null  object \n",
      " 9   Machine Class           367737 non-null  object \n",
      " 10  Item Code               368030 non-null  object \n",
      " 11  Item Name               368030 non-null  object \n",
      " 12  Item Category           368030 non-null  object \n",
      " 13  Manufacturer            368030 non-null  object \n",
      " 14  Item Finance Category   368030 non-null  object \n",
      " 15  Total Collections       368030 non-null  float64\n",
      " 16  Cash Collections        368030 non-null  float64\n",
      " 17  Cashless Sales          368030 non-null  float64\n",
      " 18  Sales Tax               368030 non-null  float64\n",
      " 19  Deposit                 368030 non-null  float64\n",
      " 20  Pretax Revenue          368030 non-null  float64\n",
      " 21  Product Cost            368030 non-null  float64\n",
      " 22  Spoiled Cost            367845 non-null  float64\n",
      " 23  Gross Margin            368030 non-null  float64\n",
      " 24  Gross Margin %          98798 non-null   float64\n",
      " 25  Commissions             368030 non-null  float64\n",
      " 26  Net Margin              368030 non-null  float64\n",
      " 27  Net Margin %            98798 non-null   float64\n",
      " 28  Machine Inventory Cost  368030 non-null  float64\n",
      " 29  Sold Units              16384 non-null   float64\n",
      " 30  Added Units             98304 non-null   float64\n",
      " 31  Spoiled Units           368030 non-null  int64  \n",
      " 32  Removed Units           368030 non-null  int64  \n",
      "dtypes: float64(16), int64(2), object(15)\n",
      "memory usage: 92.7+ MB\n"
     ]
    }
   ],
   "source": [
    "asset_df.info()"
   ]
  },
  {
   "cell_type": "code",
   "execution_count": 190,
   "metadata": {},
   "outputs": [],
   "source": [
    "asset_df.to_csv(\"/users/Vivek/Documents/assets/cleansed_data.csv\")"
   ]
  },
  {
   "cell_type": "code",
   "execution_count": 191,
   "metadata": {},
   "outputs": [
    {
     "data": {
      "text/html": [
       "<div>\n",
       "<style scoped>\n",
       "    .dataframe tbody tr th:only-of-type {\n",
       "        vertical-align: middle;\n",
       "    }\n",
       "\n",
       "    .dataframe tbody tr th {\n",
       "        vertical-align: top;\n",
       "    }\n",
       "\n",
       "    .dataframe thead th {\n",
       "        text-align: right;\n",
       "    }\n",
       "</style>\n",
       "<table border=\"1\" class=\"dataframe\">\n",
       "  <thead>\n",
       "    <tr style=\"text-align: right;\">\n",
       "      <th></th>\n",
       "      <th>Branch</th>\n",
       "      <th>Asset ID</th>\n",
       "      <th>Route Name</th>\n",
       "      <th>Customer Code</th>\n",
       "      <th>Customer</th>\n",
       "      <th>Location Code</th>\n",
       "      <th>Location</th>\n",
       "      <th>Place</th>\n",
       "      <th>City</th>\n",
       "      <th>Machine Class</th>\n",
       "      <th>...</th>\n",
       "      <th>Gross Margin</th>\n",
       "      <th>Gross Margin %</th>\n",
       "      <th>Commissions</th>\n",
       "      <th>Net Margin</th>\n",
       "      <th>Net Margin %</th>\n",
       "      <th>Machine Inventory Cost</th>\n",
       "      <th>Sold Units</th>\n",
       "      <th>Added Units</th>\n",
       "      <th>Spoiled Units</th>\n",
       "      <th>Removed Units</th>\n",
       "    </tr>\n",
       "  </thead>\n",
       "  <tbody>\n",
       "    <tr>\n",
       "      <th>0</th>\n",
       "      <td>Montreal</td>\n",
       "      <td>4545MTL</td>\n",
       "      <td>MONTREALVEND3</td>\n",
       "      <td>M-3970:6606</td>\n",
       "      <td>Hop. Pierre Le Gardeur</td>\n",
       "      <td>M-3970:6316</td>\n",
       "      <td>Hop. Pierre Le Gardeur-911 Monte</td>\n",
       "      <td>Urgence</td>\n",
       "      <td>Terrebonne</td>\n",
       "      <td>Food</td>\n",
       "      <td>...</td>\n",
       "      <td>0.00</td>\n",
       "      <td>NaN</td>\n",
       "      <td>136.90</td>\n",
       "      <td>0.00</td>\n",
       "      <td>NaN</td>\n",
       "      <td>0.00</td>\n",
       "      <td>0.0</td>\n",
       "      <td>0.0</td>\n",
       "      <td>0</td>\n",
       "      <td>0</td>\n",
       "    </tr>\n",
       "    <tr>\n",
       "      <th>1</th>\n",
       "      <td>Regina</td>\n",
       "      <td>1268RGA</td>\n",
       "      <td>REGINAVEND9(Jeannine)</td>\n",
       "      <td>IMCK</td>\n",
       "      <td>MOSAIC</td>\n",
       "      <td>IMCK</td>\n",
       "      <td>IMCK</td>\n",
       "      <td>Food Cash Register</td>\n",
       "      <td>Belle Plain</td>\n",
       "      <td>Unknown</td>\n",
       "      <td>...</td>\n",
       "      <td>1414.50</td>\n",
       "      <td>100.00</td>\n",
       "      <td>0.00</td>\n",
       "      <td>1414.50</td>\n",
       "      <td>100.00</td>\n",
       "      <td>1.55</td>\n",
       "      <td>0.0</td>\n",
       "      <td>0.0</td>\n",
       "      <td>0</td>\n",
       "      <td>0</td>\n",
       "    </tr>\n",
       "    <tr>\n",
       "      <th>2</th>\n",
       "      <td>Montreal</td>\n",
       "      <td>2802MTL</td>\n",
       "      <td>MONTREALVEND3</td>\n",
       "      <td>M-3970:6606</td>\n",
       "      <td>Hop. Pierre Le Gardeur</td>\n",
       "      <td>M-3970:6316</td>\n",
       "      <td>Hop. Pierre Le Gardeur-911 Monte</td>\n",
       "      <td>Psychiatrie Bloc A</td>\n",
       "      <td>Terrebonne</td>\n",
       "      <td>Coffee</td>\n",
       "      <td>...</td>\n",
       "      <td>1002.36</td>\n",
       "      <td>98.53</td>\n",
       "      <td>271.68</td>\n",
       "      <td>730.68</td>\n",
       "      <td>71.82</td>\n",
       "      <td>2.72</td>\n",
       "      <td>1500.0</td>\n",
       "      <td>1691.0</td>\n",
       "      <td>0</td>\n",
       "      <td>0</td>\n",
       "    </tr>\n",
       "    <tr>\n",
       "      <th>3</th>\n",
       "      <td>London</td>\n",
       "      <td>94088LDN</td>\n",
       "      <td>LONDONVEND1</td>\n",
       "      <td>6382</td>\n",
       "      <td>CT Parkwood Institute Mental H</td>\n",
       "      <td>6382</td>\n",
       "      <td>CT Parkwood Institute Mental HLT</td>\n",
       "      <td>CD Coke Mental Health Bldg (IR) Main Lobby</td>\n",
       "      <td>London</td>\n",
       "      <td>GF Bev</td>\n",
       "      <td>...</td>\n",
       "      <td>424.80</td>\n",
       "      <td>65.41</td>\n",
       "      <td>60.12</td>\n",
       "      <td>364.68</td>\n",
       "      <td>56.15</td>\n",
       "      <td>45.12</td>\n",
       "      <td>234.0</td>\n",
       "      <td>225.0</td>\n",
       "      <td>0</td>\n",
       "      <td>0</td>\n",
       "    </tr>\n",
       "    <tr>\n",
       "      <th>4</th>\n",
       "      <td>Montreal</td>\n",
       "      <td>2769MTL</td>\n",
       "      <td>MONTREALVEND3</td>\n",
       "      <td>M-3970:6606</td>\n",
       "      <td>Hop. Pierre Le Gardeur</td>\n",
       "      <td>M-3970:6316</td>\n",
       "      <td>Hop. Pierre Le Gardeur-911 Monte</td>\n",
       "      <td>Psychiatrie Bloc A</td>\n",
       "      <td>Terrebonne</td>\n",
       "      <td>Coffee</td>\n",
       "      <td>...</td>\n",
       "      <td>624.31</td>\n",
       "      <td>98.69</td>\n",
       "      <td>163.42</td>\n",
       "      <td>460.89</td>\n",
       "      <td>72.86</td>\n",
       "      <td>4.00</td>\n",
       "      <td>826.0</td>\n",
       "      <td>1110.0</td>\n",
       "      <td>0</td>\n",
       "      <td>0</td>\n",
       "    </tr>\n",
       "  </tbody>\n",
       "</table>\n",
       "<p>5 rows × 33 columns</p>\n",
       "</div>"
      ],
      "text/plain": [
       "     Branch  Asset ID             Route Name Customer Code  \\\n",
       "0  Montreal   4545MTL          MONTREALVEND3   M-3970:6606   \n",
       "1    Regina   1268RGA  REGINAVEND9(Jeannine)          IMCK   \n",
       "2  Montreal   2802MTL          MONTREALVEND3   M-3970:6606   \n",
       "3    London  94088LDN            LONDONVEND1          6382   \n",
       "4  Montreal   2769MTL          MONTREALVEND3   M-3970:6606   \n",
       "\n",
       "                         Customer Location Code  \\\n",
       "0          Hop. Pierre Le Gardeur   M-3970:6316   \n",
       "1                          MOSAIC          IMCK   \n",
       "2          Hop. Pierre Le Gardeur   M-3970:6316   \n",
       "3  CT Parkwood Institute Mental H          6382   \n",
       "4          Hop. Pierre Le Gardeur   M-3970:6316   \n",
       "\n",
       "                           Location  \\\n",
       "0  Hop. Pierre Le Gardeur-911 Monte   \n",
       "1                              IMCK   \n",
       "2  Hop. Pierre Le Gardeur-911 Monte   \n",
       "3  CT Parkwood Institute Mental HLT   \n",
       "4  Hop. Pierre Le Gardeur-911 Monte   \n",
       "\n",
       "                                        Place         City Machine Class  ...  \\\n",
       "0                                     Urgence   Terrebonne          Food  ...   \n",
       "1                          Food Cash Register  Belle Plain       Unknown  ...   \n",
       "2                          Psychiatrie Bloc A   Terrebonne        Coffee  ...   \n",
       "3  CD Coke Mental Health Bldg (IR) Main Lobby       London        GF Bev  ...   \n",
       "4                          Psychiatrie Bloc A   Terrebonne        Coffee  ...   \n",
       "\n",
       "  Gross Margin Gross Margin % Commissions Net Margin Net Margin %  \\\n",
       "0         0.00            NaN      136.90       0.00          NaN   \n",
       "1      1414.50         100.00        0.00    1414.50       100.00   \n",
       "2      1002.36          98.53      271.68     730.68        71.82   \n",
       "3       424.80          65.41       60.12     364.68        56.15   \n",
       "4       624.31          98.69      163.42     460.89        72.86   \n",
       "\n",
       "   Machine Inventory Cost  Sold Units  Added Units  Spoiled Units  \\\n",
       "0                    0.00         0.0          0.0              0   \n",
       "1                    1.55         0.0          0.0              0   \n",
       "2                    2.72      1500.0       1691.0              0   \n",
       "3                   45.12       234.0        225.0              0   \n",
       "4                    4.00       826.0       1110.0              0   \n",
       "\n",
       "   Removed Units  \n",
       "0              0  \n",
       "1              0  \n",
       "2              0  \n",
       "3              0  \n",
       "4              0  \n",
       "\n",
       "[5 rows x 33 columns]"
      ]
     },
     "execution_count": 191,
     "metadata": {},
     "output_type": "execute_result"
    }
   ],
   "source": [
    "asset_df.head()"
   ]
  },
  {
   "cell_type": "code",
   "execution_count": 1,
   "metadata": {},
   "outputs": [
    {
     "ename": "NameError",
     "evalue": "name 'asset_df' is not defined",
     "output_type": "error",
     "traceback": [
      "\u001b[0;31m---------------------------------------------------------------------------\u001b[0m",
      "\u001b[0;31mNameError\u001b[0m                                 Traceback (most recent call last)",
      "\u001b[0;32m<ipython-input-1-cd915fcd330c>\u001b[0m in \u001b[0;36m<module>\u001b[0;34m\u001b[0m\n\u001b[0;32m----> 1\u001b[0;31m \u001b[0masset_df\u001b[0m\u001b[0;34m.\u001b[0m\u001b[0mgroupby\u001b[0m\u001b[0;34m(\u001b[0m\u001b[0;34m'Branch'\u001b[0m\u001b[0;34m,\u001b[0m\u001b[0mas_index\u001b[0m\u001b[0;34m=\u001b[0m\u001b[0;32mFalse\u001b[0m\u001b[0;34m)\u001b[0m\u001b[0;34m.\u001b[0m\u001b[0magg\u001b[0m\u001b[0;34m(\u001b[0m\u001b[0;34m{\u001b[0m\u001b[0;34m'Net Margin'\u001b[0m\u001b[0;34m:\u001b[0m \u001b[0;34m'Mean'\u001b[0m\u001b[0;34m}\u001b[0m\u001b[0;34m)\u001b[0m\u001b[0;34m\u001b[0m\u001b[0;34m\u001b[0m\u001b[0m\n\u001b[0m",
      "\u001b[0;31mNameError\u001b[0m: name 'asset_df' is not defined"
     ]
    }
   ],
   "source": [
    "asset_df.groupby('Branch',as_index=False).agg({'Net Margin': 'Mean'})"
   ]
  },
  {
   "cell_type": "code",
   "execution_count": null,
   "metadata": {},
   "outputs": [],
   "source": []
  }
 ],
 "metadata": {
  "kernelspec": {
   "display_name": "Python 3",
   "language": "python",
   "name": "python3"
  },
  "language_info": {
   "codemirror_mode": {
    "name": "ipython",
    "version": 3
   },
   "file_extension": ".py",
   "mimetype": "text/x-python",
   "name": "python",
   "nbconvert_exporter": "python",
   "pygments_lexer": "ipython3",
   "version": "3.6.10"
  }
 },
 "nbformat": 4,
 "nbformat_minor": 4
}
