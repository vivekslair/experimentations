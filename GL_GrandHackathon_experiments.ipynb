{
  "nbformat": 4,
  "nbformat_minor": 0,
  "metadata": {
    "accelerator": "GPU",
    "colab": {
      "name": "GL_GrandHackathon_experiments.ipynb",
      "provenance": [],
      "collapsed_sections": [
        "wqgccV-Qu5vu",
        "T2AlUSYyI065",
        "pLzorfUJryvr",
        "h051zH-n0UYS",
        "Bg7QYRFU4GIq",
        "BCM9LcjtTDpJ",
        "Z6DZ2TtX86WJ",
        "UhI53jcj9MOi"
      ],
      "authorship_tag": "ABX9TyO5HEV6KztD60grrE+0sUoM",
      "include_colab_link": true
    },
    "kernelspec": {
      "display_name": "Python 3",
      "name": "python3"
    }
  },
  "cells": [
    {
      "cell_type": "markdown",
      "metadata": {
        "id": "view-in-github",
        "colab_type": "text"
      },
      "source": [
        "<a href=\"https://colab.research.google.com/github/vivekslair/experimentations/blob/main/GL_GrandHackathon_experiments.ipynb\" target=\"_parent\"><img src=\"https://colab.research.google.com/assets/colab-badge.svg\" alt=\"Open In Colab\"/></a>"
      ]
    },
    {
      "cell_type": "code",
      "metadata": {
        "colab": {
          "background_save": true
        },
        "id": "DfC_FBpellUf"
      },
      "source": [
        "import numpy as np\n",
        "import pandas as pd\n",
        "import zipfile\n",
        "import matplotlib.pyplot as plt\n",
        "import seaborn as sns\n",
        "import os\n",
        "from sklearn.model_selection import train_test_split\n",
        "from sklearn.linear_model import LinearRegression\n",
        "from sklearn.metrics import mean_squared_error\n",
        "from sklearn.metrics import mean_absolute_error\n",
        "from sklearn.preprocessing import StandardScaler, MinMaxScaler\n",
        "from sklearn.preprocessing import OneHotEncoder\n",
        "from sklearn.svm import SVR\n",
        "from sklearn.ensemble import RandomForestRegressor\n",
        "import pickle\n",
        "from sklearn.model_selection import cross_validate\n",
        "from sklearn.model_selection import KFold\n",
        "from sklearn.model_selection import cross_val_score\n",
        "from sklearn.model_selection import GridSearchCV"
      ],
      "execution_count": null,
      "outputs": []
    },
    {
      "cell_type": "code",
      "metadata": {
        "id": "g6OuVGFKRVlQ"
      },
      "source": [
        "import tensorflow as tf\n",
        "\n",
        "from tensorflow import keras\n",
        "from tensorflow.keras import layers\n",
        "from tensorflow.keras import optimizers \n",
        "from tensorflow.keras.layers.experimental import preprocessing\n",
        "from numpy.testing import assert_allclose\n",
        "from keras.models import Sequential, load_model\n",
        "from keras.layers import LSTM, Dropout, Dense\n",
        "from keras.callbacks import ModelCheckpoint\n",
        "from tensorflow.keras.utils import normalize"
      ],
      "execution_count": null,
      "outputs": []
    },
    {
      "cell_type": "code",
      "metadata": {
        "colab": {
          "base_uri": "https://localhost:8080/"
        },
        "id": "fZIFWCBomihT",
        "outputId": "b0d07f11-ed5b-4b17-9b77-9533b9a60843"
      },
      "source": [
        "from google.colab import drive\n",
        "drive.mount('/content/drive')"
      ],
      "execution_count": null,
      "outputs": [
        {
          "output_type": "stream",
          "text": [
            "Mounted at /content/drive\n"
          ],
          "name": "stdout"
        }
      ]
    },
    {
      "cell_type": "code",
      "metadata": {
        "id": "-OCARpw-mu1M"
      },
      "source": [
        "os.chdir('/content/drive/My Drive/GLHackathonFiles')"
      ],
      "execution_count": null,
      "outputs": []
    },
    {
      "cell_type": "code",
      "metadata": {
        "id": "xmQ0QzssmTVp"
      },
      "source": [
        "zf = zipfile.ZipFile('Train Data.zip') \n",
        "freq_domain_df = pd.read_csv(zf.open('Train Data Zip/frequency_domain_features_train.csv'))"
      ],
      "execution_count": null,
      "outputs": []
    },
    {
      "cell_type": "code",
      "metadata": {
        "id": "q06kr9wxnoi7"
      },
      "source": [
        "heart_rt_df = pd.read_csv(zf.open('Train Data Zip/heart_rate_non_linear_features_train.csv'))"
      ],
      "execution_count": null,
      "outputs": []
    },
    {
      "cell_type": "code",
      "metadata": {
        "id": "MiOjeAx0oCWb"
      },
      "source": [
        "time_domain_df = pd.read_csv(zf.open('Train Data Zip/time_domain_features_train.csv'))"
      ],
      "execution_count": null,
      "outputs": []
    },
    {
      "cell_type": "code",
      "metadata": {
        "colab": {
          "base_uri": "https://localhost:8080/"
        },
        "id": "861FmyuwoQeO",
        "outputId": "eb69036c-9d64-4b27-adb1-5b5a70475948"
      },
      "source": [
        "freq_domain_df.shape"
      ],
      "execution_count": null,
      "outputs": [
        {
          "output_type": "execute_result",
          "data": {
            "text/plain": [
              "(369289, 12)"
            ]
          },
          "metadata": {
            "tags": []
          },
          "execution_count": 6
        }
      ]
    },
    {
      "cell_type": "code",
      "metadata": {
        "colab": {
          "base_uri": "https://localhost:8080/"
        },
        "id": "lcFhHYVRoTwF",
        "outputId": "6290601b-b9b4-4634-8871-929bf2072da7"
      },
      "source": [
        "heart_rt_df.shape"
      ],
      "execution_count": null,
      "outputs": [
        {
          "output_type": "execute_result",
          "data": {
            "text/plain": [
              "(369289, 7)"
            ]
          },
          "metadata": {
            "tags": []
          },
          "execution_count": 7
        }
      ]
    },
    {
      "cell_type": "code",
      "metadata": {
        "colab": {
          "base_uri": "https://localhost:8080/"
        },
        "id": "u3OEIAeMoWQK",
        "outputId": "35a95140-0415-4f02-8533-427c18eac802"
      },
      "source": [
        "time_domain_df.shape"
      ],
      "execution_count": null,
      "outputs": [
        {
          "output_type": "execute_result",
          "data": {
            "text/plain": [
              "(369289, 20)"
            ]
          },
          "metadata": {
            "tags": []
          },
          "execution_count": 10
        }
      ]
    },
    {
      "cell_type": "code",
      "metadata": {
        "colab": {
          "base_uri": "https://localhost:8080/",
          "height": 479
        },
        "id": "WDl43O0NoYRS",
        "outputId": "048979fd-a762-45e3-b2e9-ba143fa6a07e"
      },
      "source": [
        "freq_domain_df.head()"
      ],
      "execution_count": null,
      "outputs": [
        {
          "output_type": "execute_result",
          "data": {
            "text/html": [
              "<div>\n",
              "<style scoped>\n",
              "    .dataframe tbody tr th:only-of-type {\n",
              "        vertical-align: middle;\n",
              "    }\n",
              "\n",
              "    .dataframe tbody tr th {\n",
              "        vertical-align: top;\n",
              "    }\n",
              "\n",
              "    .dataframe thead th {\n",
              "        text-align: right;\n",
              "    }\n",
              "</style>\n",
              "<table border=\"1\" class=\"dataframe\">\n",
              "  <thead>\n",
              "    <tr style=\"text-align: right;\">\n",
              "      <th></th>\n",
              "      <th>uuid</th>\n",
              "      <th>VLF</th>\n",
              "      <th>VLF_PCT</th>\n",
              "      <th>LF</th>\n",
              "      <th>LF_PCT</th>\n",
              "      <th>LF_NU</th>\n",
              "      <th>HF</th>\n",
              "      <th>HF_PCT</th>\n",
              "      <th>HF_NU</th>\n",
              "      <th>TP</th>\n",
              "      <th>LF_HF</th>\n",
              "      <th>HF_LF</th>\n",
              "    </tr>\n",
              "  </thead>\n",
              "  <tbody>\n",
              "    <tr>\n",
              "      <th>0</th>\n",
              "      <td>89df2855-56eb-4706-a23b-b39363dd605a</td>\n",
              "      <td>2661.894136</td>\n",
              "      <td>72.203287</td>\n",
              "      <td>1009.249419</td>\n",
              "      <td>27.375666</td>\n",
              "      <td>98.485263</td>\n",
              "      <td>15.522603</td>\n",
              "      <td>0.421047</td>\n",
              "      <td>1.514737</td>\n",
              "      <td>3686.666157</td>\n",
              "      <td>65.018055</td>\n",
              "      <td>0.015380</td>\n",
              "    </tr>\n",
              "    <tr>\n",
              "      <th>1</th>\n",
              "      <td>80c795e4-aa56-4cc0-939c-19634b89cbb2</td>\n",
              "      <td>2314.265450</td>\n",
              "      <td>76.975728</td>\n",
              "      <td>690.113275</td>\n",
              "      <td>22.954139</td>\n",
              "      <td>99.695397</td>\n",
              "      <td>2.108525</td>\n",
              "      <td>0.070133</td>\n",
              "      <td>0.304603</td>\n",
              "      <td>3006.487251</td>\n",
              "      <td>327.296635</td>\n",
              "      <td>0.003055</td>\n",
              "    </tr>\n",
              "    <tr>\n",
              "      <th>2</th>\n",
              "      <td>c2d5d102-967c-487d-88f2-8b005a449f3e</td>\n",
              "      <td>1373.887112</td>\n",
              "      <td>51.152225</td>\n",
              "      <td>1298.222619</td>\n",
              "      <td>48.335104</td>\n",
              "      <td>98.950472</td>\n",
              "      <td>13.769729</td>\n",
              "      <td>0.512671</td>\n",
              "      <td>1.049528</td>\n",
              "      <td>2685.879461</td>\n",
              "      <td>94.280910</td>\n",
              "      <td>0.010607</td>\n",
              "    </tr>\n",
              "    <tr>\n",
              "      <th>3</th>\n",
              "      <td>37eabc44-1349-4040-8896-0d113ad4811f</td>\n",
              "      <td>2410.357408</td>\n",
              "      <td>70.180308</td>\n",
              "      <td>1005.981659</td>\n",
              "      <td>29.290305</td>\n",
              "      <td>98.224706</td>\n",
              "      <td>18.181913</td>\n",
              "      <td>0.529387</td>\n",
              "      <td>1.775294</td>\n",
              "      <td>3434.520980</td>\n",
              "      <td>55.328701</td>\n",
              "      <td>0.018074</td>\n",
              "    </tr>\n",
              "    <tr>\n",
              "      <th>4</th>\n",
              "      <td>aa777a6a-7aa3-4f6e-aced-70f8691dd2b7</td>\n",
              "      <td>1151.177330</td>\n",
              "      <td>43.918366</td>\n",
              "      <td>1421.782051</td>\n",
              "      <td>54.242160</td>\n",
              "      <td>96.720007</td>\n",
              "      <td>48.215822</td>\n",
              "      <td>1.839473</td>\n",
              "      <td>3.279993</td>\n",
              "      <td>2621.175204</td>\n",
              "      <td>29.487873</td>\n",
              "      <td>0.033912</td>\n",
              "    </tr>\n",
              "  </tbody>\n",
              "</table>\n",
              "</div>"
            ],
            "text/plain": [
              "                                   uuid          VLF  ...       LF_HF     HF_LF\n",
              "0  89df2855-56eb-4706-a23b-b39363dd605a  2661.894136  ...   65.018055  0.015380\n",
              "1  80c795e4-aa56-4cc0-939c-19634b89cbb2  2314.265450  ...  327.296635  0.003055\n",
              "2  c2d5d102-967c-487d-88f2-8b005a449f3e  1373.887112  ...   94.280910  0.010607\n",
              "3  37eabc44-1349-4040-8896-0d113ad4811f  2410.357408  ...   55.328701  0.018074\n",
              "4  aa777a6a-7aa3-4f6e-aced-70f8691dd2b7  1151.177330  ...   29.487873  0.033912\n",
              "\n",
              "[5 rows x 12 columns]"
            ]
          },
          "metadata": {
            "tags": []
          },
          "execution_count": 12
        }
      ]
    },
    {
      "cell_type": "code",
      "metadata": {
        "colab": {
          "base_uri": "https://localhost:8080/",
          "height": 204
        },
        "id": "NEJQbsvZoo_m",
        "outputId": "44fafe82-3c35-4a6f-ea62-680895252832"
      },
      "source": [
        "heart_rt_df.head()"
      ],
      "execution_count": null,
      "outputs": [
        {
          "output_type": "execute_result",
          "data": {
            "text/html": [
              "<div>\n",
              "<style scoped>\n",
              "    .dataframe tbody tr th:only-of-type {\n",
              "        vertical-align: middle;\n",
              "    }\n",
              "\n",
              "    .dataframe tbody tr th {\n",
              "        vertical-align: top;\n",
              "    }\n",
              "\n",
              "    .dataframe thead th {\n",
              "        text-align: right;\n",
              "    }\n",
              "</style>\n",
              "<table border=\"1\" class=\"dataframe\">\n",
              "  <thead>\n",
              "    <tr style=\"text-align: right;\">\n",
              "      <th></th>\n",
              "      <th>uuid</th>\n",
              "      <th>SD1</th>\n",
              "      <th>SD2</th>\n",
              "      <th>sampen</th>\n",
              "      <th>higuci</th>\n",
              "      <th>datasetId</th>\n",
              "      <th>condition</th>\n",
              "    </tr>\n",
              "  </thead>\n",
              "  <tbody>\n",
              "    <tr>\n",
              "      <th>0</th>\n",
              "      <td>89df2855-56eb-4706-a23b-b39363dd605a</td>\n",
              "      <td>11.001565</td>\n",
              "      <td>199.061782</td>\n",
              "      <td>2.139754</td>\n",
              "      <td>1.163485</td>\n",
              "      <td>2</td>\n",
              "      <td>no stress</td>\n",
              "    </tr>\n",
              "    <tr>\n",
              "      <th>1</th>\n",
              "      <td>80c795e4-aa56-4cc0-939c-19634b89cbb2</td>\n",
              "      <td>9.170129</td>\n",
              "      <td>114.634458</td>\n",
              "      <td>2.174499</td>\n",
              "      <td>1.084711</td>\n",
              "      <td>2</td>\n",
              "      <td>interruption</td>\n",
              "    </tr>\n",
              "    <tr>\n",
              "      <th>2</th>\n",
              "      <td>c2d5d102-967c-487d-88f2-8b005a449f3e</td>\n",
              "      <td>11.533417</td>\n",
              "      <td>118.939253</td>\n",
              "      <td>2.135350</td>\n",
              "      <td>1.176315</td>\n",
              "      <td>2</td>\n",
              "      <td>interruption</td>\n",
              "    </tr>\n",
              "    <tr>\n",
              "      <th>3</th>\n",
              "      <td>37eabc44-1349-4040-8896-0d113ad4811f</td>\n",
              "      <td>11.119476</td>\n",
              "      <td>127.318597</td>\n",
              "      <td>2.178341</td>\n",
              "      <td>1.179688</td>\n",
              "      <td>2</td>\n",
              "      <td>no stress</td>\n",
              "    </tr>\n",
              "    <tr>\n",
              "      <th>4</th>\n",
              "      <td>aa777a6a-7aa3-4f6e-aced-70f8691dd2b7</td>\n",
              "      <td>13.590641</td>\n",
              "      <td>87.718281</td>\n",
              "      <td>2.221121</td>\n",
              "      <td>1.249612</td>\n",
              "      <td>2</td>\n",
              "      <td>no stress</td>\n",
              "    </tr>\n",
              "  </tbody>\n",
              "</table>\n",
              "</div>"
            ],
            "text/plain": [
              "                                   uuid        SD1  ...  datasetId     condition\n",
              "0  89df2855-56eb-4706-a23b-b39363dd605a  11.001565  ...          2     no stress\n",
              "1  80c795e4-aa56-4cc0-939c-19634b89cbb2   9.170129  ...          2  interruption\n",
              "2  c2d5d102-967c-487d-88f2-8b005a449f3e  11.533417  ...          2  interruption\n",
              "3  37eabc44-1349-4040-8896-0d113ad4811f  11.119476  ...          2     no stress\n",
              "4  aa777a6a-7aa3-4f6e-aced-70f8691dd2b7  13.590641  ...          2     no stress\n",
              "\n",
              "[5 rows x 7 columns]"
            ]
          },
          "metadata": {
            "tags": []
          },
          "execution_count": 13
        }
      ]
    },
    {
      "cell_type": "code",
      "metadata": {
        "colab": {
          "base_uri": "https://localhost:8080/",
          "height": 479
        },
        "id": "ewhAD3RposWX",
        "outputId": "30c42aa1-e143-404c-f200-227405e8c110"
      },
      "source": [
        "time_domain_df.head()"
      ],
      "execution_count": null,
      "outputs": [
        {
          "output_type": "execute_result",
          "data": {
            "text/html": [
              "<div>\n",
              "<style scoped>\n",
              "    .dataframe tbody tr th:only-of-type {\n",
              "        vertical-align: middle;\n",
              "    }\n",
              "\n",
              "    .dataframe tbody tr th {\n",
              "        vertical-align: top;\n",
              "    }\n",
              "\n",
              "    .dataframe thead th {\n",
              "        text-align: right;\n",
              "    }\n",
              "</style>\n",
              "<table border=\"1\" class=\"dataframe\">\n",
              "  <thead>\n",
              "    <tr style=\"text-align: right;\">\n",
              "      <th></th>\n",
              "      <th>MEAN_RR</th>\n",
              "      <th>MEDIAN_RR</th>\n",
              "      <th>SDRR</th>\n",
              "      <th>RMSSD</th>\n",
              "      <th>SDSD</th>\n",
              "      <th>SDRR_RMSSD</th>\n",
              "      <th>HR</th>\n",
              "      <th>pNN25</th>\n",
              "      <th>pNN50</th>\n",
              "      <th>KURT</th>\n",
              "      <th>SKEW</th>\n",
              "      <th>MEAN_REL_RR</th>\n",
              "      <th>MEDIAN_REL_RR</th>\n",
              "      <th>SDRR_REL_RR</th>\n",
              "      <th>RMSSD_REL_RR</th>\n",
              "      <th>SDSD_REL_RR</th>\n",
              "      <th>SDRR_RMSSD_REL_RR</th>\n",
              "      <th>KURT_REL_RR</th>\n",
              "      <th>SKEW_REL_RR</th>\n",
              "      <th>uuid</th>\n",
              "    </tr>\n",
              "  </thead>\n",
              "  <tbody>\n",
              "    <tr>\n",
              "      <th>0</th>\n",
              "      <td>885.157845</td>\n",
              "      <td>853.763730</td>\n",
              "      <td>140.972741</td>\n",
              "      <td>15.554505</td>\n",
              "      <td>15.553371</td>\n",
              "      <td>9.063146</td>\n",
              "      <td>69.499952</td>\n",
              "      <td>11.133333</td>\n",
              "      <td>0.533333</td>\n",
              "      <td>-0.856554</td>\n",
              "      <td>0.335218</td>\n",
              "      <td>-0.000203</td>\n",
              "      <td>-0.000179</td>\n",
              "      <td>0.017080</td>\n",
              "      <td>0.007969</td>\n",
              "      <td>0.007969</td>\n",
              "      <td>2.143342</td>\n",
              "      <td>-0.856554</td>\n",
              "      <td>0.335218</td>\n",
              "      <td>89df2855-56eb-4706-a23b-b39363dd605a</td>\n",
              "    </tr>\n",
              "    <tr>\n",
              "      <th>1</th>\n",
              "      <td>939.425371</td>\n",
              "      <td>948.357865</td>\n",
              "      <td>81.317742</td>\n",
              "      <td>12.964439</td>\n",
              "      <td>12.964195</td>\n",
              "      <td>6.272369</td>\n",
              "      <td>64.363150</td>\n",
              "      <td>5.600000</td>\n",
              "      <td>0.000000</td>\n",
              "      <td>-0.408190</td>\n",
              "      <td>-0.155286</td>\n",
              "      <td>-0.000059</td>\n",
              "      <td>0.000611</td>\n",
              "      <td>0.013978</td>\n",
              "      <td>0.004769</td>\n",
              "      <td>0.004769</td>\n",
              "      <td>2.930855</td>\n",
              "      <td>-0.408190</td>\n",
              "      <td>-0.155286</td>\n",
              "      <td>80c795e4-aa56-4cc0-939c-19634b89cbb2</td>\n",
              "    </tr>\n",
              "    <tr>\n",
              "      <th>2</th>\n",
              "      <td>898.186047</td>\n",
              "      <td>907.006860</td>\n",
              "      <td>84.497236</td>\n",
              "      <td>16.305279</td>\n",
              "      <td>16.305274</td>\n",
              "      <td>5.182201</td>\n",
              "      <td>67.450066</td>\n",
              "      <td>13.066667</td>\n",
              "      <td>0.200000</td>\n",
              "      <td>0.351789</td>\n",
              "      <td>-0.656813</td>\n",
              "      <td>-0.000011</td>\n",
              "      <td>-0.000263</td>\n",
              "      <td>0.018539</td>\n",
              "      <td>0.008716</td>\n",
              "      <td>0.008716</td>\n",
              "      <td>2.127053</td>\n",
              "      <td>0.351789</td>\n",
              "      <td>-0.656813</td>\n",
              "      <td>c2d5d102-967c-487d-88f2-8b005a449f3e</td>\n",
              "    </tr>\n",
              "    <tr>\n",
              "      <th>3</th>\n",
              "      <td>881.757865</td>\n",
              "      <td>893.460030</td>\n",
              "      <td>90.370537</td>\n",
              "      <td>15.720468</td>\n",
              "      <td>15.720068</td>\n",
              "      <td>5.748591</td>\n",
              "      <td>68.809562</td>\n",
              "      <td>11.800000</td>\n",
              "      <td>0.133333</td>\n",
              "      <td>-0.504947</td>\n",
              "      <td>-0.386138</td>\n",
              "      <td>0.000112</td>\n",
              "      <td>0.000494</td>\n",
              "      <td>0.017761</td>\n",
              "      <td>0.008660</td>\n",
              "      <td>0.008660</td>\n",
              "      <td>2.050988</td>\n",
              "      <td>-0.504947</td>\n",
              "      <td>-0.386138</td>\n",
              "      <td>37eabc44-1349-4040-8896-0d113ad4811f</td>\n",
              "    </tr>\n",
              "    <tr>\n",
              "      <th>4</th>\n",
              "      <td>809.625331</td>\n",
              "      <td>811.184865</td>\n",
              "      <td>62.766242</td>\n",
              "      <td>19.213819</td>\n",
              "      <td>19.213657</td>\n",
              "      <td>3.266724</td>\n",
              "      <td>74.565728</td>\n",
              "      <td>20.200000</td>\n",
              "      <td>0.200000</td>\n",
              "      <td>-0.548408</td>\n",
              "      <td>-0.154252</td>\n",
              "      <td>-0.000100</td>\n",
              "      <td>-0.002736</td>\n",
              "      <td>0.023715</td>\n",
              "      <td>0.013055</td>\n",
              "      <td>0.013055</td>\n",
              "      <td>1.816544</td>\n",
              "      <td>-0.548408</td>\n",
              "      <td>-0.154252</td>\n",
              "      <td>aa777a6a-7aa3-4f6e-aced-70f8691dd2b7</td>\n",
              "    </tr>\n",
              "  </tbody>\n",
              "</table>\n",
              "</div>"
            ],
            "text/plain": [
              "      MEAN_RR   MEDIAN_RR  ...  SKEW_REL_RR                                  uuid\n",
              "0  885.157845  853.763730  ...     0.335218  89df2855-56eb-4706-a23b-b39363dd605a\n",
              "1  939.425371  948.357865  ...    -0.155286  80c795e4-aa56-4cc0-939c-19634b89cbb2\n",
              "2  898.186047  907.006860  ...    -0.656813  c2d5d102-967c-487d-88f2-8b005a449f3e\n",
              "3  881.757865  893.460030  ...    -0.386138  37eabc44-1349-4040-8896-0d113ad4811f\n",
              "4  809.625331  811.184865  ...    -0.154252  aa777a6a-7aa3-4f6e-aced-70f8691dd2b7\n",
              "\n",
              "[5 rows x 20 columns]"
            ]
          },
          "metadata": {
            "tags": []
          },
          "execution_count": 14
        }
      ]
    },
    {
      "cell_type": "code",
      "metadata": {
        "id": "LPJcMup8qts_"
      },
      "source": [
        "train_df = freq_domain_df.merge(heart_rt_df,on='uuid').merge(time_domain_df,on='uuid')"
      ],
      "execution_count": null,
      "outputs": []
    },
    {
      "cell_type": "code",
      "metadata": {
        "colab": {
          "base_uri": "https://localhost:8080/"
        },
        "id": "dgTtZ8ucpTMf",
        "outputId": "f8022e82-c038-42a7-a4d1-46d3b8d1bb5d"
      },
      "source": [
        "train_df.shape"
      ],
      "execution_count": null,
      "outputs": [
        {
          "output_type": "execute_result",
          "data": {
            "text/plain": [
              "(369289, 37)"
            ]
          },
          "metadata": {
            "tags": []
          },
          "execution_count": 9
        }
      ]
    },
    {
      "cell_type": "code",
      "metadata": {
        "colab": {
          "base_uri": "https://localhost:8080/"
        },
        "id": "mNaFMv2CErYB",
        "outputId": "20acb96a-6ddc-43f3-c67c-420c1d33bfe9"
      },
      "source": [
        "train_df.info()"
      ],
      "execution_count": null,
      "outputs": [
        {
          "output_type": "stream",
          "text": [
            "<class 'pandas.core.frame.DataFrame'>\n",
            "Int64Index: 369289 entries, 0 to 369288\n",
            "Data columns (total 37 columns):\n",
            " #   Column             Non-Null Count   Dtype  \n",
            "---  ------             --------------   -----  \n",
            " 0   uuid               369289 non-null  object \n",
            " 1   VLF                369289 non-null  float64\n",
            " 2   VLF_PCT            369289 non-null  float64\n",
            " 3   LF                 369289 non-null  float64\n",
            " 4   LF_PCT             369289 non-null  float64\n",
            " 5   LF_NU              369289 non-null  float64\n",
            " 6   HF                 369289 non-null  float64\n",
            " 7   HF_PCT             369289 non-null  float64\n",
            " 8   HF_NU              369289 non-null  float64\n",
            " 9   TP                 369289 non-null  float64\n",
            " 10  LF_HF              369289 non-null  float64\n",
            " 11  HF_LF              369289 non-null  float64\n",
            " 12  SD1                369289 non-null  float64\n",
            " 13  SD2                369289 non-null  float64\n",
            " 14  sampen             369289 non-null  float64\n",
            " 15  higuci             369289 non-null  float64\n",
            " 16  datasetId          369289 non-null  int64  \n",
            " 17  condition          369289 non-null  object \n",
            " 18  MEAN_RR            369289 non-null  float64\n",
            " 19  MEDIAN_RR          369289 non-null  float64\n",
            " 20  SDRR               369289 non-null  float64\n",
            " 21  RMSSD              369289 non-null  float64\n",
            " 22  SDSD               369289 non-null  float64\n",
            " 23  SDRR_RMSSD         369289 non-null  float64\n",
            " 24  HR                 369289 non-null  float64\n",
            " 25  pNN25              369289 non-null  float64\n",
            " 26  pNN50              369289 non-null  float64\n",
            " 27  KURT               369289 non-null  float64\n",
            " 28  SKEW               369289 non-null  float64\n",
            " 29  MEAN_REL_RR        369289 non-null  float64\n",
            " 30  MEDIAN_REL_RR      369289 non-null  float64\n",
            " 31  SDRR_REL_RR        369289 non-null  float64\n",
            " 32  RMSSD_REL_RR       369289 non-null  float64\n",
            " 33  SDSD_REL_RR        369289 non-null  float64\n",
            " 34  SDRR_RMSSD_REL_RR  369289 non-null  float64\n",
            " 35  KURT_REL_RR        369289 non-null  float64\n",
            " 36  SKEW_REL_RR        369289 non-null  float64\n",
            "dtypes: float64(34), int64(1), object(2)\n",
            "memory usage: 107.1+ MB\n"
          ],
          "name": "stdout"
        }
      ]
    },
    {
      "cell_type": "code",
      "metadata": {
        "colab": {
          "base_uri": "https://localhost:8080/"
        },
        "id": "k6I14z6xFXsW",
        "outputId": "4d6b6420-d3c2-4a10-bfec-fbd9da40fd0b"
      },
      "source": [
        "train_df.isna().sum()"
      ],
      "execution_count": null,
      "outputs": [
        {
          "output_type": "execute_result",
          "data": {
            "text/plain": [
              "uuid                 0\n",
              "VLF                  0\n",
              "VLF_PCT              0\n",
              "LF                   0\n",
              "LF_PCT               0\n",
              "LF_NU                0\n",
              "HF                   0\n",
              "HF_PCT               0\n",
              "HF_NU                0\n",
              "TP                   0\n",
              "LF_HF                0\n",
              "HF_LF                0\n",
              "SD1                  0\n",
              "SD2                  0\n",
              "sampen               0\n",
              "higuci               0\n",
              "datasetId            0\n",
              "condition            0\n",
              "MEAN_RR              0\n",
              "MEDIAN_RR            0\n",
              "SDRR                 0\n",
              "RMSSD                0\n",
              "SDSD                 0\n",
              "SDRR_RMSSD           0\n",
              "HR                   0\n",
              "pNN25                0\n",
              "pNN50                0\n",
              "KURT                 0\n",
              "SKEW                 0\n",
              "MEAN_REL_RR          0\n",
              "MEDIAN_REL_RR        0\n",
              "SDRR_REL_RR          0\n",
              "RMSSD_REL_RR         0\n",
              "SDSD_REL_RR          0\n",
              "SDRR_RMSSD_REL_RR    0\n",
              "KURT_REL_RR          0\n",
              "SKEW_REL_RR          0\n",
              "dtype: int64"
            ]
          },
          "metadata": {
            "tags": []
          },
          "execution_count": 16
        }
      ]
    },
    {
      "cell_type": "code",
      "metadata": {
        "colab": {
          "base_uri": "https://localhost:8080/"
        },
        "id": "ny4-yZIDpUmQ",
        "outputId": "8586eb7a-26c0-4f10-88ed-1a2b7c553421"
      },
      "source": [
        "train_df.condition.value_counts()"
      ],
      "execution_count": null,
      "outputs": [
        {
          "output_type": "execute_result",
          "data": {
            "text/plain": [
              "no stress        200082\n",
              "interruption     105150\n",
              "time pressure     64057\n",
              "Name: condition, dtype: int64"
            ]
          },
          "metadata": {
            "tags": []
          },
          "execution_count": 15
        }
      ]
    },
    {
      "cell_type": "code",
      "metadata": {
        "colab": {
          "base_uri": "https://localhost:8080/",
          "height": 294
        },
        "id": "zozxM3F6vphQ",
        "outputId": "c21f2c95-36e2-47e5-8d52-c3ea8be26560"
      },
      "source": [
        "p = sns.kdeplot((train_df['HR'].values), shade=True)\n",
        "t = plt.suptitle(\"Distribution of Heart Rate\")"
      ],
      "execution_count": null,
      "outputs": [
        {
          "output_type": "display_data",
          "data": {
            "image/png": "[encoded data removed]",
            "text/plain": [
              "<Figure size 432x288 with 1 Axes>"
            ]
          },
          "metadata": {
            "tags": []
          }
        }
      ]
    },
    {
      "cell_type": "code",
      "metadata": {
        "colab": {
          "base_uri": "https://localhost:8080/",
          "height": 312
        },
        "id": "PEL44EVS2xw2",
        "outputId": "0cfe1361-a666-421e-b158-481dc5e102df"
      },
      "source": [
        "sns.boxplot(x='HR',y='condition',data=train_df)\n",
        "plt.title(\"Relation between heart rate and condition\")"
      ],
      "execution_count": null,
      "outputs": [
        {
          "output_type": "execute_result",
          "data": {
            "text/plain": [
              "Text(0.5, 1.0, 'Relation between heart rate and condition')"
            ]
          },
          "metadata": {
            "tags": []
          },
          "execution_count": 19
        },
        {
          "output_type": "display_data",
          "data": {
            "image/png": "[encoded data removed]",
            "text/plain": [
              "<Figure size 432x288 with 1 Axes>"
            ]
          },
          "metadata": {
            "tags": []
          }
        }
      ]
    },
    {
      "cell_type": "code",
      "metadata": {
        "colab": {
          "base_uri": "https://localhost:8080/",
          "height": 317
        },
        "id": "EcOis_ZoMfzP",
        "outputId": "493a5f9c-8215-407b-e45f-400fa7479231"
      },
      "source": [
        "train_df.describe()"
      ],
      "execution_count": null,
      "outputs": [
        {
          "output_type": "execute_result",
          "data": {
            "text/html": [
              "<div>\n",
              "<style scoped>\n",
              "    .dataframe tbody tr th:only-of-type {\n",
              "        vertical-align: middle;\n",
              "    }\n",
              "\n",
              "    .dataframe tbody tr th {\n",
              "        vertical-align: top;\n",
              "    }\n",
              "\n",
              "    .dataframe thead th {\n",
              "        text-align: right;\n",
              "    }\n",
              "</style>\n",
              "<table border=\"1\" class=\"dataframe\">\n",
              "  <thead>\n",
              "    <tr style=\"text-align: right;\">\n",
              "      <th></th>\n",
              "      <th>VLF</th>\n",
              "      <th>VLF_PCT</th>\n",
              "      <th>LF</th>\n",
              "      <th>LF_PCT</th>\n",
              "      <th>LF_NU</th>\n",
              "      <th>HF</th>\n",
              "      <th>HF_PCT</th>\n",
              "      <th>HF_NU</th>\n",
              "      <th>TP</th>\n",
              "      <th>LF_HF</th>\n",
              "      <th>HF_LF</th>\n",
              "      <th>SD1</th>\n",
              "      <th>SD2</th>\n",
              "      <th>sampen</th>\n",
              "      <th>higuci</th>\n",
              "      <th>datasetId</th>\n",
              "      <th>MEAN_RR</th>\n",
              "      <th>MEDIAN_RR</th>\n",
              "      <th>SDRR</th>\n",
              "      <th>RMSSD</th>\n",
              "      <th>SDSD</th>\n",
              "      <th>SDRR_RMSSD</th>\n",
              "      <th>HR</th>\n",
              "      <th>pNN25</th>\n",
              "      <th>pNN50</th>\n",
              "      <th>KURT</th>\n",
              "      <th>SKEW</th>\n",
              "      <th>MEAN_REL_RR</th>\n",
              "      <th>MEDIAN_REL_RR</th>\n",
              "      <th>SDRR_REL_RR</th>\n",
              "      <th>RMSSD_REL_RR</th>\n",
              "      <th>SDSD_REL_RR</th>\n",
              "      <th>SDRR_RMSSD_REL_RR</th>\n",
              "      <th>KURT_REL_RR</th>\n",
              "      <th>SKEW_REL_RR</th>\n",
              "    </tr>\n",
              "  </thead>\n",
              "  <tbody>\n",
              "    <tr>\n",
              "      <th>count</th>\n",
              "      <td>369289.000000</td>\n",
              "      <td>369289.000000</td>\n",
              "      <td>369289.000000</td>\n",
              "      <td>369289.000000</td>\n",
              "      <td>369289.000000</td>\n",
              "      <td>369289.000000</td>\n",
              "      <td>369289.000000</td>\n",
              "      <td>369289.000000</td>\n",
              "      <td>369289.000000</td>\n",
              "      <td>369289.000000</td>\n",
              "      <td>369289.000000</td>\n",
              "      <td>369289.000000</td>\n",
              "      <td>369289.000000</td>\n",
              "      <td>369289.000000</td>\n",
              "      <td>369289.000000</td>\n",
              "      <td>369289.0</td>\n",
              "      <td>369289.000000</td>\n",
              "      <td>369289.000000</td>\n",
              "      <td>369289.000000</td>\n",
              "      <td>369289.000000</td>\n",
              "      <td>369289.000000</td>\n",
              "      <td>369289.000000</td>\n",
              "      <td>369289.000000</td>\n",
              "      <td>369289.000000</td>\n",
              "      <td>369289.000000</td>\n",
              "      <td>369289.000000</td>\n",
              "      <td>369289.000000</td>\n",
              "      <td>3.692890e+05</td>\n",
              "      <td>369289.000000</td>\n",
              "      <td>369289.000000</td>\n",
              "      <td>369289.000000</td>\n",
              "      <td>369289.000000</td>\n",
              "      <td>369289.000000</td>\n",
              "      <td>369289.000000</td>\n",
              "      <td>369289.000000</td>\n",
              "    </tr>\n",
              "    <tr>\n",
              "      <th>mean</th>\n",
              "      <td>2199.580170</td>\n",
              "      <td>64.289242</td>\n",
              "      <td>946.530252</td>\n",
              "      <td>34.095182</td>\n",
              "      <td>95.566718</td>\n",
              "      <td>39.245603</td>\n",
              "      <td>1.615576</td>\n",
              "      <td>4.433282</td>\n",
              "      <td>3185.356025</td>\n",
              "      <td>115.977200</td>\n",
              "      <td>0.048506</td>\n",
              "      <td>10.593708</td>\n",
              "      <td>154.178997</td>\n",
              "      <td>2.062471</td>\n",
              "      <td>1.182292</td>\n",
              "      <td>2.0</td>\n",
              "      <td>846.650104</td>\n",
              "      <td>841.965890</td>\n",
              "      <td>109.352531</td>\n",
              "      <td>14.977498</td>\n",
              "      <td>14.976767</td>\n",
              "      <td>7.396597</td>\n",
              "      <td>73.941824</td>\n",
              "      <td>9.841143</td>\n",
              "      <td>0.866001</td>\n",
              "      <td>0.523235</td>\n",
              "      <td>0.041628</td>\n",
              "      <td>-1.756587e-06</td>\n",
              "      <td>-0.000465</td>\n",
              "      <td>0.018571</td>\n",
              "      <td>0.009701</td>\n",
              "      <td>0.009701</td>\n",
              "      <td>2.006817</td>\n",
              "      <td>0.523235</td>\n",
              "      <td>0.041628</td>\n",
              "    </tr>\n",
              "    <tr>\n",
              "      <th>std</th>\n",
              "      <td>1815.773422</td>\n",
              "      <td>16.774844</td>\n",
              "      <td>574.171780</td>\n",
              "      <td>16.040290</td>\n",
              "      <td>4.123365</td>\n",
              "      <td>45.398869</td>\n",
              "      <td>1.761073</td>\n",
              "      <td>4.123365</td>\n",
              "      <td>1923.227187</td>\n",
              "      <td>360.855129</td>\n",
              "      <td>0.049238</td>\n",
              "      <td>2.914795</td>\n",
              "      <td>109.170222</td>\n",
              "      <td>0.206999</td>\n",
              "      <td>0.062192</td>\n",
              "      <td>0.0</td>\n",
              "      <td>124.603984</td>\n",
              "      <td>132.321005</td>\n",
              "      <td>77.117025</td>\n",
              "      <td>4.120766</td>\n",
              "      <td>4.120768</td>\n",
              "      <td>5.143834</td>\n",
              "      <td>10.337453</td>\n",
              "      <td>8.195574</td>\n",
              "      <td>0.990189</td>\n",
              "      <td>1.790348</td>\n",
              "      <td>0.699522</td>\n",
              "      <td>1.630256e-04</td>\n",
              "      <td>0.000868</td>\n",
              "      <td>0.005455</td>\n",
              "      <td>0.003897</td>\n",
              "      <td>0.003897</td>\n",
              "      <td>0.375845</td>\n",
              "      <td>1.790348</td>\n",
              "      <td>0.699522</td>\n",
              "    </tr>\n",
              "    <tr>\n",
              "      <th>min</th>\n",
              "      <td>159.480176</td>\n",
              "      <td>19.031219</td>\n",
              "      <td>90.048557</td>\n",
              "      <td>2.165119</td>\n",
              "      <td>69.879083</td>\n",
              "      <td>0.061783</td>\n",
              "      <td>0.002150</td>\n",
              "      <td>0.012825</td>\n",
              "      <td>377.692795</td>\n",
              "      <td>2.319952</td>\n",
              "      <td>0.000128</td>\n",
              "      <td>3.911344</td>\n",
              "      <td>38.307745</td>\n",
              "      <td>0.434576</td>\n",
              "      <td>1.033984</td>\n",
              "      <td>2.0</td>\n",
              "      <td>547.492221</td>\n",
              "      <td>517.293295</td>\n",
              "      <td>27.233947</td>\n",
              "      <td>5.529742</td>\n",
              "      <td>5.529630</td>\n",
              "      <td>2.660381</td>\n",
              "      <td>48.737243</td>\n",
              "      <td>0.000000</td>\n",
              "      <td>0.000000</td>\n",
              "      <td>-1.894820</td>\n",
              "      <td>-2.136278</td>\n",
              "      <td>-1.233914e-03</td>\n",
              "      <td>-0.004425</td>\n",
              "      <td>0.008987</td>\n",
              "      <td>0.003220</td>\n",
              "      <td>0.003220</td>\n",
              "      <td>1.169342</td>\n",
              "      <td>-1.894820</td>\n",
              "      <td>-2.136278</td>\n",
              "    </tr>\n",
              "    <tr>\n",
              "      <th>25%</th>\n",
              "      <td>1001.189280</td>\n",
              "      <td>52.909877</td>\n",
              "      <td>545.449386</td>\n",
              "      <td>22.305936</td>\n",
              "      <td>93.645734</td>\n",
              "      <td>10.720312</td>\n",
              "      <td>0.346803</td>\n",
              "      <td>1.228054</td>\n",
              "      <td>1828.147788</td>\n",
              "      <td>14.737458</td>\n",
              "      <td>0.012433</td>\n",
              "      <td>8.368340</td>\n",
              "      <td>90.326864</td>\n",
              "      <td>2.032977</td>\n",
              "      <td>1.139929</td>\n",
              "      <td>2.0</td>\n",
              "      <td>760.228533</td>\n",
              "      <td>755.750735</td>\n",
              "      <td>64.205641</td>\n",
              "      <td>11.830959</td>\n",
              "      <td>11.830671</td>\n",
              "      <td>4.541896</td>\n",
              "      <td>66.715776</td>\n",
              "      <td>3.666667</td>\n",
              "      <td>0.000000</td>\n",
              "      <td>-0.352783</td>\n",
              "      <td>-0.359291</td>\n",
              "      <td>-7.281695e-05</td>\n",
              "      <td>-0.000917</td>\n",
              "      <td>0.014261</td>\n",
              "      <td>0.006984</td>\n",
              "      <td>0.006984</td>\n",
              "      <td>1.749801</td>\n",
              "      <td>-0.352783</td>\n",
              "      <td>-0.359291</td>\n",
              "    </tr>\n",
              "    <tr>\n",
              "      <th>50%</th>\n",
              "      <td>1667.903111</td>\n",
              "      <td>66.350237</td>\n",
              "      <td>782.716291</td>\n",
              "      <td>32.047025</td>\n",
              "      <td>96.643140</td>\n",
              "      <td>24.841938</td>\n",
              "      <td>1.039513</td>\n",
              "      <td>3.356860</td>\n",
              "      <td>2796.856587</td>\n",
              "      <td>28.789747</td>\n",
              "      <td>0.034735</td>\n",
              "      <td>10.196621</td>\n",
              "      <td>116.221063</td>\n",
              "      <td>2.134214</td>\n",
              "      <td>1.174293</td>\n",
              "      <td>2.0</td>\n",
              "      <td>822.951438</td>\n",
              "      <td>819.689595</td>\n",
              "      <td>82.608243</td>\n",
              "      <td>14.415918</td>\n",
              "      <td>14.415388</td>\n",
              "      <td>5.952112</td>\n",
              "      <td>74.217809</td>\n",
              "      <td>7.600000</td>\n",
              "      <td>0.466667</td>\n",
              "      <td>0.040736</td>\n",
              "      <td>-0.060966</td>\n",
              "      <td>-9.330777e-07</td>\n",
              "      <td>-0.000312</td>\n",
              "      <td>0.017318</td>\n",
              "      <td>0.008691</td>\n",
              "      <td>0.008691</td>\n",
              "      <td>1.934416</td>\n",
              "      <td>0.040736</td>\n",
              "      <td>-0.060966</td>\n",
              "    </tr>\n",
              "    <tr>\n",
              "      <th>75%</th>\n",
              "      <td>2654.121052</td>\n",
              "      <td>76.825032</td>\n",
              "      <td>1201.432256</td>\n",
              "      <td>44.647115</td>\n",
              "      <td>98.771946</td>\n",
              "      <td>45.272368</td>\n",
              "      <td>2.245115</td>\n",
              "      <td>6.354266</td>\n",
              "      <td>4052.260157</td>\n",
              "      <td>80.429614</td>\n",
              "      <td>0.067854</td>\n",
              "      <td>12.679005</td>\n",
              "      <td>166.764850</td>\n",
              "      <td>2.181929</td>\n",
              "      <td>1.223621</td>\n",
              "      <td>2.0</td>\n",
              "      <td>924.117422</td>\n",
              "      <td>916.821570</td>\n",
              "      <td>118.237002</td>\n",
              "      <td>17.927144</td>\n",
              "      <td>17.924839</td>\n",
              "      <td>7.919841</td>\n",
              "      <td>80.334937</td>\n",
              "      <td>13.333333</td>\n",
              "      <td>1.466667</td>\n",
              "      <td>0.722833</td>\n",
              "      <td>0.282417</td>\n",
              "      <td>6.911667e-05</td>\n",
              "      <td>0.000131</td>\n",
              "      <td>0.021827</td>\n",
              "      <td>0.011460</td>\n",
              "      <td>0.011460</td>\n",
              "      <td>2.221232</td>\n",
              "      <td>0.722833</td>\n",
              "      <td>0.282417</td>\n",
              "    </tr>\n",
              "    <tr>\n",
              "      <th>max</th>\n",
              "      <td>12617.977191</td>\n",
              "      <td>97.738848</td>\n",
              "      <td>3291.548112</td>\n",
              "      <td>77.928847</td>\n",
              "      <td>99.987175</td>\n",
              "      <td>364.486936</td>\n",
              "      <td>13.095664</td>\n",
              "      <td>30.120917</td>\n",
              "      <td>13390.684098</td>\n",
              "      <td>7796.443096</td>\n",
              "      <td>0.431043</td>\n",
              "      <td>18.836107</td>\n",
              "      <td>796.852945</td>\n",
              "      <td>2.234841</td>\n",
              "      <td>1.361219</td>\n",
              "      <td>2.0</td>\n",
              "      <td>1322.016957</td>\n",
              "      <td>1653.122250</td>\n",
              "      <td>563.486949</td>\n",
              "      <td>26.629477</td>\n",
              "      <td>26.629392</td>\n",
              "      <td>54.523950</td>\n",
              "      <td>113.752309</td>\n",
              "      <td>39.400000</td>\n",
              "      <td>5.466667</td>\n",
              "      <td>64.088107</td>\n",
              "      <td>6.777800</td>\n",
              "      <td>1.244098e-03</td>\n",
              "      <td>0.002095</td>\n",
              "      <td>0.036571</td>\n",
              "      <td>0.026955</td>\n",
              "      <td>0.026955</td>\n",
              "      <td>3.724134</td>\n",
              "      <td>64.088107</td>\n",
              "      <td>6.777800</td>\n",
              "    </tr>\n",
              "  </tbody>\n",
              "</table>\n",
              "</div>"
            ],
            "text/plain": [
              "                 VLF        VLF_PCT  ...    KURT_REL_RR    SKEW_REL_RR\n",
              "count  369289.000000  369289.000000  ...  369289.000000  369289.000000\n",
              "mean     2199.580170      64.289242  ...       0.523235       0.041628\n",
              "std      1815.773422      16.774844  ...       1.790348       0.699522\n",
              "min       159.480176      19.031219  ...      -1.894820      -2.136278\n",
              "25%      1001.189280      52.909877  ...      -0.352783      -0.359291\n",
              "50%      1667.903111      66.350237  ...       0.040736      -0.060966\n",
              "75%      2654.121052      76.825032  ...       0.722833       0.282417\n",
              "max     12617.977191      97.738848  ...      64.088107       6.777800\n",
              "\n",
              "[8 rows x 35 columns]"
            ]
          },
          "metadata": {
            "tags": []
          },
          "execution_count": 20
        }
      ]
    },
    {
      "cell_type": "code",
      "metadata": {
        "colab": {
          "base_uri": "https://localhost:8080/"
        },
        "id": "fSdZ0RvPTGVs",
        "outputId": "1c5d89ea-2965-402a-b78d-ed14f606afde"
      },
      "source": [
        "train_df.columns"
      ],
      "execution_count": null,
      "outputs": [
        {
          "output_type": "execute_result",
          "data": {
            "text/plain": [
              "Index(['uuid', 'VLF', 'VLF_PCT', 'LF', 'LF_PCT', 'LF_NU', 'HF', 'HF_PCT',\n",
              "       'HF_NU', 'TP', 'LF_HF', 'HF_LF', 'SD1', 'SD2', 'sampen', 'higuci',\n",
              "       'datasetId', 'condition', 'MEAN_RR', 'MEDIAN_RR', 'SDRR', 'RMSSD',\n",
              "       'SDSD', 'SDRR_RMSSD', 'HR', 'pNN25', 'pNN50', 'KURT', 'SKEW',\n",
              "       'MEAN_REL_RR', 'MEDIAN_REL_RR', 'SDRR_REL_RR', 'RMSSD_REL_RR',\n",
              "       'SDSD_REL_RR', 'SDRR_RMSSD_REL_RR', 'KURT_REL_RR', 'SKEW_REL_RR'],\n",
              "      dtype='object')"
            ]
          },
          "metadata": {
            "tags": []
          },
          "execution_count": 10
        }
      ]
    },
    {
      "cell_type": "code",
      "metadata": {
        "id": "p61sOP1rY-Rf"
      },
      "source": [
        "train_df = train_df[['uuid', 'VLF', 'VLF_PCT', 'LF', 'LF_PCT', 'LF_NU', 'HF', 'HF_PCT',\n",
        "       'HF_NU', 'TP', 'LF_HF', 'HF_LF', 'SD1', 'SD2', 'sampen', 'higuci',\n",
        "       'datasetId', 'condition', 'MEAN_RR', 'MEDIAN_RR', 'SDRR', 'RMSSD',\n",
        "       'SDSD', 'SDRR_RMSSD', 'pNN25', 'pNN50', 'KURT', 'SKEW',\n",
        "       'MEAN_REL_RR', 'MEDIAN_REL_RR', 'SDRR_REL_RR', 'RMSSD_REL_RR',\n",
        "       'SDSD_REL_RR', 'SDRR_RMSSD_REL_RR', 'KURT_REL_RR', 'SKEW_REL_RR','HR']]"
      ],
      "execution_count": null,
      "outputs": []
    },
    {
      "cell_type": "markdown",
      "metadata": {
        "id": "ZaKQQu0AgjMH"
      },
      "source": [
        "Converting condition to One hot encoded values"
      ]
    },
    {
      "cell_type": "code",
      "metadata": {
        "id": "QxgiOhg4w5a3"
      },
      "source": [
        "enc = OneHotEncoder(handle_unknown='ignore')"
      ],
      "execution_count": null,
      "outputs": []
    },
    {
      "cell_type": "code",
      "metadata": {
        "id": "dDeh-RNQw9op"
      },
      "source": [
        "enc_df = pd.DataFrame(enc.fit_transform(train_df[['condition']]).toarray())"
      ],
      "execution_count": null,
      "outputs": []
    },
    {
      "cell_type": "code",
      "metadata": {
        "id": "ZT52onI9xglY"
      },
      "source": [
        "train_df = train_df.join(enc_df)"
      ],
      "execution_count": null,
      "outputs": []
    },
    {
      "cell_type": "code",
      "metadata": {
        "colab": {
          "base_uri": "https://localhost:8080/"
        },
        "id": "H5kBRVPQxny1",
        "outputId": "66aff093-fca8-4ca0-8711-bf343c764564"
      },
      "source": [
        "train_df.columns"
      ],
      "execution_count": null,
      "outputs": [
        {
          "output_type": "execute_result",
          "data": {
            "text/plain": [
              "Index([             'uuid',               'VLF',           'VLF_PCT',\n",
              "                      'LF',            'LF_PCT',             'LF_NU',\n",
              "                      'HF',            'HF_PCT',             'HF_NU',\n",
              "                      'TP',             'LF_HF',             'HF_LF',\n",
              "                     'SD1',               'SD2',            'sampen',\n",
              "                  'higuci',         'datasetId',         'condition',\n",
              "                 'MEAN_RR',         'MEDIAN_RR',              'SDRR',\n",
              "                   'RMSSD',              'SDSD',        'SDRR_RMSSD',\n",
              "                   'pNN25',             'pNN50',              'KURT',\n",
              "                    'SKEW',       'MEAN_REL_RR',     'MEDIAN_REL_RR',\n",
              "             'SDRR_REL_RR',      'RMSSD_REL_RR',       'SDSD_REL_RR',\n",
              "       'SDRR_RMSSD_REL_RR',       'KURT_REL_RR',       'SKEW_REL_RR',\n",
              "                      'HR',                   0,                   1,\n",
              "                         2],\n",
              "      dtype='object')"
            ]
          },
          "metadata": {
            "tags": []
          },
          "execution_count": 16
        }
      ]
    },
    {
      "cell_type": "code",
      "metadata": {
        "id": "8wLZ6N_dxzc1"
      },
      "source": [
        "train_df = train_df[['uuid','VLF','VLF_PCT','LF','LF_PCT','LF_NU','HF','HF_PCT','HF_NU','TP','LF_HF','HF_LF','SD1','SD2','sampen','higuci','MEAN_RR','MEDIAN_RR','SDRR','RMSSD','SDSD','SDRR_RMSSD','pNN25','pNN50','KURT','SKEW','MEAN_REL_RR','MEDIAN_REL_RR','SDRR_REL_RR','RMSSD_REL_RR','SDSD_REL_RR','SDRR_RMSSD_REL_RR','KURT_REL_RR', 'SKEW_REL_RR',0,1,2,'HR']]"
      ],
      "execution_count": null,
      "outputs": []
    },
    {
      "cell_type": "code",
      "metadata": {
        "id": "_HQX5PHlz0Rn"
      },
      "source": [
        "train_df = train_df.rename(columns={0:'condition_0',1:'condition_1',2:'condition_2'})"
      ],
      "execution_count": null,
      "outputs": []
    },
    {
      "cell_type": "markdown",
      "metadata": {
        "id": "wqgccV-Qu5vu"
      },
      "source": [
        "#Checking for outliers and skew"
      ]
    },
    {
      "cell_type": "code",
      "metadata": {
        "colab": {
          "base_uri": "https://localhost:8080/",
          "height": 350
        },
        "id": "pCQuW-cksyMS",
        "outputId": "48d9b231-2e8a-48e1-c234-2da4526af396"
      },
      "source": [
        "sns.distplot(train_df['VLF'])"
      ],
      "execution_count": null,
      "outputs": [
        {
          "output_type": "stream",
          "text": [
            "/usr/local/lib/python3.6/dist-packages/seaborn/distributions.py:2551: FutureWarning: `distplot` is a deprecated function and will be removed in a future version. Please adapt your code to use either `displot` (a figure-level function with similar flexibility) or `histplot` (an axes-level function for histograms).\n",
            "  warnings.warn(msg, FutureWarning)\n"
          ],
          "name": "stderr"
        },
        {
          "output_type": "execute_result",
          "data": {
            "text/plain": [
              "<matplotlib.axes._subplots.AxesSubplot at 0x7f2a6f4497b8>"
            ]
          },
          "metadata": {
            "tags": []
          },
          "execution_count": 30
        },
        {
          "output_type": "display_data",
          "data": {
            "image/png": "[encoded data removed]",
            "text/plain": [
              "<Figure size 432x288 with 1 Axes>"
            ]
          },
          "metadata": {
            "tags": []
          }
        }
      ]
    },
    {
      "cell_type": "code",
      "metadata": {
        "colab": {
          "base_uri": "https://localhost:8080/",
          "height": 351
        },
        "id": "_l6Aadg6UDgj",
        "outputId": "789f41f9-f6ae-42c3-ea50-cfde581ceedf"
      },
      "source": [
        "sns.distplot(train_df['VLF_PCT'])"
      ],
      "execution_count": null,
      "outputs": [
        {
          "output_type": "stream",
          "text": [
            "/usr/local/lib/python3.6/dist-packages/seaborn/distributions.py:2551: FutureWarning: `distplot` is a deprecated function and will be removed in a future version. Please adapt your code to use either `displot` (a figure-level function with similar flexibility) or `histplot` (an axes-level function for histograms).\n",
            "  warnings.warn(msg, FutureWarning)\n"
          ],
          "name": "stderr"
        },
        {
          "output_type": "execute_result",
          "data": {
            "text/plain": [
              "<matplotlib.axes._subplots.AxesSubplot at 0x7f2a6f911588>"
            ]
          },
          "metadata": {
            "tags": []
          },
          "execution_count": 31
        },
        {
          "output_type": "display_data",
          "data": {
            "image/png": "[encoded data removed]",
            "text/plain": [
              "<Figure size 432x288 with 1 Axes>"
            ]
          },
          "metadata": {
            "tags": []
          }
        }
      ]
    },
    {
      "cell_type": "markdown",
      "metadata": {
        "id": "Q45a86zctn7s"
      },
      "source": [
        "Have to see if VLF_PCT can be binned"
      ]
    },
    {
      "cell_type": "code",
      "metadata": {
        "colab": {
          "base_uri": "https://localhost:8080/",
          "height": 350
        },
        "id": "kt8iYIRJUTo6",
        "outputId": "aa229289-6986-4f14-d15f-5f17e4d20ea2"
      },
      "source": [
        "sns.distplot(train_df['LF'])"
      ],
      "execution_count": null,
      "outputs": [
        {
          "output_type": "stream",
          "text": [
            "/usr/local/lib/python3.6/dist-packages/seaborn/distributions.py:2551: FutureWarning: `distplot` is a deprecated function and will be removed in a future version. Please adapt your code to use either `displot` (a figure-level function with similar flexibility) or `histplot` (an axes-level function for histograms).\n",
            "  warnings.warn(msg, FutureWarning)\n"
          ],
          "name": "stderr"
        },
        {
          "output_type": "execute_result",
          "data": {
            "text/plain": [
              "<matplotlib.axes._subplots.AxesSubplot at 0x7f2a6f236588>"
            ]
          },
          "metadata": {
            "tags": []
          },
          "execution_count": 32
        },
        {
          "output_type": "display_data",
          "data": {
            "image/png": "[encoded data removed]",
            "text/plain": [
              "<Figure size 432x288 with 1 Axes>"
            ]
          },
          "metadata": {
            "tags": []
          }
        }
      ]
    },
    {
      "cell_type": "code",
      "metadata": {
        "colab": {
          "base_uri": "https://localhost:8080/",
          "height": 354
        },
        "id": "Nj_VU_PqUdse",
        "outputId": "ee47ecbc-15e0-497a-9dd0-4aca2ded4f7f"
      },
      "source": [
        "sns.distplot(train_df['LF_PCT'])"
      ],
      "execution_count": null,
      "outputs": [
        {
          "output_type": "stream",
          "text": [
            "/usr/local/lib/python3.6/dist-packages/seaborn/distributions.py:2551: FutureWarning: `distplot` is a deprecated function and will be removed in a future version. Please adapt your code to use either `displot` (a figure-level function with similar flexibility) or `histplot` (an axes-level function for histograms).\n",
            "  warnings.warn(msg, FutureWarning)\n"
          ],
          "name": "stderr"
        },
        {
          "output_type": "execute_result",
          "data": {
            "text/plain": [
              "<matplotlib.axes._subplots.AxesSubplot at 0x7f2a6f0dbfd0>"
            ]
          },
          "metadata": {
            "tags": []
          },
          "execution_count": 33
        },
        {
          "output_type": "display_data",
          "data": {
            "image/png": "[encoded data removed]",
            "text/plain": [
              "<Figure size 432x288 with 1 Axes>"
            ]
          },
          "metadata": {
            "tags": []
          }
        }
      ]
    },
    {
      "cell_type": "markdown",
      "metadata": {
        "id": "HT6ii3wWvur0"
      },
      "source": [
        "Potential column for binning"
      ]
    },
    {
      "cell_type": "code",
      "metadata": {
        "colab": {
          "base_uri": "https://localhost:8080/",
          "height": 353
        },
        "id": "uo_kSjh1rVAq",
        "outputId": "7445ccb3-8d49-4e30-db2a-e272de21a379"
      },
      "source": [
        "sns.distplot(train_df['LF_NU'])"
      ],
      "execution_count": null,
      "outputs": [
        {
          "output_type": "stream",
          "text": [
            "/usr/local/lib/python3.6/dist-packages/seaborn/distributions.py:2551: FutureWarning: `distplot` is a deprecated function and will be removed in a future version. Please adapt your code to use either `displot` (a figure-level function with similar flexibility) or `histplot` (an axes-level function for histograms).\n",
            "  warnings.warn(msg, FutureWarning)\n"
          ],
          "name": "stderr"
        },
        {
          "output_type": "execute_result",
          "data": {
            "text/plain": [
              "<matplotlib.axes._subplots.AxesSubplot at 0x7f2a6f0413c8>"
            ]
          },
          "metadata": {
            "tags": []
          },
          "execution_count": 34
        },
        {
          "output_type": "display_data",
          "data": {
            "image/png": "[encoded data removed]",
            "text/plain": [
              "<Figure size 432x288 with 1 Axes>"
            ]
          },
          "metadata": {
            "tags": []
          }
        }
      ]
    },
    {
      "cell_type": "code",
      "metadata": {
        "colab": {
          "base_uri": "https://localhost:8080/",
          "height": 350
        },
        "id": "NqQ921vGuLHK",
        "outputId": "3a7cb5f0-83c3-45e7-a1d4-169d8736eed2"
      },
      "source": [
        "sns.distplot(train_df['HF'])"
      ],
      "execution_count": null,
      "outputs": [
        {
          "output_type": "stream",
          "text": [
            "/usr/local/lib/python3.6/dist-packages/seaborn/distributions.py:2551: FutureWarning: `distplot` is a deprecated function and will be removed in a future version. Please adapt your code to use either `displot` (a figure-level function with similar flexibility) or `histplot` (an axes-level function for histograms).\n",
            "  warnings.warn(msg, FutureWarning)\n"
          ],
          "name": "stderr"
        },
        {
          "output_type": "execute_result",
          "data": {
            "text/plain": [
              "<matplotlib.axes._subplots.AxesSubplot at 0x7f2a6ef2e908>"
            ]
          },
          "metadata": {
            "tags": []
          },
          "execution_count": 35
        },
        {
          "output_type": "display_data",
          "data": {
            "image/png": "[encoded data removed]",
            "text/plain": [
              "<Figure size 432x288 with 1 Axes>"
            ]
          },
          "metadata": {
            "tags": []
          }
        }
      ]
    },
    {
      "cell_type": "code",
      "metadata": {
        "colab": {
          "base_uri": "https://localhost:8080/",
          "height": 351
        },
        "id": "LdR8FRNiuV3y",
        "outputId": "7ae8a038-313e-464a-c4f0-ce9661481982"
      },
      "source": [
        "sns.distplot(train_df['HF_PCT'])"
      ],
      "execution_count": null,
      "outputs": [
        {
          "output_type": "stream",
          "text": [
            "/usr/local/lib/python3.6/dist-packages/seaborn/distributions.py:2551: FutureWarning: `distplot` is a deprecated function and will be removed in a future version. Please adapt your code to use either `displot` (a figure-level function with similar flexibility) or `histplot` (an axes-level function for histograms).\n",
            "  warnings.warn(msg, FutureWarning)\n"
          ],
          "name": "stderr"
        },
        {
          "output_type": "execute_result",
          "data": {
            "text/plain": [
              "<matplotlib.axes._subplots.AxesSubplot at 0x7f2a6ee1ff60>"
            ]
          },
          "metadata": {
            "tags": []
          },
          "execution_count": 36
        },
        {
          "output_type": "display_data",
          "data": {
            "image/png": "[encoded data removed]",
            "text/plain": [
              "<Figure size 432x288 with 1 Axes>"
            ]
          },
          "metadata": {
            "tags": []
          }
        }
      ]
    },
    {
      "cell_type": "code",
      "metadata": {
        "colab": {
          "base_uri": "https://localhost:8080/",
          "height": 353
        },
        "id": "Zn3DfP7auf7R",
        "outputId": "b88789a8-1af5-4836-d81e-35c5d185bfa7"
      },
      "source": [
        "sns.distplot(train_df['HF_NU'])"
      ],
      "execution_count": null,
      "outputs": [
        {
          "output_type": "stream",
          "text": [
            "/usr/local/lib/python3.6/dist-packages/seaborn/distributions.py:2551: FutureWarning: `distplot` is a deprecated function and will be removed in a future version. Please adapt your code to use either `displot` (a figure-level function with similar flexibility) or `histplot` (an axes-level function for histograms).\n",
            "  warnings.warn(msg, FutureWarning)\n"
          ],
          "name": "stderr"
        },
        {
          "output_type": "execute_result",
          "data": {
            "text/plain": [
              "<matplotlib.axes._subplots.AxesSubplot at 0x7f2a6ed74e80>"
            ]
          },
          "metadata": {
            "tags": []
          },
          "execution_count": 37
        },
        {
          "output_type": "display_data",
          "data": {
            "image/png": "[encoded data removed]",
            "text/plain": [
              "<Figure size 432x288 with 1 Axes>"
            ]
          },
          "metadata": {
            "tags": []
          }
        }
      ]
    },
    {
      "cell_type": "code",
      "metadata": {
        "colab": {
          "base_uri": "https://localhost:8080/",
          "height": 350
        },
        "id": "iHXX12MUvTo4",
        "outputId": "14d6a6bc-52ae-4802-bb42-3e36d13feb98"
      },
      "source": [
        "sns.distplot(train_df['TP'])"
      ],
      "execution_count": null,
      "outputs": [
        {
          "output_type": "stream",
          "text": [
            "/usr/local/lib/python3.6/dist-packages/seaborn/distributions.py:2551: FutureWarning: `distplot` is a deprecated function and will be removed in a future version. Please adapt your code to use either `displot` (a figure-level function with similar flexibility) or `histplot` (an axes-level function for histograms).\n",
            "  warnings.warn(msg, FutureWarning)\n"
          ],
          "name": "stderr"
        },
        {
          "output_type": "execute_result",
          "data": {
            "text/plain": [
              "<matplotlib.axes._subplots.AxesSubplot at 0x7f2a6edfef28>"
            ]
          },
          "metadata": {
            "tags": []
          },
          "execution_count": 38
        },
        {
          "output_type": "display_data",
          "data": {
            "image/png": "[encoded data removed]",
            "text/plain": [
              "<Figure size 432x288 with 1 Axes>"
            ]
          },
          "metadata": {
            "tags": []
          }
        }
      ]
    },
    {
      "cell_type": "code",
      "metadata": {
        "colab": {
          "base_uri": "https://localhost:8080/",
          "height": 351
        },
        "id": "_R1APAwVv44z",
        "outputId": "b39dc5ab-5488-40f7-fe14-5aa55e02b17c"
      },
      "source": [
        "sns.distplot(train_df['LF_HF'])"
      ],
      "execution_count": null,
      "outputs": [
        {
          "output_type": "stream",
          "text": [
            "/usr/local/lib/python3.6/dist-packages/seaborn/distributions.py:2551: FutureWarning: `distplot` is a deprecated function and will be removed in a future version. Please adapt your code to use either `displot` (a figure-level function with similar flexibility) or `histplot` (an axes-level function for histograms).\n",
            "  warnings.warn(msg, FutureWarning)\n"
          ],
          "name": "stderr"
        },
        {
          "output_type": "execute_result",
          "data": {
            "text/plain": [
              "<matplotlib.axes._subplots.AxesSubplot at 0x7f2a6ec1cf60>"
            ]
          },
          "metadata": {
            "tags": []
          },
          "execution_count": 39
        },
        {
          "output_type": "display_data",
          "data": {
            "image/png": "[encoded data removed]",
            "text/plain": [
              "<Figure size 432x288 with 1 Axes>"
            ]
          },
          "metadata": {
            "tags": []
          }
        }
      ]
    },
    {
      "cell_type": "code",
      "metadata": {
        "colab": {
          "base_uri": "https://localhost:8080/",
          "height": 351
        },
        "id": "fex2WGGFwRhW",
        "outputId": "c3ace13f-3eb1-4d3c-d57b-c107b839fa37"
      },
      "source": [
        "sns.distplot(train_df['HF_LF'])"
      ],
      "execution_count": null,
      "outputs": [
        {
          "output_type": "stream",
          "text": [
            "/usr/local/lib/python3.6/dist-packages/seaborn/distributions.py:2551: FutureWarning: `distplot` is a deprecated function and will be removed in a future version. Please adapt your code to use either `displot` (a figure-level function with similar flexibility) or `histplot` (an axes-level function for histograms).\n",
            "  warnings.warn(msg, FutureWarning)\n"
          ],
          "name": "stderr"
        },
        {
          "output_type": "execute_result",
          "data": {
            "text/plain": [
              "<matplotlib.axes._subplots.AxesSubplot at 0x7f2a6eb08470>"
            ]
          },
          "metadata": {
            "tags": []
          },
          "execution_count": 40
        },
        {
          "output_type": "display_data",
          "data": {
            "image/png": "[encoded data removed]",
            "text/plain": [
              "<Figure size 432x288 with 1 Axes>"
            ]
          },
          "metadata": {
            "tags": []
          }
        }
      ]
    },
    {
      "cell_type": "code",
      "metadata": {
        "colab": {
          "base_uri": "https://localhost:8080/",
          "height": 350
        },
        "id": "Win8t2Xwwe7e",
        "outputId": "970246e1-cf82-4f39-ae9a-55c90ade820d"
      },
      "source": [
        "sns.distplot(train_df['SD1'])"
      ],
      "execution_count": null,
      "outputs": [
        {
          "output_type": "stream",
          "text": [
            "/usr/local/lib/python3.6/dist-packages/seaborn/distributions.py:2551: FutureWarning: `distplot` is a deprecated function and will be removed in a future version. Please adapt your code to use either `displot` (a figure-level function with similar flexibility) or `histplot` (an axes-level function for histograms).\n",
            "  warnings.warn(msg, FutureWarning)\n"
          ],
          "name": "stderr"
        },
        {
          "output_type": "execute_result",
          "data": {
            "text/plain": [
              "<matplotlib.axes._subplots.AxesSubplot at 0x7f2a6e9b71d0>"
            ]
          },
          "metadata": {
            "tags": []
          },
          "execution_count": 41
        },
        {
          "output_type": "display_data",
          "data": {
            "image/png": "[encoded data removed]",
            "text/plain": [
              "<Figure size 432x288 with 1 Axes>"
            ]
          },
          "metadata": {
            "tags": []
          }
        }
      ]
    },
    {
      "cell_type": "markdown",
      "metadata": {
        "id": "buO4LjAzwGOx"
      },
      "source": [
        "Column for binning"
      ]
    },
    {
      "cell_type": "code",
      "metadata": {
        "colab": {
          "base_uri": "https://localhost:8080/",
          "height": 350
        },
        "id": "d-NMSFjXwuvY",
        "outputId": "c4d8f8ec-e475-4f77-ebf4-76c2868832d5"
      },
      "source": [
        "sns.distplot(train_df['SD2'])"
      ],
      "execution_count": null,
      "outputs": [
        {
          "output_type": "stream",
          "text": [
            "/usr/local/lib/python3.6/dist-packages/seaborn/distributions.py:2551: FutureWarning: `distplot` is a deprecated function and will be removed in a future version. Please adapt your code to use either `displot` (a figure-level function with similar flexibility) or `histplot` (an axes-level function for histograms).\n",
            "  warnings.warn(msg, FutureWarning)\n"
          ],
          "name": "stderr"
        },
        {
          "output_type": "execute_result",
          "data": {
            "text/plain": [
              "<matplotlib.axes._subplots.AxesSubplot at 0x7f2a6eeeb6d8>"
            ]
          },
          "metadata": {
            "tags": []
          },
          "execution_count": 42
        },
        {
          "output_type": "display_data",
          "data": {
            "image/png": "[encoded data removed]",
            "text/plain": [
              "<Figure size 432x288 with 1 Axes>"
            ]
          },
          "metadata": {
            "tags": []
          }
        }
      ]
    },
    {
      "cell_type": "code",
      "metadata": {
        "colab": {
          "base_uri": "https://localhost:8080/",
          "height": 350
        },
        "id": "wkM4s5zoxJat",
        "outputId": "9172cdab-3f34-4ee4-93e4-594816c6185f"
      },
      "source": [
        "sns.distplot(train_df['sampen'])"
      ],
      "execution_count": null,
      "outputs": [
        {
          "output_type": "stream",
          "text": [
            "/usr/local/lib/python3.6/dist-packages/seaborn/distributions.py:2551: FutureWarning: `distplot` is a deprecated function and will be removed in a future version. Please adapt your code to use either `displot` (a figure-level function with similar flexibility) or `histplot` (an axes-level function for histograms).\n",
            "  warnings.warn(msg, FutureWarning)\n"
          ],
          "name": "stderr"
        },
        {
          "output_type": "execute_result",
          "data": {
            "text/plain": [
              "<matplotlib.axes._subplots.AxesSubplot at 0x7f2a6e7f96d8>"
            ]
          },
          "metadata": {
            "tags": []
          },
          "execution_count": 43
        },
        {
          "output_type": "display_data",
          "data": {
            "image/png": "[encoded data removed]",
            "text/plain": [
              "<Figure size 432x288 with 1 Axes>"
            ]
          },
          "metadata": {
            "tags": []
          }
        }
      ]
    },
    {
      "cell_type": "code",
      "metadata": {
        "colab": {
          "base_uri": "https://localhost:8080/",
          "height": 350
        },
        "id": "Zriw42S2xU05",
        "outputId": "36cc5d67-ebc9-4a62-8dc5-a6957900115c"
      },
      "source": [
        "sns.distplot(train_df['higuci'])"
      ],
      "execution_count": null,
      "outputs": [
        {
          "output_type": "stream",
          "text": [
            "/usr/local/lib/python3.6/dist-packages/seaborn/distributions.py:2551: FutureWarning: `distplot` is a deprecated function and will be removed in a future version. Please adapt your code to use either `displot` (a figure-level function with similar flexibility) or `histplot` (an axes-level function for histograms).\n",
            "  warnings.warn(msg, FutureWarning)\n"
          ],
          "name": "stderr"
        },
        {
          "output_type": "execute_result",
          "data": {
            "text/plain": [
              "<matplotlib.axes._subplots.AxesSubplot at 0x7f2a6e755240>"
            ]
          },
          "metadata": {
            "tags": []
          },
          "execution_count": 44
        },
        {
          "output_type": "display_data",
          "data": {
            "image/png": "[encoded data removed]",
            "text/plain": [
              "<Figure size 432x288 with 1 Axes>"
            ]
          },
          "metadata": {
            "tags": []
          }
        }
      ]
    },
    {
      "cell_type": "markdown",
      "metadata": {
        "id": "Qq_k4nptwOTa"
      },
      "source": [
        "Binning to be done on this column"
      ]
    },
    {
      "cell_type": "code",
      "metadata": {
        "colab": {
          "base_uri": "https://localhost:8080/",
          "height": 351
        },
        "id": "jVkRitYr1__o",
        "outputId": "32fe172d-5fae-47dd-d877-0ce5e7057f99"
      },
      "source": [
        "sns.distplot(train_df['MEAN_RR'])"
      ],
      "execution_count": null,
      "outputs": [
        {
          "output_type": "stream",
          "text": [
            "/usr/local/lib/python3.6/dist-packages/seaborn/distributions.py:2551: FutureWarning: `distplot` is a deprecated function and will be removed in a future version. Please adapt your code to use either `displot` (a figure-level function with similar flexibility) or `histplot` (an axes-level function for histograms).\n",
            "  warnings.warn(msg, FutureWarning)\n"
          ],
          "name": "stderr"
        },
        {
          "output_type": "execute_result",
          "data": {
            "text/plain": [
              "<matplotlib.axes._subplots.AxesSubplot at 0x7f2a6e633dd8>"
            ]
          },
          "metadata": {
            "tags": []
          },
          "execution_count": 45
        },
        {
          "output_type": "display_data",
          "data": {
            "image/png": "[encoded data removed]",
            "text/plain": [
              "<Figure size 432x288 with 1 Axes>"
            ]
          },
          "metadata": {
            "tags": []
          }
        }
      ]
    },
    {
      "cell_type": "code",
      "metadata": {
        "colab": {
          "base_uri": "https://localhost:8080/",
          "height": 351
        },
        "id": "h20PeMW12FX6",
        "outputId": "9b66034b-bc41-4e36-a158-530a50bd094b"
      },
      "source": [
        "sns.distplot(train_df['MEDIAN_RR'])"
      ],
      "execution_count": null,
      "outputs": [
        {
          "output_type": "stream",
          "text": [
            "/usr/local/lib/python3.6/dist-packages/seaborn/distributions.py:2551: FutureWarning: `distplot` is a deprecated function and will be removed in a future version. Please adapt your code to use either `displot` (a figure-level function with similar flexibility) or `histplot` (an axes-level function for histograms).\n",
            "  warnings.warn(msg, FutureWarning)\n"
          ],
          "name": "stderr"
        },
        {
          "output_type": "execute_result",
          "data": {
            "text/plain": [
              "<matplotlib.axes._subplots.AxesSubplot at 0x7f5abc360898>"
            ]
          },
          "metadata": {
            "tags": []
          },
          "execution_count": 28
        },
        {
          "output_type": "display_data",
          "data": {
            "image/png": "[encoded data removed]",
            "text/plain": [
              "<Figure size 432x288 with 1 Axes>"
            ]
          },
          "metadata": {
            "tags": []
          }
        }
      ]
    },
    {
      "cell_type": "code",
      "metadata": {
        "colab": {
          "base_uri": "https://localhost:8080/",
          "height": 350
        },
        "id": "N6LOBD414C47",
        "outputId": "63e27644-a42c-4868-d459-060a5f9529fb"
      },
      "source": [
        "sns.distplot(train_df['RMSSD'])"
      ],
      "execution_count": null,
      "outputs": [
        {
          "output_type": "stream",
          "text": [
            "/usr/local/lib/python3.6/dist-packages/seaborn/distributions.py:2551: FutureWarning: `distplot` is a deprecated function and will be removed in a future version. Please adapt your code to use either `displot` (a figure-level function with similar flexibility) or `histplot` (an axes-level function for histograms).\n",
            "  warnings.warn(msg, FutureWarning)\n"
          ],
          "name": "stderr"
        },
        {
          "output_type": "execute_result",
          "data": {
            "text/plain": [
              "<matplotlib.axes._subplots.AxesSubplot at 0x7f5ac82ec400>"
            ]
          },
          "metadata": {
            "tags": []
          },
          "execution_count": 23
        },
        {
          "output_type": "display_data",
          "data": {
            "image/png": "[encoded data removed]",
            "text/plain": [
              "<Figure size 432x288 with 1 Axes>"
            ]
          },
          "metadata": {
            "tags": []
          }
        }
      ]
    },
    {
      "cell_type": "markdown",
      "metadata": {
        "id": "2hzafef-wejw"
      },
      "source": [
        "The column to be binned"
      ]
    },
    {
      "cell_type": "code",
      "metadata": {
        "colab": {
          "base_uri": "https://localhost:8080/",
          "height": 350
        },
        "id": "bYMU8TEg5dKO",
        "outputId": "1755590d-cb9e-4bb3-a7bb-a3d99dae374f"
      },
      "source": [
        "sns.distplot(train_df['SDSD'])"
      ],
      "execution_count": null,
      "outputs": [
        {
          "output_type": "stream",
          "text": [
            "/usr/local/lib/python3.6/dist-packages/seaborn/distributions.py:2551: FutureWarning: `distplot` is a deprecated function and will be removed in a future version. Please adapt your code to use either `displot` (a figure-level function with similar flexibility) or `histplot` (an axes-level function for histograms).\n",
            "  warnings.warn(msg, FutureWarning)\n"
          ],
          "name": "stderr"
        },
        {
          "output_type": "execute_result",
          "data": {
            "text/plain": [
              "<matplotlib.axes._subplots.AxesSubplot at 0x7f5ac82609e8>"
            ]
          },
          "metadata": {
            "tags": []
          },
          "execution_count": 24
        },
        {
          "output_type": "display_data",
          "data": {
            "image/png": "[encoded data removed]",
            "text/plain": [
              "<Figure size 432x288 with 1 Axes>"
            ]
          },
          "metadata": {
            "tags": []
          }
        }
      ]
    },
    {
      "cell_type": "markdown",
      "metadata": {
        "id": "dj4U-oFyxT4B"
      },
      "source": [
        "Column for binning"
      ]
    },
    {
      "cell_type": "code",
      "metadata": {
        "id": "vh0DTK4m6sMz"
      },
      "source": [
        "sns.distplot(train_df['SDRR_RMSSD'])"
      ],
      "execution_count": null,
      "outputs": []
    },
    {
      "cell_type": "code",
      "metadata": {
        "id": "SdjvUaK77ELG"
      },
      "source": [
        "sns.distplot(train_df['pNN25'])"
      ],
      "execution_count": null,
      "outputs": []
    },
    {
      "cell_type": "code",
      "metadata": {
        "id": "EltrHTiM7I6-"
      },
      "source": [
        "sns.distplot(train_df['pNN50'])"
      ],
      "execution_count": null,
      "outputs": []
    },
    {
      "cell_type": "code",
      "metadata": {
        "id": "pMjyt7SR7YnA"
      },
      "source": [
        "sns.distplot(train_df['KURT'])"
      ],
      "execution_count": null,
      "outputs": []
    },
    {
      "cell_type": "code",
      "metadata": {
        "id": "UnHtSYLa7hF1"
      },
      "source": [
        "sns.distplot(train_df['SKEW'])"
      ],
      "execution_count": null,
      "outputs": []
    },
    {
      "cell_type": "code",
      "metadata": {
        "id": "Z63NGIIC8Jw9"
      },
      "source": [
        "sns.distplot(train_df['MEAN_REL_RR'])"
      ],
      "execution_count": null,
      "outputs": []
    },
    {
      "cell_type": "code",
      "metadata": {
        "id": "wum7aWo88N8w"
      },
      "source": [
        "sns.distplot(train_df['MEDIAN_REL_RR'])"
      ],
      "execution_count": null,
      "outputs": []
    },
    {
      "cell_type": "code",
      "metadata": {
        "id": "mSddVUUu8ZpY"
      },
      "source": [
        "sns.distplot(train_df['SDRR_REL_RR'])"
      ],
      "execution_count": null,
      "outputs": []
    },
    {
      "cell_type": "code",
      "metadata": {
        "id": "Tq_pvsEG9fwX"
      },
      "source": [
        "sns.distplot(train_df['RMSSD_REL_RR'])"
      ],
      "execution_count": null,
      "outputs": []
    },
    {
      "cell_type": "code",
      "metadata": {
        "id": "OnM1e6iV9xOB"
      },
      "source": [
        "sns.distplot(train_df['SDSD_REL_RR'])"
      ],
      "execution_count": null,
      "outputs": []
    },
    {
      "cell_type": "code",
      "metadata": {
        "id": "f_Fw97im98Pt"
      },
      "source": [
        "sns.distplot(train_df['SDRR_RMSSD_REL_RR'])"
      ],
      "execution_count": null,
      "outputs": []
    },
    {
      "cell_type": "code",
      "metadata": {
        "id": "HOyvyhGP-Mrs"
      },
      "source": [
        "sns.distplot(train_df['KURT_REL_RR'])"
      ],
      "execution_count": null,
      "outputs": []
    },
    {
      "cell_type": "code",
      "metadata": {
        "id": "iVwzJ0Z8-i-e"
      },
      "source": [
        "sns.distplot(train_df['SKEW_REL_RR'])"
      ],
      "execution_count": null,
      "outputs": []
    },
    {
      "cell_type": "markdown",
      "metadata": {
        "id": "T2AlUSYyI065"
      },
      "source": [
        "#Bi-Variate Analysis of each of the columns with Heart rate"
      ]
    },
    {
      "cell_type": "code",
      "metadata": {
        "id": "UZsscoSrQFSh"
      },
      "source": [
        "train_df.columns"
      ],
      "execution_count": null,
      "outputs": []
    },
    {
      "cell_type": "code",
      "metadata": {
        "id": "iBhct0odI0Hq"
      },
      "source": [
        "sns.scatterplot(x='HR',y='VLF',data=train_df)"
      ],
      "execution_count": null,
      "outputs": []
    },
    {
      "cell_type": "code",
      "metadata": {
        "id": "t3W8gPxKOwYX"
      },
      "source": [
        "sns.scatterplot(y='VLF_PCT',x='HR',data=train_df)"
      ],
      "execution_count": null,
      "outputs": []
    },
    {
      "cell_type": "code",
      "metadata": {
        "id": "49TCe0RMPcSK"
      },
      "source": [
        "sns.scatterplot(x='HR',y='LF',data=train_df)"
      ],
      "execution_count": null,
      "outputs": []
    },
    {
      "cell_type": "code",
      "metadata": {
        "id": "rzYVxR0zQKvE"
      },
      "source": [
        "sns.scatterplot(x='HR',y='LF_PCT',data=train_df)"
      ],
      "execution_count": null,
      "outputs": []
    },
    {
      "cell_type": "code",
      "metadata": {
        "id": "-rw_IEcCQcOc"
      },
      "source": [
        "sns.scatterplot(x='HR',y='LF_NU',data=train_df)"
      ],
      "execution_count": null,
      "outputs": []
    },
    {
      "cell_type": "code",
      "metadata": {
        "id": "Yv_Z6BsTRnLx"
      },
      "source": [
        "sns.scatterplot(x='HR',y='HF',data=train_df)"
      ],
      "execution_count": null,
      "outputs": []
    },
    {
      "cell_type": "code",
      "metadata": {
        "id": "bQnJEcGlSzMu"
      },
      "source": [
        "sns.scatterplot(x='HR',y='HF_PCT',data=train_df)"
      ],
      "execution_count": null,
      "outputs": []
    },
    {
      "cell_type": "code",
      "metadata": {
        "id": "OD36OVj9cX_X"
      },
      "source": [
        "sns.scatterplot(x='HR',y='TP',data=train_df)"
      ],
      "execution_count": null,
      "outputs": []
    },
    {
      "cell_type": "code",
      "metadata": {
        "id": "u6fEhsNhcwrr"
      },
      "source": [
        "sns.scatterplot(x='HR',y='LF_HF',data=train_df)"
      ],
      "execution_count": null,
      "outputs": []
    },
    {
      "cell_type": "code",
      "metadata": {
        "id": "xdqcyOHSdl7-"
      },
      "source": [
        "sns.scatterplot(x='HR',y='HF_LF',data=train_df)"
      ],
      "execution_count": null,
      "outputs": []
    },
    {
      "cell_type": "code",
      "metadata": {
        "id": "HNpZtcQtkPaJ"
      },
      "source": [
        "sns.scatterplot(x='HR',y='SD1',data=train_df)"
      ],
      "execution_count": null,
      "outputs": []
    },
    {
      "cell_type": "code",
      "metadata": {
        "id": "s-TxZIx_mwoR"
      },
      "source": [
        "sns.scatterplot(x='HR',y='SD2',data=train_df)"
      ],
      "execution_count": null,
      "outputs": []
    },
    {
      "cell_type": "code",
      "metadata": {
        "id": "nuXctFL5nSDf"
      },
      "source": [
        "sns.scatterplot(x='HR',y='sampen',data=train_df)"
      ],
      "execution_count": null,
      "outputs": []
    },
    {
      "cell_type": "code",
      "metadata": {
        "id": "vAs7cUyynz54"
      },
      "source": [
        "sns.scatterplot(x='HR',y='higuci',data=train_df)"
      ],
      "execution_count": null,
      "outputs": []
    },
    {
      "cell_type": "code",
      "metadata": {
        "id": "xlgz6h3AoCCH"
      },
      "source": [
        "sns.scatterplot(x='HR',y='MEAN_RR',data=train_df)"
      ],
      "execution_count": null,
      "outputs": []
    },
    {
      "cell_type": "code",
      "metadata": {
        "id": "JdEfjAcdoLER"
      },
      "source": [
        "sns.scatterplot(x='HR',y='MEDIAN_RR',data=train_df)"
      ],
      "execution_count": null,
      "outputs": []
    },
    {
      "cell_type": "code",
      "metadata": {
        "id": "Cawm47GxoSrC"
      },
      "source": [
        "sns.scatterplot(x='HR',y='SDRR',data=train_df)"
      ],
      "execution_count": null,
      "outputs": []
    },
    {
      "cell_type": "code",
      "metadata": {
        "id": "lrS_YcJppPqo"
      },
      "source": [
        "sns.scatterplot(x='HR',y='RMSSD',data=train_df)"
      ],
      "execution_count": null,
      "outputs": []
    },
    {
      "cell_type": "code",
      "metadata": {
        "id": "RQ2zaEzIpe6y"
      },
      "source": [
        "sns.scatterplot(x='HR',y='SDSD',data=train_df)"
      ],
      "execution_count": null,
      "outputs": []
    },
    {
      "cell_type": "code",
      "metadata": {
        "id": "wO7K9EUtpp6J"
      },
      "source": [
        "sns.scatterplot(x='HR',y='SDRR_RMSSD',data=train_df)"
      ],
      "execution_count": null,
      "outputs": []
    },
    {
      "cell_type": "code",
      "metadata": {
        "id": "cIrE-AJxqeUi"
      },
      "source": [
        "sns.scatterplot(x='HR',y='pNN25',data=train_df)"
      ],
      "execution_count": null,
      "outputs": []
    },
    {
      "cell_type": "code",
      "metadata": {
        "id": "3QTxtXNBspSl"
      },
      "source": [
        "sns.scatterplot(x='HR',y='pNN50',data=train_df)"
      ],
      "execution_count": null,
      "outputs": []
    },
    {
      "cell_type": "markdown",
      "metadata": {
        "id": "XvZObKLbJgln"
      },
      "source": [
        "Scaling the data to see if that improves the distribution at variable level"
      ]
    },
    {
      "cell_type": "code",
      "metadata": {
        "id": "i1kQizoFwjdQ"
      },
      "source": [
        "X=train_df.iloc[:,1:]"
      ],
      "execution_count": null,
      "outputs": []
    },
    {
      "cell_type": "code",
      "metadata": {
        "id": "wTlamT5eiXi-"
      },
      "source": [
        "#scaledX = pd.DataFrame(sc.fit_transform(X))"
      ],
      "execution_count": null,
      "outputs": []
    },
    {
      "cell_type": "code",
      "metadata": {
        "id": "5rrQQGhOv7qp"
      },
      "source": [
        "#scaledX.columns=['VLF', 'VLF_PCT', 'LF', 'LF_PCT', 'LF_NU', 'HF', 'HF_PCT',\n",
        "      # 'HF_NU', 'TP', 'LF_HF', 'HF_LF', 'SD1', 'SD2', 'sampen', 'higuci',\n",
        "       # 'MEAN_RR', 'MEDIAN_RR', 'SDRR', 'RMSSD',\n",
        "       #'SDSD', 'SDRR_RMSSD', 'pNN25', 'pNN50', 'KURT', 'SKEW',\n",
        "       #'MEAN_REL_RR', 'MEDIAN_REL_RR', 'SDRR_REL_RR', 'RMSSD_REL_RR',\n",
        "       #'SDSD_REL_RR', 'SDRR_RMSSD_REL_RR', 'KURT_REL_RR', 'SKEW_REL_RR','condition_0','condition_1','condition_2','HR']"
      ],
      "execution_count": null,
      "outputs": []
    },
    {
      "cell_type": "code",
      "metadata": {
        "id": "NI1Xd4Aoz1d4"
      },
      "source": [
        "#scaledX.head(10)"
      ],
      "execution_count": null,
      "outputs": []
    },
    {
      "cell_type": "code",
      "metadata": {
        "id": "sQEAM1PH0fTj"
      },
      "source": [
        "#sns.distplot(scaledX['VLF'])"
      ],
      "execution_count": null,
      "outputs": []
    },
    {
      "cell_type": "markdown",
      "metadata": {
        "id": "yt3b6QU9LeMg"
      },
      "source": [
        "Applying log norm"
      ]
    },
    {
      "cell_type": "code",
      "metadata": {
        "id": "T3GDMUs1T_27"
      },
      "source": [
        "train_df['log_VLF'] = np.log(train_df['VLF'])"
      ],
      "execution_count": null,
      "outputs": []
    },
    {
      "cell_type": "code",
      "metadata": {
        "id": "bIOSv1eNIi2P"
      },
      "source": [
        "sns.distplot(train_df['log_VLF'])"
      ],
      "execution_count": null,
      "outputs": []
    },
    {
      "cell_type": "markdown",
      "metadata": {
        "id": "Mdj4mUGmJH41"
      },
      "source": [
        "It is clear that the log norm is improving the variation dispersion more than scaling. Hence we will adopt log normal for all variables"
      ]
    },
    {
      "cell_type": "code",
      "metadata": {
        "id": "wTtlUqo0mAJ3"
      },
      "source": [
        "sc=StandardScaler()"
      ],
      "execution_count": null,
      "outputs": []
    },
    {
      "cell_type": "code",
      "metadata": {
        "id": "Ypbf7HVbmM9E"
      },
      "source": [
        "X=train_df.iloc[:,1:-1]\n",
        "y=train_df['HR']"
      ],
      "execution_count": null,
      "outputs": []
    },
    {
      "cell_type": "code",
      "metadata": {
        "colab": {
          "base_uri": "https://localhost:8080/"
        },
        "id": "CvZl5KAgmLRP",
        "outputId": "7bf98eed-a762-4f43-ab04-531b299638dd"
      },
      "source": [
        "X_train, X_test, y_train, y_test = train_test_split(X, y, test_size=0.25, random_state=42)\n",
        "X_train.shape, X_test.shape"
      ],
      "execution_count": null,
      "outputs": [
        {
          "output_type": "execute_result",
          "data": {
            "text/plain": [
              "((276966, 36), (92323, 36))"
            ]
          },
          "metadata": {
            "tags": []
          },
          "execution_count": 49
        }
      ]
    },
    {
      "cell_type": "code",
      "metadata": {
        "id": "gogq98a_mcK6"
      },
      "source": [
        "#scaled_Xtrain = sc.fit_transform(X_train)"
      ],
      "execution_count": null,
      "outputs": []
    },
    {
      "cell_type": "code",
      "metadata": {
        "id": "XexYmLHR28ap"
      },
      "source": [
        "#scaled_Xtest = sc.transform(X_test)"
      ],
      "execution_count": null,
      "outputs": []
    },
    {
      "cell_type": "code",
      "metadata": {
        "colab": {
          "base_uri": "https://localhost:8080/"
        },
        "id": "UebK3lrirlM7",
        "outputId": "108c8758-d1e5-420b-e2c7-a49063f618fd"
      },
      "source": [
        "train_df.columns"
      ],
      "execution_count": null,
      "outputs": [
        {
          "output_type": "execute_result",
          "data": {
            "text/plain": [
              "Index(['uuid', 'VLF', 'VLF_PCT', 'LF', 'LF_PCT', 'LF_NU', 'HF', 'HF_PCT',\n",
              "       'HF_NU', 'TP', 'LF_HF', 'HF_LF', 'SD1', 'SD2', 'sampen', 'higuci',\n",
              "       'MEAN_RR', 'MEDIAN_RR', 'SDRR', 'RMSSD', 'SDSD', 'SDRR_RMSSD', 'pNN25',\n",
              "       'pNN50', 'KURT', 'SKEW', 'MEAN_REL_RR', 'MEDIAN_REL_RR', 'SDRR_REL_RR',\n",
              "       'RMSSD_REL_RR', 'SDSD_REL_RR', 'SDRR_RMSSD_REL_RR', 'KURT_REL_RR',\n",
              "       'SKEW_REL_RR', 'condition_0', 'condition_1', 'condition_2', 'HR'],\n",
              "      dtype='object')"
            ]
          },
          "metadata": {
            "tags": []
          },
          "execution_count": 80
        }
      ]
    },
    {
      "cell_type": "markdown",
      "metadata": {
        "id": "pLzorfUJryvr"
      },
      "source": [
        "#Applying log norm and exponential to normalize the independent variables"
      ]
    },
    {
      "cell_type": "code",
      "metadata": {
        "id": "FCq3hgyD2q1C"
      },
      "source": [
        "train = train_df.copy()"
      ],
      "execution_count": null,
      "outputs": []
    },
    {
      "cell_type": "code",
      "metadata": {
        "id": "Rqj0kP2b6PoE"
      },
      "source": [
        "#train_df = train.copy()"
      ],
      "execution_count": null,
      "outputs": []
    },
    {
      "cell_type": "code",
      "metadata": {
        "id": "MXZ2P_2K3OLj"
      },
      "source": [
        "#train_df['pNN25']"
      ],
      "execution_count": null,
      "outputs": []
    },
    {
      "cell_type": "code",
      "metadata": {
        "id": "fbiwereo11a4"
      },
      "source": [
        "#train_df['pNN25'] = train_df['pNN25'].apply(lambda x : 0.01 if x ==0.0 else x) # incrementing 0 values to avoid issues with log transformation"
      ],
      "execution_count": null,
      "outputs": []
    },
    {
      "cell_type": "code",
      "metadata": {
        "id": "QN0m-C1Br48K"
      },
      "source": [
        "def conv_log(col) :\n",
        "  train_df[col] = train_df[col].apply(lambda x : 0.01 if x==0.0 else x)\n",
        "  log_col = 'log_' + col\n",
        "  train_df[log_col] = np.log(train_df[col])"
      ],
      "execution_count": null,
      "outputs": []
    },
    {
      "cell_type": "code",
      "metadata": {
        "id": "I-gv7b2RyKRL"
      },
      "source": [
        "colsForConv = ['VLF','LF','HF','HF_PCT','HF_NU','TP','LF_HF','HF_LF','SD2','MEAN_RR','MEDIAN_RR','SDRR_RMSSD','pNN25','pNN50','SDRR_REL_RR',\\\n",
        "               'RMSSD_REL_RR','SDSD_REL_RR']"
      ],
      "execution_count": null,
      "outputs": []
    },
    {
      "cell_type": "code",
      "metadata": {
        "id": "7wySg1GXzId1"
      },
      "source": [
        "#for col in colsForConv :\n",
        " # conv_log(col)"
      ],
      "execution_count": null,
      "outputs": []
    },
    {
      "cell_type": "code",
      "metadata": {
        "id": "Wp6ah1mPzb2T"
      },
      "source": [
        "#train_df['exp_LF_NU'] = np.exp(train_df['LF_NU'])"
      ],
      "execution_count": null,
      "outputs": []
    },
    {
      "cell_type": "code",
      "metadata": {
        "id": "ADXLSgBq0EYa"
      },
      "source": [
        "#train_df['exp_sampen'] = np.exp(train_df['sampen'])"
      ],
      "execution_count": null,
      "outputs": []
    },
    {
      "cell_type": "markdown",
      "metadata": {
        "id": "h051zH-n0UYS"
      },
      "source": [
        "#Visualizing the log columns "
      ]
    },
    {
      "cell_type": "code",
      "metadata": {
        "id": "HytdnqN30TEE"
      },
      "source": [
        "def logColVis(col) :\n",
        "  colName = 'log_' + col\n",
        "  sns.distplot(train_df[colName])\n",
        "  plt.show()"
      ],
      "execution_count": null,
      "outputs": []
    },
    {
      "cell_type": "code",
      "metadata": {
        "id": "PEIJRm1w03XL"
      },
      "source": [
        "#for col in colsForConv :\n",
        " # logColVis(col)"
      ],
      "execution_count": null,
      "outputs": []
    },
    {
      "cell_type": "markdown",
      "metadata": {
        "id": "Bg7QYRFU4GIq"
      },
      "source": [
        "#Dropping columns which have been normalized with log and exponential transformations"
      ]
    },
    {
      "cell_type": "code",
      "metadata": {
        "id": "qmsGwUYV4E2t"
      },
      "source": [
        "#train_df = train_df.drop(columns=colsForConv,axis=1)"
      ],
      "execution_count": null,
      "outputs": []
    },
    {
      "cell_type": "code",
      "metadata": {
        "id": "lP5eCtnX72IS"
      },
      "source": [
        "#def dropLogCols(col,train_df) :\n",
        "  #log_name = 'log_'+col\n",
        "  #train_df.drop(columns=log_name,axis=1,inplace=True)"
      ],
      "execution_count": null,
      "outputs": []
    },
    {
      "cell_type": "code",
      "metadata": {
        "id": "vqU9eTDB8Elg"
      },
      "source": [
        "#for col in colsForConv:\n",
        "  #dropLogCols(col,train_df)"
      ],
      "execution_count": null,
      "outputs": []
    },
    {
      "cell_type": "code",
      "metadata": {
        "colab": {
          "base_uri": "https://localhost:8080/"
        },
        "id": "wRkE8i6y8Zlv",
        "outputId": "4511f4ef-bb5a-49a9-d8c3-555619af37b8"
      },
      "source": [
        "train_df.columns"
      ],
      "execution_count": null,
      "outputs": [
        {
          "output_type": "execute_result",
          "data": {
            "text/plain": [
              "Index(['uuid', 'VLF', 'VLF_PCT', 'LF', 'LF_PCT', 'LF_NU', 'HF', 'HF_PCT',\n",
              "       'HF_NU', 'TP', 'LF_HF', 'HF_LF', 'SD1', 'SD2', 'sampen', 'higuci',\n",
              "       'MEAN_RR', 'MEDIAN_RR', 'SDRR', 'RMSSD', 'SDSD', 'SDRR_RMSSD', 'pNN25',\n",
              "       'pNN50', 'KURT', 'SKEW', 'MEAN_REL_RR', 'MEDIAN_REL_RR', 'SDRR_REL_RR',\n",
              "       'RMSSD_REL_RR', 'SDSD_REL_RR', 'SDRR_RMSSD_REL_RR', 'KURT_REL_RR',\n",
              "       'SKEW_REL_RR', 'condition_0', 'condition_1', 'condition_2', 'HR'],\n",
              "      dtype='object')"
            ]
          },
          "metadata": {
            "tags": []
          },
          "execution_count": 24
        }
      ]
    },
    {
      "cell_type": "code",
      "metadata": {
        "id": "q7ZSV1DL4SkG"
      },
      "source": [
        "#train_df = train_df.drop(columns=['exp_LF_NU','exp_sampen'])"
      ],
      "execution_count": null,
      "outputs": []
    },
    {
      "cell_type": "code",
      "metadata": {
        "id": "KJXxQ8MV51gq"
      },
      "source": [
        "#train_df = train_df[['SDRR_RMSSD_REL_RR','log_HF','log_HF_PCT','log_HF_NU','log_LF_HF','log_MEAN_RR','exp_LF_NU','HR']]"
      ],
      "execution_count": null,
      "outputs": []
    },
    {
      "cell_type": "markdown",
      "metadata": {
        "id": "rVQ43EDjfyqj"
      },
      "source": [
        "#Additional feature transformations"
      ]
    },
    {
      "cell_type": "code",
      "metadata": {
        "id": "-m_ODpKqf7zc"
      },
      "source": [
        "train_df['LF_PCT'] = train_df['LF_PCT'].apply(lambda x : 0 if x <= 30 else 1 if x >30 and x <=60 else 2)"
      ],
      "execution_count": null,
      "outputs": []
    },
    {
      "cell_type": "code",
      "metadata": {
        "id": "bdXJ1UfXgtzN"
      },
      "source": [
        "(train_df['SD1']) = (train_df['SD1']).apply(lambda x : 0 if x <=7 else 1 if x>7 and x <=9 else 2 if x>11 and x <=14 else 3  )"
      ],
      "execution_count": null,
      "outputs": []
    },
    {
      "cell_type": "code",
      "metadata": {
        "id": "-DORs8D0h86h"
      },
      "source": [
        "train_df['higuci'] = train_df['higuci'].apply(lambda x : 0 if x<=1.15 else 1 if x > 1.15 and x <= 1.2 else 2 if x > 1.2 and x <=1.25 else 3)"
      ],
      "execution_count": null,
      "outputs": []
    },
    {
      "cell_type": "code",
      "metadata": {
        "id": "NVOxF4T8ih60"
      },
      "source": [
        "train_df['RMSSD'] = train_df['RMSSD'].apply(lambda x : 0 if x <=10 else 1 if x >10 and x <=16 else 2 if x > 16 and x <=20 else 3)"
      ],
      "execution_count": null,
      "outputs": []
    },
    {
      "cell_type": "code",
      "metadata": {
        "id": "4PxLtGrGi5rY"
      },
      "source": [
        "train_df['SDSD'] = train_df['SDSD'].apply(lambda x : 0 if x <=10 else 1 if x > 10 and x <= 14 else 2 if x >14 and x <=16 else 3 if x >16 and x<=20 else 4)"
      ],
      "execution_count": null,
      "outputs": []
    },
    {
      "cell_type": "code",
      "metadata": {
        "id": "NzPzndkDhQPl"
      },
      "source": [
        "X=train_df.drop(columns=['HR','uuid'],axis=1)\n",
        "y=train_df['HR']"
      ],
      "execution_count": null,
      "outputs": []
    },
    {
      "cell_type": "code",
      "metadata": {
        "id": "CLu0VeErTcZb"
      },
      "source": [
        "X_crossval = train_df.drop(columns=['uuid','HR'],axis=1)\n",
        "y_crossval = train_df['HR']"
      ],
      "execution_count": null,
      "outputs": []
    },
    {
      "cell_type": "code",
      "metadata": {
        "id": "DkidRFvoGooz"
      },
      "source": [
        "#X = X[['MEDIAN_RR','HF_PCT']]"
      ],
      "execution_count": null,
      "outputs": []
    },
    {
      "cell_type": "code",
      "metadata": {
        "colab": {
          "base_uri": "https://localhost:8080/"
        },
        "id": "k4OrH_lCfwR2",
        "outputId": "0d0e5178-4fc9-42fc-ad8c-f6df36dc8e69"
      },
      "source": [
        "X_train, X_test, y_train, y_test = train_test_split(X, y, test_size=0.25, random_state=42)\n",
        "X_train.shape, X_test.shape"
      ],
      "execution_count": null,
      "outputs": [
        {
          "output_type": "execute_result",
          "data": {
            "text/plain": [
              "((276966, 36), (92323, 36))"
            ]
          },
          "metadata": {
            "tags": []
          },
          "execution_count": 19
        }
      ]
    },
    {
      "cell_type": "code",
      "metadata": {
        "colab": {
          "base_uri": "https://localhost:8080/"
        },
        "id": "jk3M9VA80QPP",
        "outputId": "9ee92daa-51af-4c0b-e75e-8a67173b0513"
      },
      "source": [
        "X_train.shape"
      ],
      "execution_count": null,
      "outputs": [
        {
          "output_type": "execute_result",
          "data": {
            "text/plain": [
              "(276966, 36)"
            ]
          },
          "metadata": {
            "tags": []
          },
          "execution_count": 20
        }
      ]
    },
    {
      "cell_type": "markdown",
      "metadata": {
        "id": "BCM9LcjtTDpJ"
      },
      "source": [
        "#Building the LinearRegression Model - no hyperparameter tuning"
      ]
    },
    {
      "cell_type": "code",
      "metadata": {
        "id": "eh18RpTyhkME"
      },
      "source": [
        "linear_model = LinearRegression()"
      ],
      "execution_count": null,
      "outputs": []
    },
    {
      "cell_type": "code",
      "metadata": {
        "colab": {
          "base_uri": "https://localhost:8080/"
        },
        "id": "DnAnCFkAiSQU",
        "outputId": "ad0b2b79-aa6f-4b6c-92ee-b8c0a64943ad"
      },
      "source": [
        "linear_model.fit(X_train,y_train)"
      ],
      "execution_count": null,
      "outputs": [
        {
          "output_type": "execute_result",
          "data": {
            "text/plain": [
              "LinearRegression(copy_X=True, fit_intercept=True, n_jobs=None, normalize=False)"
            ]
          },
          "metadata": {
            "tags": []
          },
          "execution_count": 35
        }
      ]
    },
    {
      "cell_type": "code",
      "metadata": {
        "id": "UABkYuANiqfF"
      },
      "source": [
        "y_pred = linear_model.predict(X_test)"
      ],
      "execution_count": null,
      "outputs": []
    },
    {
      "cell_type": "code",
      "metadata": {
        "colab": {
          "base_uri": "https://localhost:8080/"
        },
        "id": "H3y7KrNhixCl",
        "outputId": "26aa0d28-d2db-413d-f416-781ede7082e2"
      },
      "source": [
        "linear_model.score(X_test,y_test)"
      ],
      "execution_count": null,
      "outputs": [
        {
          "output_type": "execute_result",
          "data": {
            "text/plain": [
              "0.9792162603657109"
            ]
          },
          "metadata": {
            "tags": []
          },
          "execution_count": 38
        }
      ]
    },
    {
      "cell_type": "code",
      "metadata": {
        "colab": {
          "base_uri": "https://localhost:8080/"
        },
        "id": "1N1F1FqSjJzc",
        "outputId": "5bdf797b-5501-40a1-ded1-750debef33ea"
      },
      "source": [
        "linear_model.score(X_train,y_train)"
      ],
      "execution_count": null,
      "outputs": [
        {
          "output_type": "execute_result",
          "data": {
            "text/plain": [
              "0.979197478242045"
            ]
          },
          "metadata": {
            "tags": []
          },
          "execution_count": 39
        }
      ]
    },
    {
      "cell_type": "code",
      "metadata": {
        "id": "w5IQgR4qjNSK"
      },
      "source": [
        "mse = mean_squared_error(y_test,y_pred)"
      ],
      "execution_count": null,
      "outputs": []
    },
    {
      "cell_type": "code",
      "metadata": {
        "colab": {
          "base_uri": "https://localhost:8080/"
        },
        "id": "0aSGtrbJjgKl",
        "outputId": "9b2c254c-116b-462c-ff00-2934648e34ca"
      },
      "source": [
        "mse"
      ],
      "execution_count": null,
      "outputs": [
        {
          "output_type": "execute_result",
          "data": {
            "text/plain": [
              "2.251840872213138"
            ]
          },
          "metadata": {
            "tags": []
          },
          "execution_count": 41
        }
      ]
    },
    {
      "cell_type": "code",
      "metadata": {
        "id": "JYkBAnC8jkzP"
      },
      "source": [
        "mae = mean_absolute_error(y_test,y_pred)"
      ],
      "execution_count": null,
      "outputs": []
    },
    {
      "cell_type": "code",
      "metadata": {
        "colab": {
          "base_uri": "https://localhost:8080/"
        },
        "id": "J_I4PGT7kFNW",
        "outputId": "50eada12-f0e8-40b6-c413-acc22ceeb627"
      },
      "source": [
        "mae"
      ],
      "execution_count": null,
      "outputs": [
        {
          "output_type": "execute_result",
          "data": {
            "text/plain": [
              "1.005389622152178"
            ]
          },
          "metadata": {
            "tags": []
          },
          "execution_count": 43
        }
      ]
    },
    {
      "cell_type": "markdown",
      "metadata": {
        "id": "Z6DZ2TtX86WJ"
      },
      "source": [
        "#Log and exponential of the columns didnt improve the model performance infact it led to degradation. Hence trying SVR or other algorithms"
      ]
    },
    {
      "cell_type": "markdown",
      "metadata": {
        "id": "Tg6F0tIPpgNv"
      },
      "source": [
        "#Random Forest Regression"
      ]
    },
    {
      "cell_type": "code",
      "metadata": {
        "id": "uH5srxiQpe5a"
      },
      "source": [
        "regressor = RandomForestRegressor(n_estimators=1000,random_state=0,max_depth=50)\n",
        "regressor.fit(X_train,y_train)"
      ],
      "execution_count": null,
      "outputs": []
    },
    {
      "cell_type": "code",
      "metadata": {
        "id": "qbTLPhYMg_j8"
      },
      "source": [
        "y_pred = regressor.predict(X_test)"
      ],
      "execution_count": null,
      "outputs": []
    },
    {
      "cell_type": "code",
      "metadata": {
        "id": "NSuma7GChC2H"
      },
      "source": [
        "mae = mean_absolute_error(y_test,y_pred)"
      ],
      "execution_count": null,
      "outputs": []
    },
    {
      "cell_type": "code",
      "metadata": {
        "id": "iEsvSWI_p0pc"
      },
      "source": [
        "mae"
      ],
      "execution_count": null,
      "outputs": []
    },
    {
      "cell_type": "code",
      "metadata": {
        "id": "5bZRXHzMp9pd"
      },
      "source": [
        "regressor.feature_importances_"
      ],
      "execution_count": null,
      "outputs": []
    },
    {
      "cell_type": "code",
      "metadata": {
        "id": "A2wTM3QyqBa-"
      },
      "source": [
        "train_df_cols = pd.DataFrame(X.columns)"
      ],
      "execution_count": null,
      "outputs": []
    },
    {
      "cell_type": "code",
      "metadata": {
        "id": "QklWJRcvqB-1"
      },
      "source": [
        "train_df_cols['weights'] = regressor.feature_importances_"
      ],
      "execution_count": null,
      "outputs": []
    },
    {
      "cell_type": "code",
      "metadata": {
        "id": "3szAXVwXqGl9"
      },
      "source": [
        "train_df_cols.rename(columns={0:'column_nm'},inplace=True)"
      ],
      "execution_count": null,
      "outputs": []
    },
    {
      "cell_type": "code",
      "metadata": {
        "id": "giSzp-8GqJzJ"
      },
      "source": [
        "train_df_cols.sort_values(by='weights',ascending=False,inplace=True)"
      ],
      "execution_count": null,
      "outputs": []
    },
    {
      "cell_type": "code",
      "metadata": {
        "id": "KsakVl0cqNnJ"
      },
      "source": [
        "plot_data = train_df_cols.iloc[0:5,:]"
      ],
      "execution_count": null,
      "outputs": []
    },
    {
      "cell_type": "code",
      "metadata": {
        "id": "ng8qkJDuqTg7"
      },
      "source": [
        "sns.barplot(y=plot_data['column_nm'],x=plot_data['weights'])"
      ],
      "execution_count": null,
      "outputs": []
    },
    {
      "cell_type": "code",
      "metadata": {
        "id": "s5GgKl6wWUWq"
      },
      "source": [
        "param_grid = {\n",
        "                 'n_estimators': [300],\n",
        "                 'max_depth': [30]\n",
        "             }"
      ],
      "execution_count": null,
      "outputs": []
    },
    {
      "cell_type": "code",
      "metadata": {
        "colab": {
          "base_uri": "https://localhost:8080/"
        },
        "id": "4xsx2vWSaCRr",
        "outputId": "f099fb22-679d-4e4a-fa9b-ce046bd1377a"
      },
      "source": [
        "regressor = RandomForestRegressor(random_state=0)\n",
        "cv = KFold(n_splits=5, random_state=42, shuffle=True)\n",
        "grid_clf = GridSearchCV(regressor, param_grid,scoring='neg_mean_absolute_error', cv=cv,verbose=10)\n",
        "grid_clf.fit(X_crossval, y_crossval)"
      ],
      "execution_count": null,
      "outputs": [
        {
          "output_type": "stream",
          "text": [
            "Fitting 5 folds for each of 1 candidates, totalling 5 fits\n",
            "[CV] max_depth=30, n_estimators=300 ..................................\n"
          ],
          "name": "stdout"
        },
        {
          "output_type": "stream",
          "text": [
            "[Parallel(n_jobs=1)]: Using backend SequentialBackend with 1 concurrent workers.\n"
          ],
          "name": "stderr"
        },
        {
          "output_type": "stream",
          "text": [
            "[CV] ..... max_depth=30, n_estimators=300, score=-0.007, total=65.1min\n",
            "[CV] max_depth=30, n_estimators=300 ..................................\n"
          ],
          "name": "stdout"
        },
        {
          "output_type": "stream",
          "text": [
            "[Parallel(n_jobs=1)]: Done   1 out of   1 | elapsed: 65.1min remaining:    0.0s\n"
          ],
          "name": "stderr"
        },
        {
          "output_type": "stream",
          "text": [
            "[CV] ..... max_depth=30, n_estimators=300, score=-0.007, total=67.6min\n",
            "[CV] max_depth=30, n_estimators=300 ..................................\n"
          ],
          "name": "stdout"
        },
        {
          "output_type": "stream",
          "text": [
            "[Parallel(n_jobs=1)]: Done   2 out of   2 | elapsed: 132.7min remaining:    0.0s\n"
          ],
          "name": "stderr"
        },
        {
          "output_type": "stream",
          "text": [
            "[CV] ..... max_depth=30, n_estimators=300, score=-0.006, total=68.1min\n",
            "[CV] max_depth=30, n_estimators=300 ..................................\n"
          ],
          "name": "stdout"
        },
        {
          "output_type": "stream",
          "text": [
            "[Parallel(n_jobs=1)]: Done   3 out of   3 | elapsed: 200.9min remaining:    0.0s\n"
          ],
          "name": "stderr"
        },
        {
          "output_type": "stream",
          "text": [
            "[CV] ..... max_depth=30, n_estimators=300, score=-0.006, total=66.4min\n",
            "[CV] max_depth=30, n_estimators=300 ..................................\n"
          ],
          "name": "stdout"
        },
        {
          "output_type": "stream",
          "text": [
            "[Parallel(n_jobs=1)]: Done   4 out of   4 | elapsed: 267.4min remaining:    0.0s\n"
          ],
          "name": "stderr"
        },
        {
          "output_type": "stream",
          "text": [
            "[CV] ..... max_depth=30, n_estimators=300, score=-0.006, total=65.1min\n"
          ],
          "name": "stdout"
        },
        {
          "output_type": "stream",
          "text": [
            "[Parallel(n_jobs=1)]: Done   5 out of   5 | elapsed: 332.5min remaining:    0.0s\n",
            "[Parallel(n_jobs=1)]: Done   5 out of   5 | elapsed: 332.5min finished\n"
          ],
          "name": "stderr"
        }
      ]
    },
    {
      "cell_type": "code",
      "metadata": {
        "colab": {
          "base_uri": "https://localhost:8080/"
        },
        "id": "nCcafX1Zg33-",
        "outputId": "2b0da9f3-907e-447c-bed3-bae99d43dcf5"
      },
      "source": [
        "grid_clf.cv_results_"
      ],
      "execution_count": null,
      "outputs": [
        {
          "output_type": "execute_result",
          "data": {
            "text/plain": [
              "{'mean_fit_time': array([3971.34448986]),\n",
              " 'mean_score_time': array([16.44476829]),\n",
              " 'mean_test_score': array([-0.00651976]),\n",
              " 'param_max_depth': masked_array(data=[30],\n",
              "              mask=[False],\n",
              "        fill_value='?',\n",
              "             dtype=object),\n",
              " 'param_n_estimators': masked_array(data=[300],\n",
              "              mask=[False],\n",
              "        fill_value='?',\n",
              "             dtype=object),\n",
              " 'params': [{'max_depth': 30, 'n_estimators': 300}],\n",
              " 'rank_test_score': array([1], dtype=int32),\n",
              " 'split0_test_score': array([-0.00671318]),\n",
              " 'split1_test_score': array([-0.00674439]),\n",
              " 'split2_test_score': array([-0.00646128]),\n",
              " 'split3_test_score': array([-0.00634873]),\n",
              " 'split4_test_score': array([-0.00633124]),\n",
              " 'std_fit_time': array([74.20913583]),\n",
              " 'std_score_time': array([1.25976964]),\n",
              " 'std_test_score': array([0.00017668])}"
            ]
          },
          "metadata": {
            "tags": []
          },
          "execution_count": 26
        }
      ]
    },
    {
      "cell_type": "code",
      "metadata": {
        "colab": {
          "base_uri": "https://localhost:8080/"
        },
        "id": "DMy7n32Ng4m5",
        "outputId": "b6e9dbb6-b7ed-478b-c095-e992cbfa4b19"
      },
      "source": [
        "grid_clf. best_estimator_ "
      ],
      "execution_count": null,
      "outputs": [
        {
          "output_type": "execute_result",
          "data": {
            "text/plain": [
              "RandomForestRegressor(bootstrap=True, ccp_alpha=0.0, criterion='mse',\n",
              "                      max_depth=30, max_features='auto', max_leaf_nodes=None,\n",
              "                      max_samples=None, min_impurity_decrease=0.0,\n",
              "                      min_impurity_split=None, min_samples_leaf=1,\n",
              "                      min_samples_split=2, min_weight_fraction_leaf=0.0,\n",
              "                      n_estimators=300, n_jobs=None, oob_score=False,\n",
              "                      random_state=0, verbose=0, warm_start=False)"
            ]
          },
          "metadata": {
            "tags": []
          },
          "execution_count": 27
        }
      ]
    },
    {
      "cell_type": "code",
      "metadata": {
        "id": "rp1sF-pFsRkr"
      },
      "source": [
        "os.chdir('/content/drive/My Drive')"
      ],
      "execution_count": null,
      "outputs": []
    },
    {
      "cell_type": "code",
      "metadata": {
        "id": "bQ-NE__-siVS"
      },
      "source": [
        "filename = 'RFregressor.sav'"
      ],
      "execution_count": null,
      "outputs": []
    },
    {
      "cell_type": "code",
      "metadata": {
        "id": "lb1y8Iovs_n1"
      },
      "source": [
        "pickle.dump(grid_clf. best_estimator_, open(filename, 'wb'))"
      ],
      "execution_count": null,
      "outputs": []
    },
    {
      "cell_type": "code",
      "metadata": {
        "id": "YBJ96zgluAki"
      },
      "source": [
        "loaded_model = pickle.load(open(filename, 'rb'))"
      ],
      "execution_count": null,
      "outputs": []
    },
    {
      "cell_type": "code",
      "metadata": {
        "id": "LtJLUbluz1Ve"
      },
      "source": [
        ""
      ],
      "execution_count": null,
      "outputs": []
    },
    {
      "cell_type": "markdown",
      "metadata": {
        "id": "UhI53jcj9MOi"
      },
      "source": [
        "#Neural Network"
      ]
    },
    {
      "cell_type": "code",
      "metadata": {
        "id": "2jTOJn9ikF34"
      },
      "source": [
        "x_train = normalize(X_train, axis = 1)"
      ],
      "execution_count": null,
      "outputs": []
    },
    {
      "cell_type": "code",
      "metadata": {
        "id": "jeQELd5z4zX7"
      },
      "source": [
        "x_test = normalize(X_test,axis=1)"
      ],
      "execution_count": null,
      "outputs": []
    },
    {
      "cell_type": "code",
      "metadata": {
        "id": "l2is-kD4vNth"
      },
      "source": [
        "filepath = \"model2.h5\"\n",
        "cp1= ModelCheckpoint(filepath=filepath, monitor='loss',     save_best_only=True, verbose=1, mode='min')\n",
        "callbacks_list = [cp1]"
      ],
      "execution_count": null,
      "outputs": []
    },
    {
      "cell_type": "code",
      "metadata": {
        "colab": {
          "base_uri": "https://localhost:8080/"
        },
        "id": "Is7cliYD-shg",
        "outputId": "9c03522a-fd92-4e1b-e095-a95c6673ec6e"
      },
      "source": [
        "#Model \n",
        "tf.keras.backend.clear_session()\n",
        "tf.random.set_seed(60)\n",
        "model=keras.models.Sequential([\n",
        "    \n",
        "    keras.layers.Dense(1024, input_dim = X_train.shape[1]), \n",
        "    keras.layers.LeakyReLU(),\n",
        "    keras.layers.BatchNormalization(),\n",
        "    #keras.layers.Dropout(0.3),\n",
        "    \n",
        "    keras.layers.Dense(512),  \n",
        "    keras.layers.LeakyReLU(),\n",
        "    keras.layers.BatchNormalization(),\n",
        "    #keras.layers.Dropout(0.3),\n",
        "    \n",
        "    keras.layers.Dense(units=512), \n",
        "    keras.layers.LeakyReLU(),\n",
        "    keras.layers.BatchNormalization(),\n",
        "    #keras.layers.Dropout(0.3),\n",
        "\n",
        "    keras.layers.Dense(units=512), \n",
        "    keras.layers.LeakyReLU(),\n",
        "    keras.layers.BatchNormalization(),\n",
        "    #keras.layers.Dropout(0.3),\n",
        "\n",
        "    keras.layers.Dense(units=512), \n",
        "    keras.layers.LeakyReLU(),\n",
        "    keras.layers.BatchNormalization(),\n",
        "    #keras.layers.Dropout(0.3),\n",
        "\n",
        "    keras.layers.Dense(units=256), \n",
        "    keras.layers.LeakyReLU(),\n",
        "    keras.layers.BatchNormalization(),\n",
        "    #keras.layers.Dropout(0.3),\n",
        "     \n",
        "    keras.layers.Dense(units=256), \n",
        "    keras.layers.LeakyReLU(),\n",
        "    keras.layers.BatchNormalization(),\n",
        "    #keras.layers.Dropout(0.2),\n",
        "    \n",
        "    keras.layers.Dense(units=256), \n",
        "    keras.layers.LeakyReLU(),\n",
        "    keras.layers.BatchNormalization(),\n",
        "    #keras.layers.Dropout(0.2),\n",
        "\n",
        "    keras.layers.Dense(units=256), \n",
        "    keras.layers.LeakyReLU(),\n",
        "    keras.layers.BatchNormalization(),\n",
        "    #keras.layers.Dropout(0.2),\n",
        "\n",
        "    keras.layers.Dense(units=128),\n",
        "    keras.layers.LeakyReLU(),\n",
        "    keras.layers.BatchNormalization(),\n",
        "    #keras.layers.Dropout(0.2), \n",
        "\n",
        "    keras.layers.Dense(units=128),\n",
        "    keras.layers.LeakyReLU(),\n",
        "    keras.layers.BatchNormalization(),\n",
        "\n",
        "    keras.layers.Dense(units=1, activation=\"linear\"),\n",
        "],name=\"LeakyRELU\",)\n",
        "model.summary()"
      ],
      "execution_count": null,
      "outputs": [
        {
          "output_type": "stream",
          "text": [
            "Model: \"LeakyRELU\"\n",
            "_________________________________________________________________\n",
            "Layer (type)                 Output Shape              Param #   \n",
            "=================================================================\n",
            "dense (Dense)                (None, 1024)              37888     \n",
            "_________________________________________________________________\n",
            "leaky_re_lu (LeakyReLU)      (None, 1024)              0         \n",
            "_________________________________________________________________\n",
            "batch_normalization (BatchNo (None, 1024)              4096      \n",
            "_________________________________________________________________\n",
            "dense_1 (Dense)              (None, 512)               524800    \n",
            "_________________________________________________________________\n",
            "leaky_re_lu_1 (LeakyReLU)    (None, 512)               0         \n",
            "_________________________________________________________________\n",
            "batch_normalization_1 (Batch (None, 512)               2048      \n",
            "_________________________________________________________________\n",
            "dense_2 (Dense)              (None, 512)               262656    \n",
            "_________________________________________________________________\n",
            "leaky_re_lu_2 (LeakyReLU)    (None, 512)               0         \n",
            "_________________________________________________________________\n",
            "batch_normalization_2 (Batch (None, 512)               2048      \n",
            "_________________________________________________________________\n",
            "dense_3 (Dense)              (None, 512)               262656    \n",
            "_________________________________________________________________\n",
            "leaky_re_lu_3 (LeakyReLU)    (None, 512)               0         \n",
            "_________________________________________________________________\n",
            "batch_normalization_3 (Batch (None, 512)               2048      \n",
            "_________________________________________________________________\n",
            "dense_4 (Dense)              (None, 512)               262656    \n",
            "_________________________________________________________________\n",
            "leaky_re_lu_4 (LeakyReLU)    (None, 512)               0         \n",
            "_________________________________________________________________\n",
            "batch_normalization_4 (Batch (None, 512)               2048      \n",
            "_________________________________________________________________\n",
            "dense_5 (Dense)              (None, 256)               131328    \n",
            "_________________________________________________________________\n",
            "leaky_re_lu_5 (LeakyReLU)    (None, 256)               0         \n",
            "_________________________________________________________________\n",
            "batch_normalization_5 (Batch (None, 256)               1024      \n",
            "_________________________________________________________________\n",
            "dense_6 (Dense)              (None, 256)               65792     \n",
            "_________________________________________________________________\n",
            "leaky_re_lu_6 (LeakyReLU)    (None, 256)               0         \n",
            "_________________________________________________________________\n",
            "batch_normalization_6 (Batch (None, 256)               1024      \n",
            "_________________________________________________________________\n",
            "dropout (Dropout)            (None, 256)               0         \n",
            "_________________________________________________________________\n",
            "dense_7 (Dense)              (None, 256)               65792     \n",
            "_________________________________________________________________\n",
            "leaky_re_lu_7 (LeakyReLU)    (None, 256)               0         \n",
            "_________________________________________________________________\n",
            "batch_normalization_7 (Batch (None, 256)               1024      \n",
            "_________________________________________________________________\n",
            "dropout_1 (Dropout)          (None, 256)               0         \n",
            "_________________________________________________________________\n",
            "dense_8 (Dense)              (None, 256)               65792     \n",
            "_________________________________________________________________\n",
            "leaky_re_lu_8 (LeakyReLU)    (None, 256)               0         \n",
            "_________________________________________________________________\n",
            "batch_normalization_8 (Batch (None, 256)               1024      \n",
            "_________________________________________________________________\n",
            "dropout_2 (Dropout)          (None, 256)               0         \n",
            "_________________________________________________________________\n",
            "dense_9 (Dense)              (None, 128)               32896     \n",
            "_________________________________________________________________\n",
            "leaky_re_lu_9 (LeakyReLU)    (None, 128)               0         \n",
            "_________________________________________________________________\n",
            "batch_normalization_9 (Batch (None, 128)               512       \n",
            "_________________________________________________________________\n",
            "dropout_3 (Dropout)          (None, 128)               0         \n",
            "_________________________________________________________________\n",
            "dense_10 (Dense)             (None, 128)               16512     \n",
            "_________________________________________________________________\n",
            "leaky_re_lu_10 (LeakyReLU)   (None, 128)               0         \n",
            "_________________________________________________________________\n",
            "batch_normalization_10 (Batc (None, 128)               512       \n",
            "_________________________________________________________________\n",
            "dense_11 (Dense)             (None, 1)                 129       \n",
            "=================================================================\n",
            "Total params: 1,746,305\n",
            "Trainable params: 1,737,601\n",
            "Non-trainable params: 8,704\n",
            "_________________________________________________________________\n"
          ],
          "name": "stdout"
        }
      ]
    },
    {
      "cell_type": "code",
      "metadata": {
        "colab": {
          "base_uri": "https://localhost:8080/",
          "height": 198
        },
        "id": "G00zcyNm_V_x",
        "outputId": "a42afba7-848d-42ee-b3da-744a03c34adb"
      },
      "source": [
        "model.compile(\n",
        "    optimizer=tf.optimizers.Adam(learning_rate=0.05),\n",
        "    loss='mean_absolute_error')"
      ],
      "execution_count": null,
      "outputs": [
        {
          "output_type": "error",
          "ename": "NameError",
          "evalue": "ignored",
          "traceback": [
            "\u001b[0;31m---------------------------------------------------------------------------\u001b[0m",
            "\u001b[0;31mNameError\u001b[0m                                 Traceback (most recent call last)",
            "\u001b[0;32m<ipython-input-1-381f760d602a>\u001b[0m in \u001b[0;36m<module>\u001b[0;34m()\u001b[0m\n\u001b[0;32m----> 1\u001b[0;31m model.compile(\n\u001b[0m\u001b[1;32m      2\u001b[0m     \u001b[0moptimizer\u001b[0m\u001b[0;34m=\u001b[0m\u001b[0mtf\u001b[0m\u001b[0;34m.\u001b[0m\u001b[0moptimizers\u001b[0m\u001b[0;34m.\u001b[0m\u001b[0mAdam\u001b[0m\u001b[0;34m(\u001b[0m\u001b[0mlearning_rate\u001b[0m\u001b[0;34m=\u001b[0m\u001b[0;36m0.01\u001b[0m\u001b[0;34m)\u001b[0m\u001b[0;34m,\u001b[0m\u001b[0;34m\u001b[0m\u001b[0;34m\u001b[0m\u001b[0m\n\u001b[1;32m      3\u001b[0m     loss='mean_absolute_error')\n",
            "\u001b[0;31mNameError\u001b[0m: name 'model' is not defined"
          ]
        }
      ]
    },
    {
      "cell_type": "code",
      "metadata": {
        "colab": {
          "base_uri": "https://localhost:8080/",
          "height": 392
        },
        "id": "-ElInvsAApGo",
        "outputId": "47221da0-4306-4311-a2c2-f2ce88c0fff6"
      },
      "source": [
        "%%time\n",
        "history = model.fit(\n",
        "    x_train, y_train,\n",
        "    epochs=200,\n",
        "    # suppress logging\n",
        "    verbose=0,\n",
        "    # Calculate validation results on 20% of the training data\n",
        "    validation_split = 0.2,callbacks=callbacks_list)"
      ],
      "execution_count": null,
      "outputs": [
        {
          "output_type": "error",
          "ename": "NameError",
          "evalue": "ignored",
          "traceback": [
            "\u001b[0;31m---------------------------------------------------------------------------\u001b[0m",
            "\u001b[0;31mNameError\u001b[0m                                 Traceback (most recent call last)",
            "\u001b[0;32m<ipython-input-2-e1f623f6e136>\u001b[0m in \u001b[0;36m<module>\u001b[0;34m()\u001b[0m\n\u001b[0;32m----> 1\u001b[0;31m \u001b[0mget_ipython\u001b[0m\u001b[0;34m(\u001b[0m\u001b[0;34m)\u001b[0m\u001b[0;34m.\u001b[0m\u001b[0mrun_cell_magic\u001b[0m\u001b[0;34m(\u001b[0m\u001b[0;34m'time'\u001b[0m\u001b[0;34m,\u001b[0m \u001b[0;34m''\u001b[0m\u001b[0;34m,\u001b[0m \u001b[0;34m'history = model.fit(\\n    x_train, y_train,\\n    epochs=200,\\n    # suppress logging\\n    verbose=0,\\n    # Calculate validation results on 20% of the training data\\n    validation_split = 0.2,callbacks=callbacks_list)'\u001b[0m\u001b[0;34m)\u001b[0m\u001b[0;34m\u001b[0m\u001b[0;34m\u001b[0m\u001b[0m\n\u001b[0m",
            "\u001b[0;32m/usr/local/lib/python3.6/dist-packages/IPython/core/interactiveshell.py\u001b[0m in \u001b[0;36mrun_cell_magic\u001b[0;34m(self, magic_name, line, cell)\u001b[0m\n\u001b[1;32m   2115\u001b[0m             \u001b[0mmagic_arg_s\u001b[0m \u001b[0;34m=\u001b[0m \u001b[0mself\u001b[0m\u001b[0;34m.\u001b[0m\u001b[0mvar_expand\u001b[0m\u001b[0;34m(\u001b[0m\u001b[0mline\u001b[0m\u001b[0;34m,\u001b[0m \u001b[0mstack_depth\u001b[0m\u001b[0;34m)\u001b[0m\u001b[0;34m\u001b[0m\u001b[0;34m\u001b[0m\u001b[0m\n\u001b[1;32m   2116\u001b[0m             \u001b[0;32mwith\u001b[0m \u001b[0mself\u001b[0m\u001b[0;34m.\u001b[0m\u001b[0mbuiltin_trap\u001b[0m\u001b[0;34m:\u001b[0m\u001b[0;34m\u001b[0m\u001b[0;34m\u001b[0m\u001b[0m\n\u001b[0;32m-> 2117\u001b[0;31m                 \u001b[0mresult\u001b[0m \u001b[0;34m=\u001b[0m \u001b[0mfn\u001b[0m\u001b[0;34m(\u001b[0m\u001b[0mmagic_arg_s\u001b[0m\u001b[0;34m,\u001b[0m \u001b[0mcell\u001b[0m\u001b[0;34m)\u001b[0m\u001b[0;34m\u001b[0m\u001b[0;34m\u001b[0m\u001b[0m\n\u001b[0m\u001b[1;32m   2118\u001b[0m             \u001b[0;32mreturn\u001b[0m \u001b[0mresult\u001b[0m\u001b[0;34m\u001b[0m\u001b[0;34m\u001b[0m\u001b[0m\n\u001b[1;32m   2119\u001b[0m \u001b[0;34m\u001b[0m\u001b[0m\n",
            "\u001b[0;32m<decorator-gen-60>\u001b[0m in \u001b[0;36mtime\u001b[0;34m(self, line, cell, local_ns)\u001b[0m\n",
            "\u001b[0;32m/usr/local/lib/python3.6/dist-packages/IPython/core/magic.py\u001b[0m in \u001b[0;36m<lambda>\u001b[0;34m(f, *a, **k)\u001b[0m\n\u001b[1;32m    186\u001b[0m     \u001b[0;31m# but it's overkill for just that one bit of state.\u001b[0m\u001b[0;34m\u001b[0m\u001b[0;34m\u001b[0m\u001b[0;34m\u001b[0m\u001b[0m\n\u001b[1;32m    187\u001b[0m     \u001b[0;32mdef\u001b[0m \u001b[0mmagic_deco\u001b[0m\u001b[0;34m(\u001b[0m\u001b[0marg\u001b[0m\u001b[0;34m)\u001b[0m\u001b[0;34m:\u001b[0m\u001b[0;34m\u001b[0m\u001b[0;34m\u001b[0m\u001b[0m\n\u001b[0;32m--> 188\u001b[0;31m         \u001b[0mcall\u001b[0m \u001b[0;34m=\u001b[0m \u001b[0;32mlambda\u001b[0m \u001b[0mf\u001b[0m\u001b[0;34m,\u001b[0m \u001b[0;34m*\u001b[0m\u001b[0ma\u001b[0m\u001b[0;34m,\u001b[0m \u001b[0;34m**\u001b[0m\u001b[0mk\u001b[0m\u001b[0;34m:\u001b[0m \u001b[0mf\u001b[0m\u001b[0;34m(\u001b[0m\u001b[0;34m*\u001b[0m\u001b[0ma\u001b[0m\u001b[0;34m,\u001b[0m \u001b[0;34m**\u001b[0m\u001b[0mk\u001b[0m\u001b[0;34m)\u001b[0m\u001b[0;34m\u001b[0m\u001b[0;34m\u001b[0m\u001b[0m\n\u001b[0m\u001b[1;32m    189\u001b[0m \u001b[0;34m\u001b[0m\u001b[0m\n\u001b[1;32m    190\u001b[0m         \u001b[0;32mif\u001b[0m \u001b[0mcallable\u001b[0m\u001b[0;34m(\u001b[0m\u001b[0marg\u001b[0m\u001b[0;34m)\u001b[0m\u001b[0;34m:\u001b[0m\u001b[0;34m\u001b[0m\u001b[0;34m\u001b[0m\u001b[0m\n",
            "\u001b[0;32m/usr/local/lib/python3.6/dist-packages/IPython/core/magics/execution.py\u001b[0m in \u001b[0;36mtime\u001b[0;34m(self, line, cell, local_ns)\u001b[0m\n\u001b[1;32m   1191\u001b[0m         \u001b[0;32melse\u001b[0m\u001b[0;34m:\u001b[0m\u001b[0;34m\u001b[0m\u001b[0;34m\u001b[0m\u001b[0m\n\u001b[1;32m   1192\u001b[0m             \u001b[0mst\u001b[0m \u001b[0;34m=\u001b[0m \u001b[0mclock2\u001b[0m\u001b[0;34m(\u001b[0m\u001b[0;34m)\u001b[0m\u001b[0;34m\u001b[0m\u001b[0;34m\u001b[0m\u001b[0m\n\u001b[0;32m-> 1193\u001b[0;31m             \u001b[0mexec\u001b[0m\u001b[0;34m(\u001b[0m\u001b[0mcode\u001b[0m\u001b[0;34m,\u001b[0m \u001b[0mglob\u001b[0m\u001b[0;34m,\u001b[0m \u001b[0mlocal_ns\u001b[0m\u001b[0;34m)\u001b[0m\u001b[0;34m\u001b[0m\u001b[0;34m\u001b[0m\u001b[0m\n\u001b[0m\u001b[1;32m   1194\u001b[0m             \u001b[0mend\u001b[0m \u001b[0;34m=\u001b[0m \u001b[0mclock2\u001b[0m\u001b[0;34m(\u001b[0m\u001b[0;34m)\u001b[0m\u001b[0;34m\u001b[0m\u001b[0;34m\u001b[0m\u001b[0m\n\u001b[1;32m   1195\u001b[0m             \u001b[0mout\u001b[0m \u001b[0;34m=\u001b[0m \u001b[0;32mNone\u001b[0m\u001b[0;34m\u001b[0m\u001b[0;34m\u001b[0m\u001b[0m\n",
            "\u001b[0;32m<timed exec>\u001b[0m in \u001b[0;36m<module>\u001b[0;34m()\u001b[0m\n",
            "\u001b[0;31mNameError\u001b[0m: name 'model' is not defined"
          ]
        }
      ]
    },
    {
      "cell_type": "code",
      "metadata": {
        "id": "YJ6pu1UYAveh"
      },
      "source": [
        "y_pred = model.predict(x_test)"
      ],
      "execution_count": null,
      "outputs": []
    },
    {
      "cell_type": "code",
      "metadata": {
        "id": "P_rESUz9A3fu"
      },
      "source": [
        "mae = mean_absolute_error(y_test,y_pred)"
      ],
      "execution_count": null,
      "outputs": []
    },
    {
      "cell_type": "code",
      "metadata": {
        "id": "TUVOqSEbozg6"
      },
      "source": [
        "mae"
      ],
      "execution_count": null,
      "outputs": []
    },
    {
      "cell_type": "code",
      "metadata": {
        "id": "gffPTjKit3Ho"
      },
      "source": [
        "hist = pd.DataFrame(history.history)\n",
        "hist['epoch'] = history.epoch\n",
        "hist.tail()"
      ],
      "execution_count": null,
      "outputs": []
    },
    {
      "cell_type": "code",
      "metadata": {
        "id": "fSBUrAQht5qP"
      },
      "source": [
        "def plot_loss(history):\n",
        "  plt.plot(history.history['loss'], label='loss')\n",
        "  plt.plot(history.history['val_loss'], label='val_loss')\n",
        "  plt.ylim([0, 10])\n",
        "  plt.xlabel('Epoch')\n",
        "  plt.ylabel('Error')\n",
        "  plt.legend()\n",
        "  plt.grid(True)"
      ],
      "execution_count": null,
      "outputs": []
    },
    {
      "cell_type": "code",
      "metadata": {
        "colab": {
          "base_uri": "https://localhost:8080/",
          "height": 283
        },
        "id": "fG9RNMIEt8Cz",
        "outputId": "1e4f6713-f20c-4485-9f49-5796807245a3"
      },
      "source": [
        "plot_loss(history)"
      ],
      "execution_count": null,
      "outputs": [
        {
          "output_type": "display_data",
          "data": {
            "image/png": "[encoded data removed]",
            "text/plain": [
              "<Figure size 432x288 with 1 Axes>"
            ]
          },
          "metadata": {
            "tags": []
          }
        }
      ]
    },
    {
      "cell_type": "markdown",
      "metadata": {
        "id": "3755VGEyuzk5"
      },
      "source": [
        "#Final prediction pipeline"
      ]
    },
    {
      "cell_type": "code",
      "metadata": {
        "id": "ptSPSJHMC9Iu"
      },
      "source": [
        "os.chdir('/content/drive/My Drive/GLHackathonFiles')"
      ],
      "execution_count": null,
      "outputs": []
    },
    {
      "cell_type": "code",
      "metadata": {
        "id": "oLNwI4cVuy6M"
      },
      "source": [
        "zf = zipfile.ZipFile('Test Data.zip')"
      ],
      "execution_count": null,
      "outputs": []
    },
    {
      "cell_type": "code",
      "metadata": {
        "id": "NBuXCshav-Wf"
      },
      "source": [
        "test_freq = pd.read_csv(zf.open('Test Zip/frequency_domain_features_test.csv'))"
      ],
      "execution_count": null,
      "outputs": []
    },
    {
      "cell_type": "code",
      "metadata": {
        "id": "HW3iPC7Bwme9"
      },
      "source": [
        "test_heart_rate = pd.read_csv(zf.open('Test Zip/heart_rate_non_linear_features_test.csv'))"
      ],
      "execution_count": null,
      "outputs": []
    },
    {
      "cell_type": "code",
      "metadata": {
        "id": "LXrv6autwyiz"
      },
      "source": [
        "test_time_domain = pd.read_csv(zf.open('Test Zip/time_domain_features_test.csv'))"
      ],
      "execution_count": null,
      "outputs": []
    },
    {
      "cell_type": "code",
      "metadata": {
        "id": "9gwJnzO4xCw8"
      },
      "source": [
        "test_df = test_freq.merge(test_heart_rate,on='uuid').merge(test_time_domain,on='uuid')"
      ],
      "execution_count": null,
      "outputs": []
    },
    {
      "cell_type": "code",
      "metadata": {
        "id": "q0JCenaaxjvy"
      },
      "source": [
        "test_enc_df = pd.DataFrame(enc.transform(test_df[['condition']]).toarray())"
      ],
      "execution_count": null,
      "outputs": []
    },
    {
      "cell_type": "code",
      "metadata": {
        "id": "Sarb_R7BybMo"
      },
      "source": [
        "test_df = test_df.join(test_enc_df)"
      ],
      "execution_count": null,
      "outputs": []
    },
    {
      "cell_type": "code",
      "metadata": {
        "id": "zCx90R7ayhhA"
      },
      "source": [
        "test_df = test_df.rename(columns={0:'condition_0',1:'condition_1',2:'condition_2'})"
      ],
      "execution_count": null,
      "outputs": []
    },
    {
      "cell_type": "code",
      "metadata": {
        "id": "BtXO-H8rypWY"
      },
      "source": [
        "test_df.columns"
      ],
      "execution_count": null,
      "outputs": []
    },
    {
      "cell_type": "code",
      "metadata": {
        "id": "QRWALzJqyqpQ"
      },
      "source": [
        "test_df.drop(columns=['uuid','condition','datasetId'],axis=1,inplace=True)"
      ],
      "execution_count": null,
      "outputs": []
    },
    {
      "cell_type": "code",
      "metadata": {
        "id": "qi8c2oPW0ES-"
      },
      "source": [
        "test_df.shape"
      ],
      "execution_count": null,
      "outputs": []
    },
    {
      "cell_type": "code",
      "metadata": {
        "id": "maP2rfwm0flP"
      },
      "source": [
        "test_df.columns"
      ],
      "execution_count": null,
      "outputs": []
    },
    {
      "cell_type": "code",
      "metadata": {
        "id": "_kzY1Fvb0iJu"
      },
      "source": [
        "X_train.columns"
      ],
      "execution_count": null,
      "outputs": []
    },
    {
      "cell_type": "code",
      "metadata": {
        "id": "bDgKrwxB0Wy6"
      },
      "source": [
        "test_pred = regressor.predict(test_df)"
      ],
      "execution_count": null,
      "outputs": []
    },
    {
      "cell_type": "code",
      "metadata": {
        "id": "XlvgsRsI0r_N"
      },
      "source": [
        "prediction_data = test_freq.merge(test_heart_rate,on='uuid').merge(test_time_domain,on='uuid')\n",
        "#prediction_data = prediction_data['uuid']"
      ],
      "execution_count": null,
      "outputs": []
    },
    {
      "cell_type": "code",
      "metadata": {
        "id": "9nwloF6J0_Kp"
      },
      "source": [
        "prediction_data['HR'] = test_pred"
      ],
      "execution_count": null,
      "outputs": []
    },
    {
      "cell_type": "code",
      "metadata": {
        "id": "egxa20_820Lt"
      },
      "source": [
        "prediction_data.head()"
      ],
      "execution_count": null,
      "outputs": []
    },
    {
      "cell_type": "code",
      "metadata": {
        "id": "cE5U418t3XSk"
      },
      "source": [
        "final_df = prediction_data[['uuid','HR']]"
      ],
      "execution_count": null,
      "outputs": []
    },
    {
      "cell_type": "code",
      "metadata": {
        "id": "ctY7R7Ie1mDf"
      },
      "source": [
        "os.chdir('/content/drive/My Drive')"
      ],
      "execution_count": null,
      "outputs": []
    },
    {
      "cell_type": "code",
      "metadata": {
        "id": "0RPp_v6j1G3T"
      },
      "source": [
        "final_df.to_csv('final_prediction.csv')"
      ],
      "execution_count": null,
      "outputs": []
    }
  ]
}