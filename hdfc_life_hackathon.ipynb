{
  "nbformat": 4,
  "nbformat_minor": 0,
  "metadata": {
    "colab": {
      "name": "hdfc_life_hackathon.ipynb",
      "provenance": [],
      "collapsed_sections": [],
      "authorship_tag": "ABX9TyOgohaq4VupJNBT17HXQS0p",
      "include_colab_link": true
    },
    "kernelspec": {
      "name": "python3",
      "display_name": "Python 3"
    }
  },
  "cells": [
    {
      "cell_type": "markdown",
      "metadata": {
        "id": "view-in-github",
        "colab_type": "text"
      },
      "source": [
        "<a href=\"https://colab.research.google.com/github/vivekslair/experimentations/blob/main/hdfc_life_hackathon.ipynb\" target=\"_parent\"><img src=\"https://colab.research.google.com/assets/colab-badge.svg\" alt=\"Open In Colab\"/></a>"
      ]
    },
    {
      "cell_type": "code",
      "metadata": {
        "colab": {
          "base_uri": "https://localhost:8080/"
        },
        "id": "z9VTzTkFv6W6",
        "outputId": "1f8f39dc-3b6b-489a-908b-3ffce3930d1c"
      },
      "source": [
        "from google.colab import drive\n",
        " \n",
        "drive.mount('/gdrive')\n",
        "# the project's folder\n",
        "%cd /gdrive/'My Drive'"
      ],
      "execution_count": null,
      "outputs": [
        {
          "output_type": "stream",
          "text": [
            "Drive already mounted at /gdrive; to attempt to forcibly remount, call drive.mount(\"/gdrive\", force_remount=True).\n",
            "/gdrive/My Drive\n"
          ],
          "name": "stdout"
        }
      ]
    },
    {
      "cell_type": "code",
      "metadata": {
        "id": "ZytfiAn3wM6a"
      },
      "source": [
        "import tensorflow as tf\n",
        "import pandas as pd\n",
        "from sklearn import preprocessing\n",
        "import os, glob\n",
        "import cv2\n",
        "from matplotlib import pyplot as plt\n",
        "import PIL\n",
        "from PIL import ImageEnhance\n",
        "from PIL import Image as pil_image"
      ],
      "execution_count": null,
      "outputs": []
    },
    {
      "cell_type": "code",
      "metadata": {
        "id": "Xlr_sI3awPEI"
      },
      "source": [
        "os.chdir('HDFC_LIFE')"
      ],
      "execution_count": null,
      "outputs": []
    },
    {
      "cell_type": "code",
      "metadata": {
        "id": "7Qn9fabNwWHO"
      },
      "source": [
        "from tensorflow.keras.preprocessing import image\n",
        "from tensorflow.keras.preprocessing.image import ImageDataGenerator\n",
        "from tensorflow.keras.callbacks import ReduceLROnPlateau\n",
        "from tensorflow.keras.models import Sequential, Model\n",
        "from tensorflow.keras.layers import Dense, Activation, Flatten, Dropout, concatenate, Input, Conv2D, MaxPooling2D\n",
        "from tensorflow.keras.optimizers import Adam, Adadelta\n",
        "from tensorflow.keras.activations import relu\n",
        "from tensorflow.keras.utils import to_categorical"
      ],
      "execution_count": null,
      "outputs": []
    },
    {
      "cell_type": "code",
      "metadata": {
        "id": "K56diGgxxtmo"
      },
      "source": [
        "#Image augmentation with image generation from Keras\n",
        "datagen = tf.keras.preprocessing.image.ImageDataGenerator(\n",
        "    featurewise_center=True,\n",
        "    featurewise_std_normalization=True,\n",
        "    rotation_range=20,\n",
        "    shear_range=0.2,\n",
        "    zoom_range=0.2,\n",
        "    width_shift_range=0.2,\n",
        "    height_shift_range=0.2,\n",
        "    horizontal_flip=True,\n",
        "    validation_split=0.2)"
      ],
      "execution_count": null,
      "outputs": []
    },
    {
      "cell_type": "code",
      "metadata": {
        "colab": {
          "base_uri": "https://localhost:8080/"
        },
        "id": "M4x6c4VlxxUc",
        "outputId": "56ac55b7-8440-44b0-cdfc-d6d3cec0b782"
      },
      "source": [
        "img_size=224\n",
        "train_generator = datagen.flow_from_directory('train',\n",
        "                                                    target_size=(img_size, img_size),\n",
        "                                                    subset='training',\n",
        "                                                    batch_size=32)\n",
        "\n",
        "#Build test generator\n",
        "val_generator = datagen.flow_from_directory('train',\n",
        "                                                   target_size=(img_size, img_size),                                                   \n",
        "                                                   subset='validation',\n",
        "                                                   batch_size=32)"
      ],
      "execution_count": null,
      "outputs": [
        {
          "output_type": "stream",
          "text": [
            "Found 473 images belonging to 2 classes.\n",
            "Found 118 images belonging to 2 classes.\n"
          ],
          "name": "stdout"
        }
      ]
    },
    {
      "cell_type": "code",
      "metadata": {
        "colab": {
          "base_uri": "https://localhost:8080/"
        },
        "id": "tHpb5Umhx5g5",
        "outputId": "aebcb941-9b25-4af4-9d07-64c88f3034c9"
      },
      "source": [
        "X, y = next(train_generator)\n",
        "\n",
        "print('Input features shape', X.shape)\n",
        "print('Actual labels shape', y.shape)"
      ],
      "execution_count": null,
      "outputs": [
        {
          "output_type": "stream",
          "text": [
            "/usr/local/lib/python3.6/dist-packages/keras_preprocessing/image/image_data_generator.py:720: UserWarning: This ImageDataGenerator specifies `featurewise_center`, but it hasn't been fit on any training data. Fit it first by calling `.fit(numpy_data)`.\n",
            "  warnings.warn('This ImageDataGenerator specifies '\n",
            "/usr/local/lib/python3.6/dist-packages/keras_preprocessing/image/image_data_generator.py:728: UserWarning: This ImageDataGenerator specifies `featurewise_std_normalization`, but it hasn't been fit on any training data. Fit it first by calling `.fit(numpy_data)`.\n",
            "  warnings.warn('This ImageDataGenerator specifies '\n"
          ],
          "name": "stderr"
        },
        {
          "output_type": "stream",
          "text": [
            "Input features shape (32, 224, 224, 3)\n",
            "Actual labels shape (32, 2)\n"
          ],
          "name": "stdout"
        }
      ]
    },
    {
      "cell_type": "code",
      "metadata": {
        "colab": {
          "base_uri": "https://localhost:8080/",
          "height": 88
        },
        "id": "8eiJ9hBgyCDj",
        "outputId": "1e944ad4-a222-4813-9b58-71b353a28855"
      },
      "source": [
        "%matplotlib inline\n",
        "import matplotlib.pyplot as plt\n",
        "plt.figure(figsize=(12, 12))\n",
        "for i in range(10):\n",
        "    plt.subplot(1, 10, i+1)\n",
        "    plt.imshow((X[i]).astype('uint8'))\n",
        "    plt.axis('off')\n",
        "plt.show()"
      ],
      "execution_count": null,
      "outputs": [
        {
          "output_type": "display_data",
          "data": {
            "image/png": "[encoded data removed]",
            "text/plain": [
              "<Figure size 864x864 with 10 Axes>"
            ]
          },
          "metadata": {
            "tags": [],
            "needs_background": "light"
          }
        }
      ]
    },
    {
      "cell_type": "code",
      "metadata": {
        "id": "hAoTa6eJyaSu"
      },
      "source": [
        "tf.keras.backend.clear_session()\n",
        "model = tf.keras.applications.ResNet50(include_top=False, #Do not include classification layer for imagenet\n",
        "                                       input_shape=(224,224,3),\n",
        "                                       weights='imagenet')"
      ],
      "execution_count": null,
      "outputs": []
    },
    {
      "cell_type": "code",
      "metadata": {
        "id": "Bvopc7xVygFO"
      },
      "source": [
        "#model.summary()"
      ],
      "execution_count": null,
      "outputs": []
    },
    {
      "cell_type": "code",
      "metadata": {
        "colab": {
          "base_uri": "https://localhost:8080/"
        },
        "id": "OpgKQ0UcyhfL",
        "outputId": "363b218b-965d-493f-9a14-ca243345c336"
      },
      "source": [
        "len(model.layers)"
      ],
      "execution_count": null,
      "outputs": [
        {
          "output_type": "execute_result",
          "data": {
            "text/plain": [
              "175"
            ]
          },
          "metadata": {
            "tags": []
          },
          "execution_count": 49
        }
      ]
    },
    {
      "cell_type": "code",
      "metadata": {
        "id": "eyN-Tn2myoBR"
      },
      "source": [
        "#Set pre-trained model layers to not trainable\n",
        "for layer in model.layers[:12]:\n",
        "    layer.trainable = False"
      ],
      "execution_count": null,
      "outputs": []
    },
    {
      "cell_type": "code",
      "metadata": {
        "colab": {
          "base_uri": "https://localhost:8080/"
        },
        "id": "Iqz_4coIzFT8",
        "outputId": "3118746e-b6f4-4b17-e91d-7eca24e2ed93"
      },
      "source": [
        "model.output"
      ],
      "execution_count": null,
      "outputs": [
        {
          "output_type": "execute_result",
          "data": {
            "text/plain": [
              "<KerasTensor: shape=(None, 7, 7, 2048) dtype=float32 (created by layer 'conv5_block3_out')>"
            ]
          },
          "metadata": {
            "tags": []
          },
          "execution_count": 51
        }
      ]
    },
    {
      "cell_type": "code",
      "metadata": {
        "id": "u8_VKgW9zGLG"
      },
      "source": [
        "#get Output layer of Pre0trained model\n",
        "x = model.output\n",
        "\n",
        "#Global average pool to reduce number of features and Flatten the output\n",
        "x = tf.keras.layers.GlobalAveragePooling2D()(x)\n",
        "y = tf.keras.layers.Dense(1024,activation='relu')(x)"
      ],
      "execution_count": null,
      "outputs": []
    },
    {
      "cell_type": "code",
      "metadata": {
        "id": "j_7NVyozzKjA"
      },
      "source": [
        "#Add output layer\n",
        "prediction = tf.keras.layers.Dense(2,activation='softmax')(y)"
      ],
      "execution_count": null,
      "outputs": []
    },
    {
      "cell_type": "code",
      "metadata": {
        "id": "IvOC-7SXzYxP"
      },
      "source": [
        "#Using Keras Model class\n",
        "final_model = tf.keras.models.Model(inputs=model.input, #Pre-trained model input as input layer\n",
        "                                    outputs=prediction) #Output layer added"
      ],
      "execution_count": null,
      "outputs": []
    },
    {
      "cell_type": "code",
      "metadata": {
        "id": "BAGSFMP3zbW0"
      },
      "source": [
        "#Compile the model\n",
        "final_model.compile(optimizer='adam', loss=tf.keras.losses.CategoricalCrossentropy(from_logits=False), metrics=['accuracy'])"
      ],
      "execution_count": null,
      "outputs": []
    },
    {
      "cell_type": "code",
      "metadata": {
        "id": "J-tVE542zdPM"
      },
      "source": [
        "#final_model.summary()"
      ],
      "execution_count": null,
      "outputs": []
    },
    {
      "cell_type": "code",
      "metadata": {
        "id": "GcDG0RtLzg5D"
      },
      "source": [
        "#Saving the best model using model checkpoint callback\n",
        "model_checkpoint=tf.keras.callbacks.ModelCheckpoint('mask_resnet2.h5', \n",
        "                                                    save_best_only=True, \n",
        "                                                    monitor='val_accuracy', \n",
        "                                                    mode='max', \n",
        "                                                    verbose=1)"
      ],
      "execution_count": null,
      "outputs": []
    },
    {
      "cell_type": "code",
      "metadata": {
        "colab": {
          "base_uri": "https://localhost:8080/",
          "height": 1000
        },
        "id": "uk8aPLGxztRW",
        "outputId": "65a0102f-6763-48b6-f4b9-65c63afe79cf"
      },
      "source": [
        "final_model.fit_generator(train_generator, \n",
        "                          epochs=50,\n",
        "                          steps_per_epoch= 473//32,\n",
        "                          validation_data=val_generator,\n",
        "                          validation_steps = 118//32, \n",
        "                          callbacks=[model_checkpoint])"
      ],
      "execution_count": null,
      "outputs": [
        {
          "output_type": "stream",
          "text": [
            "/usr/local/lib/python3.6/dist-packages/tensorflow/python/keras/engine/training.py:1844: UserWarning: `Model.fit_generator` is deprecated and will be removed in a future version. Please use `Model.fit`, which supports generators.\n",
            "  warnings.warn('`Model.fit_generator` is deprecated and '\n",
            "/usr/local/lib/python3.6/dist-packages/keras_preprocessing/image/image_data_generator.py:720: UserWarning: This ImageDataGenerator specifies `featurewise_center`, but it hasn't been fit on any training data. Fit it first by calling `.fit(numpy_data)`.\n",
            "  warnings.warn('This ImageDataGenerator specifies '\n",
            "/usr/local/lib/python3.6/dist-packages/keras_preprocessing/image/image_data_generator.py:728: UserWarning: This ImageDataGenerator specifies `featurewise_std_normalization`, but it hasn't been fit on any training data. Fit it first by calling `.fit(numpy_data)`.\n",
            "  warnings.warn('This ImageDataGenerator specifies '\n"
          ],
          "name": "stderr"
        },
        {
          "output_type": "stream",
          "text": [
            "Epoch 1/50\n",
            "14/14 [==============================] - 311s 22s/step - loss: 1.3881 - accuracy: 0.7428 - val_loss: 831.2414 - val_accuracy: 0.8438\n",
            "\n",
            "Epoch 00001: val_accuracy improved from -inf to 0.84375, saving model to mask_resnet2.h5\n",
            "Epoch 2/50\n",
            "14/14 [==============================] - 301s 22s/step - loss: 0.3262 - accuracy: 0.8673 - val_loss: 497.8722 - val_accuracy: 0.8125\n",
            "\n",
            "Epoch 00002: val_accuracy did not improve from 0.84375\n",
            "Epoch 3/50\n",
            "14/14 [==============================] - 301s 21s/step - loss: 0.2238 - accuracy: 0.9012 - val_loss: 13.8650 - val_accuracy: 0.8125\n",
            "\n",
            "Epoch 00003: val_accuracy did not improve from 0.84375\n",
            "Epoch 4/50\n",
            "14/14 [==============================] - 298s 21s/step - loss: 0.1425 - accuracy: 0.9521 - val_loss: 5.1463 - val_accuracy: 0.8646\n",
            "\n",
            "Epoch 00004: val_accuracy improved from 0.84375 to 0.86458, saving model to mask_resnet2.h5\n",
            "Epoch 5/50\n",
            "14/14 [==============================] - 302s 21s/step - loss: 0.1350 - accuracy: 0.9460 - val_loss: 15.8898 - val_accuracy: 0.2708\n",
            "\n",
            "Epoch 00005: val_accuracy did not improve from 0.86458\n",
            "Epoch 6/50\n",
            "14/14 [==============================] - 299s 21s/step - loss: 0.2038 - accuracy: 0.9433 - val_loss: 122.4699 - val_accuracy: 0.1771\n",
            "\n",
            "Epoch 00006: val_accuracy did not improve from 0.86458\n",
            "Epoch 7/50\n",
            "14/14 [==============================] - 299s 21s/step - loss: 0.1950 - accuracy: 0.9347 - val_loss: 10.3318 - val_accuracy: 0.7396\n",
            "\n",
            "Epoch 00007: val_accuracy did not improve from 0.86458\n",
            "Epoch 8/50\n",
            "14/14 [==============================] - 300s 21s/step - loss: 0.1283 - accuracy: 0.9499 - val_loss: 3.4552 - val_accuracy: 0.8854\n",
            "\n",
            "Epoch 00008: val_accuracy improved from 0.86458 to 0.88542, saving model to mask_resnet2.h5\n",
            "Epoch 9/50\n",
            "14/14 [==============================] - 305s 22s/step - loss: 0.1006 - accuracy: 0.9683 - val_loss: 4.8163 - val_accuracy: 0.7708\n",
            "\n",
            "Epoch 00009: val_accuracy did not improve from 0.88542\n",
            "Epoch 10/50\n",
            "14/14 [==============================] - 302s 22s/step - loss: 0.1681 - accuracy: 0.9413 - val_loss: 1.5809 - val_accuracy: 0.8646\n",
            "\n",
            "Epoch 00010: val_accuracy did not improve from 0.88542\n",
            "Epoch 11/50\n",
            "14/14 [==============================] - 302s 22s/step - loss: 0.1357 - accuracy: 0.9441 - val_loss: 2.9257 - val_accuracy: 0.8438\n",
            "\n",
            "Epoch 00011: val_accuracy did not improve from 0.88542\n",
            "Epoch 12/50\n",
            "14/14 [==============================] - 300s 21s/step - loss: 0.1769 - accuracy: 0.9231 - val_loss: 0.2238 - val_accuracy: 0.9375\n",
            "\n",
            "Epoch 00012: val_accuracy improved from 0.88542 to 0.93750, saving model to mask_resnet2.h5\n",
            "Epoch 13/50\n",
            "14/14 [==============================] - 300s 21s/step - loss: 0.0816 - accuracy: 0.9756 - val_loss: 0.6024 - val_accuracy: 0.8542\n",
            "\n",
            "Epoch 00013: val_accuracy did not improve from 0.93750\n",
            "Epoch 14/50\n",
            "14/14 [==============================] - 301s 22s/step - loss: 0.1680 - accuracy: 0.9260 - val_loss: 0.6428 - val_accuracy: 0.8125\n",
            "\n",
            "Epoch 00014: val_accuracy did not improve from 0.93750\n",
            "Epoch 15/50\n",
            "14/14 [==============================] - 299s 22s/step - loss: 0.1067 - accuracy: 0.9754 - val_loss: 0.5699 - val_accuracy: 0.8333\n",
            "\n",
            "Epoch 00015: val_accuracy did not improve from 0.93750\n",
            "Epoch 16/50\n",
            "14/14 [==============================] - 297s 21s/step - loss: 0.2040 - accuracy: 0.9344 - val_loss: 0.2739 - val_accuracy: 0.9375\n",
            "\n",
            "Epoch 00016: val_accuracy did not improve from 0.93750\n",
            "Epoch 17/50\n",
            "14/14 [==============================] - 299s 21s/step - loss: 0.0707 - accuracy: 0.9740 - val_loss: 0.2247 - val_accuracy: 0.9479\n",
            "\n",
            "Epoch 00017: val_accuracy improved from 0.93750 to 0.94792, saving model to mask_resnet2.h5\n",
            "Epoch 18/50\n",
            "14/14 [==============================] - 298s 21s/step - loss: 0.0530 - accuracy: 0.9894 - val_loss: 0.8850 - val_accuracy: 0.8854\n",
            "\n",
            "Epoch 00018: val_accuracy did not improve from 0.94792\n",
            "Epoch 19/50\n",
            "14/14 [==============================] - 298s 21s/step - loss: 0.0333 - accuracy: 0.9882 - val_loss: 0.0959 - val_accuracy: 0.9583\n",
            "\n",
            "Epoch 00019: val_accuracy improved from 0.94792 to 0.95833, saving model to mask_resnet2.h5\n",
            "Epoch 20/50\n",
            "14/14 [==============================] - 300s 21s/step - loss: 0.0725 - accuracy: 0.9770 - val_loss: 2.3640 - val_accuracy: 0.6042\n",
            "\n",
            "Epoch 00020: val_accuracy did not improve from 0.95833\n",
            "Epoch 21/50\n",
            "14/14 [==============================] - 299s 21s/step - loss: 0.0919 - accuracy: 0.9635 - val_loss: 0.0857 - val_accuracy: 0.9896\n",
            "\n",
            "Epoch 00021: val_accuracy improved from 0.95833 to 0.98958, saving model to mask_resnet2.h5\n",
            "Epoch 22/50\n",
            "14/14 [==============================] - 298s 21s/step - loss: 0.1061 - accuracy: 0.9575 - val_loss: 0.7069 - val_accuracy: 0.9062\n",
            "\n",
            "Epoch 00022: val_accuracy did not improve from 0.98958\n",
            "Epoch 23/50\n",
            " 1/14 [=>............................] - ETA: 4:30 - loss: 0.0391 - accuracy: 1.0000"
          ],
          "name": "stdout"
        },
        {
          "output_type": "error",
          "ename": "KeyboardInterrupt",
          "evalue": "ignored",
          "traceback": [
            "\u001b[0;31m---------------------------------------------------------------------------\u001b[0m",
            "\u001b[0;31mKeyboardInterrupt\u001b[0m                         Traceback (most recent call last)",
            "\u001b[0;32m<ipython-input-57-9b82cbca32d4>\u001b[0m in \u001b[0;36m<module>\u001b[0;34m()\u001b[0m\n\u001b[1;32m      4\u001b[0m                           \u001b[0mvalidation_data\u001b[0m\u001b[0;34m=\u001b[0m\u001b[0mval_generator\u001b[0m\u001b[0;34m,\u001b[0m\u001b[0;34m\u001b[0m\u001b[0;34m\u001b[0m\u001b[0m\n\u001b[1;32m      5\u001b[0m                           \u001b[0mvalidation_steps\u001b[0m \u001b[0;34m=\u001b[0m \u001b[0;36m118\u001b[0m\u001b[0;34m//\u001b[0m\u001b[0;36m32\u001b[0m\u001b[0;34m,\u001b[0m\u001b[0;34m\u001b[0m\u001b[0;34m\u001b[0m\u001b[0m\n\u001b[0;32m----> 6\u001b[0;31m                           callbacks=[model_checkpoint])\n\u001b[0m",
            "\u001b[0;32m/usr/local/lib/python3.6/dist-packages/tensorflow/python/keras/engine/training.py\u001b[0m in \u001b[0;36mfit_generator\u001b[0;34m(self, generator, steps_per_epoch, epochs, verbose, callbacks, validation_data, validation_steps, validation_freq, class_weight, max_queue_size, workers, use_multiprocessing, shuffle, initial_epoch)\u001b[0m\n\u001b[1;32m   1859\u001b[0m         \u001b[0muse_multiprocessing\u001b[0m\u001b[0;34m=\u001b[0m\u001b[0muse_multiprocessing\u001b[0m\u001b[0;34m,\u001b[0m\u001b[0;34m\u001b[0m\u001b[0;34m\u001b[0m\u001b[0m\n\u001b[1;32m   1860\u001b[0m         \u001b[0mshuffle\u001b[0m\u001b[0;34m=\u001b[0m\u001b[0mshuffle\u001b[0m\u001b[0;34m,\u001b[0m\u001b[0;34m\u001b[0m\u001b[0;34m\u001b[0m\u001b[0m\n\u001b[0;32m-> 1861\u001b[0;31m         initial_epoch=initial_epoch)\n\u001b[0m\u001b[1;32m   1862\u001b[0m \u001b[0;34m\u001b[0m\u001b[0m\n\u001b[1;32m   1863\u001b[0m   def evaluate_generator(self,\n",
            "\u001b[0;32m/usr/local/lib/python3.6/dist-packages/tensorflow/python/keras/engine/training.py\u001b[0m in \u001b[0;36mfit\u001b[0;34m(self, x, y, batch_size, epochs, verbose, callbacks, validation_split, validation_data, shuffle, class_weight, sample_weight, initial_epoch, steps_per_epoch, validation_steps, validation_batch_size, validation_freq, max_queue_size, workers, use_multiprocessing)\u001b[0m\n\u001b[1;32m   1098\u001b[0m                 _r=1):\n\u001b[1;32m   1099\u001b[0m               \u001b[0mcallbacks\u001b[0m\u001b[0;34m.\u001b[0m\u001b[0mon_train_batch_begin\u001b[0m\u001b[0;34m(\u001b[0m\u001b[0mstep\u001b[0m\u001b[0;34m)\u001b[0m\u001b[0;34m\u001b[0m\u001b[0;34m\u001b[0m\u001b[0m\n\u001b[0;32m-> 1100\u001b[0;31m               \u001b[0mtmp_logs\u001b[0m \u001b[0;34m=\u001b[0m \u001b[0mself\u001b[0m\u001b[0;34m.\u001b[0m\u001b[0mtrain_function\u001b[0m\u001b[0;34m(\u001b[0m\u001b[0miterator\u001b[0m\u001b[0;34m)\u001b[0m\u001b[0;34m\u001b[0m\u001b[0;34m\u001b[0m\u001b[0m\n\u001b[0m\u001b[1;32m   1101\u001b[0m               \u001b[0;32mif\u001b[0m \u001b[0mdata_handler\u001b[0m\u001b[0;34m.\u001b[0m\u001b[0mshould_sync\u001b[0m\u001b[0;34m:\u001b[0m\u001b[0;34m\u001b[0m\u001b[0;34m\u001b[0m\u001b[0m\n\u001b[1;32m   1102\u001b[0m                 \u001b[0mcontext\u001b[0m\u001b[0;34m.\u001b[0m\u001b[0masync_wait\u001b[0m\u001b[0;34m(\u001b[0m\u001b[0;34m)\u001b[0m\u001b[0;34m\u001b[0m\u001b[0;34m\u001b[0m\u001b[0m\n",
            "\u001b[0;32m/usr/local/lib/python3.6/dist-packages/tensorflow/python/eager/def_function.py\u001b[0m in \u001b[0;36m__call__\u001b[0;34m(self, *args, **kwds)\u001b[0m\n\u001b[1;32m    826\u001b[0m     \u001b[0mtracing_count\u001b[0m \u001b[0;34m=\u001b[0m \u001b[0mself\u001b[0m\u001b[0;34m.\u001b[0m\u001b[0mexperimental_get_tracing_count\u001b[0m\u001b[0;34m(\u001b[0m\u001b[0;34m)\u001b[0m\u001b[0;34m\u001b[0m\u001b[0;34m\u001b[0m\u001b[0m\n\u001b[1;32m    827\u001b[0m     \u001b[0;32mwith\u001b[0m \u001b[0mtrace\u001b[0m\u001b[0;34m.\u001b[0m\u001b[0mTrace\u001b[0m\u001b[0;34m(\u001b[0m\u001b[0mself\u001b[0m\u001b[0;34m.\u001b[0m\u001b[0m_name\u001b[0m\u001b[0;34m)\u001b[0m \u001b[0;32mas\u001b[0m \u001b[0mtm\u001b[0m\u001b[0;34m:\u001b[0m\u001b[0;34m\u001b[0m\u001b[0;34m\u001b[0m\u001b[0m\n\u001b[0;32m--> 828\u001b[0;31m       \u001b[0mresult\u001b[0m \u001b[0;34m=\u001b[0m \u001b[0mself\u001b[0m\u001b[0;34m.\u001b[0m\u001b[0m_call\u001b[0m\u001b[0;34m(\u001b[0m\u001b[0;34m*\u001b[0m\u001b[0margs\u001b[0m\u001b[0;34m,\u001b[0m \u001b[0;34m**\u001b[0m\u001b[0mkwds\u001b[0m\u001b[0;34m)\u001b[0m\u001b[0;34m\u001b[0m\u001b[0;34m\u001b[0m\u001b[0m\n\u001b[0m\u001b[1;32m    829\u001b[0m       \u001b[0mcompiler\u001b[0m \u001b[0;34m=\u001b[0m \u001b[0;34m\"xla\"\u001b[0m \u001b[0;32mif\u001b[0m \u001b[0mself\u001b[0m\u001b[0;34m.\u001b[0m\u001b[0m_experimental_compile\u001b[0m \u001b[0;32melse\u001b[0m \u001b[0;34m\"nonXla\"\u001b[0m\u001b[0;34m\u001b[0m\u001b[0;34m\u001b[0m\u001b[0m\n\u001b[1;32m    830\u001b[0m       \u001b[0mnew_tracing_count\u001b[0m \u001b[0;34m=\u001b[0m \u001b[0mself\u001b[0m\u001b[0;34m.\u001b[0m\u001b[0mexperimental_get_tracing_count\u001b[0m\u001b[0;34m(\u001b[0m\u001b[0;34m)\u001b[0m\u001b[0;34m\u001b[0m\u001b[0;34m\u001b[0m\u001b[0m\n",
            "\u001b[0;32m/usr/local/lib/python3.6/dist-packages/tensorflow/python/eager/def_function.py\u001b[0m in \u001b[0;36m_call\u001b[0;34m(self, *args, **kwds)\u001b[0m\n\u001b[1;32m    853\u001b[0m       \u001b[0;31m# In this case we have created variables on the first call, so we run the\u001b[0m\u001b[0;34m\u001b[0m\u001b[0;34m\u001b[0m\u001b[0;34m\u001b[0m\u001b[0m\n\u001b[1;32m    854\u001b[0m       \u001b[0;31m# defunned version which is guaranteed to never create variables.\u001b[0m\u001b[0;34m\u001b[0m\u001b[0;34m\u001b[0m\u001b[0;34m\u001b[0m\u001b[0m\n\u001b[0;32m--> 855\u001b[0;31m       \u001b[0;32mreturn\u001b[0m \u001b[0mself\u001b[0m\u001b[0;34m.\u001b[0m\u001b[0m_stateless_fn\u001b[0m\u001b[0;34m(\u001b[0m\u001b[0;34m*\u001b[0m\u001b[0margs\u001b[0m\u001b[0;34m,\u001b[0m \u001b[0;34m**\u001b[0m\u001b[0mkwds\u001b[0m\u001b[0;34m)\u001b[0m  \u001b[0;31m# pylint: disable=not-callable\u001b[0m\u001b[0;34m\u001b[0m\u001b[0;34m\u001b[0m\u001b[0m\n\u001b[0m\u001b[1;32m    856\u001b[0m     \u001b[0;32melif\u001b[0m \u001b[0mself\u001b[0m\u001b[0;34m.\u001b[0m\u001b[0m_stateful_fn\u001b[0m \u001b[0;32mis\u001b[0m \u001b[0;32mnot\u001b[0m \u001b[0;32mNone\u001b[0m\u001b[0;34m:\u001b[0m\u001b[0;34m\u001b[0m\u001b[0;34m\u001b[0m\u001b[0m\n\u001b[1;32m    857\u001b[0m       \u001b[0;31m# Release the lock early so that multiple threads can perform the call\u001b[0m\u001b[0;34m\u001b[0m\u001b[0;34m\u001b[0m\u001b[0;34m\u001b[0m\u001b[0m\n",
            "\u001b[0;32m/usr/local/lib/python3.6/dist-packages/tensorflow/python/eager/function.py\u001b[0m in \u001b[0;36m__call__\u001b[0;34m(self, *args, **kwargs)\u001b[0m\n\u001b[1;32m   2941\u001b[0m        filtered_flat_args) = self._maybe_define_function(args, kwargs)\n\u001b[1;32m   2942\u001b[0m     return graph_function._call_flat(\n\u001b[0;32m-> 2943\u001b[0;31m         filtered_flat_args, captured_inputs=graph_function.captured_inputs)  # pylint: disable=protected-access\n\u001b[0m\u001b[1;32m   2944\u001b[0m \u001b[0;34m\u001b[0m\u001b[0m\n\u001b[1;32m   2945\u001b[0m   \u001b[0;34m@\u001b[0m\u001b[0mproperty\u001b[0m\u001b[0;34m\u001b[0m\u001b[0;34m\u001b[0m\u001b[0m\n",
            "\u001b[0;32m/usr/local/lib/python3.6/dist-packages/tensorflow/python/eager/function.py\u001b[0m in \u001b[0;36m_call_flat\u001b[0;34m(self, args, captured_inputs, cancellation_manager)\u001b[0m\n\u001b[1;32m   1917\u001b[0m       \u001b[0;31m# No tape is watching; skip to running the function.\u001b[0m\u001b[0;34m\u001b[0m\u001b[0;34m\u001b[0m\u001b[0;34m\u001b[0m\u001b[0m\n\u001b[1;32m   1918\u001b[0m       return self._build_call_outputs(self._inference_function.call(\n\u001b[0;32m-> 1919\u001b[0;31m           ctx, args, cancellation_manager=cancellation_manager))\n\u001b[0m\u001b[1;32m   1920\u001b[0m     forward_backward = self._select_forward_and_backward_functions(\n\u001b[1;32m   1921\u001b[0m         \u001b[0margs\u001b[0m\u001b[0;34m,\u001b[0m\u001b[0;34m\u001b[0m\u001b[0;34m\u001b[0m\u001b[0m\n",
            "\u001b[0;32m/usr/local/lib/python3.6/dist-packages/tensorflow/python/eager/function.py\u001b[0m in \u001b[0;36mcall\u001b[0;34m(self, ctx, args, cancellation_manager)\u001b[0m\n\u001b[1;32m    558\u001b[0m               \u001b[0minputs\u001b[0m\u001b[0;34m=\u001b[0m\u001b[0margs\u001b[0m\u001b[0;34m,\u001b[0m\u001b[0;34m\u001b[0m\u001b[0;34m\u001b[0m\u001b[0m\n\u001b[1;32m    559\u001b[0m               \u001b[0mattrs\u001b[0m\u001b[0;34m=\u001b[0m\u001b[0mattrs\u001b[0m\u001b[0;34m,\u001b[0m\u001b[0;34m\u001b[0m\u001b[0;34m\u001b[0m\u001b[0m\n\u001b[0;32m--> 560\u001b[0;31m               ctx=ctx)\n\u001b[0m\u001b[1;32m    561\u001b[0m         \u001b[0;32melse\u001b[0m\u001b[0;34m:\u001b[0m\u001b[0;34m\u001b[0m\u001b[0;34m\u001b[0m\u001b[0m\n\u001b[1;32m    562\u001b[0m           outputs = execute.execute_with_cancellation(\n",
            "\u001b[0;32m/usr/local/lib/python3.6/dist-packages/tensorflow/python/eager/execute.py\u001b[0m in \u001b[0;36mquick_execute\u001b[0;34m(op_name, num_outputs, inputs, attrs, ctx, name)\u001b[0m\n\u001b[1;32m     58\u001b[0m     \u001b[0mctx\u001b[0m\u001b[0;34m.\u001b[0m\u001b[0mensure_initialized\u001b[0m\u001b[0;34m(\u001b[0m\u001b[0;34m)\u001b[0m\u001b[0;34m\u001b[0m\u001b[0;34m\u001b[0m\u001b[0m\n\u001b[1;32m     59\u001b[0m     tensors = pywrap_tfe.TFE_Py_Execute(ctx._handle, device_name, op_name,\n\u001b[0;32m---> 60\u001b[0;31m                                         inputs, attrs, num_outputs)\n\u001b[0m\u001b[1;32m     61\u001b[0m   \u001b[0;32mexcept\u001b[0m \u001b[0mcore\u001b[0m\u001b[0;34m.\u001b[0m\u001b[0m_NotOkStatusException\u001b[0m \u001b[0;32mas\u001b[0m \u001b[0me\u001b[0m\u001b[0;34m:\u001b[0m\u001b[0;34m\u001b[0m\u001b[0;34m\u001b[0m\u001b[0m\n\u001b[1;32m     62\u001b[0m     \u001b[0;32mif\u001b[0m \u001b[0mname\u001b[0m \u001b[0;32mis\u001b[0m \u001b[0;32mnot\u001b[0m \u001b[0;32mNone\u001b[0m\u001b[0;34m:\u001b[0m\u001b[0;34m\u001b[0m\u001b[0;34m\u001b[0m\u001b[0m\n",
            "\u001b[0;31mKeyboardInterrupt\u001b[0m: "
          ]
        }
      ]
    },
    {
      "cell_type": "code",
      "metadata": {
        "id": "hk-paHYDGb_r"
      },
      "source": [
        "trained_model=tf.keras.models.load_model('mask_resnet2.h5')"
      ],
      "execution_count": null,
      "outputs": []
    },
    {
      "cell_type": "code",
      "metadata": {
        "colab": {
          "base_uri": "https://localhost:8080/"
        },
        "id": "UQi5wM7-0YOs",
        "outputId": "4271d1a3-1e1e-4a3b-958f-ffab68f8fb09"
      },
      "source": [
        "!ls"
      ],
      "execution_count": null,
      "outputs": [
        {
          "output_type": "stream",
          "text": [
            "mask_resnet1.h5  mask_resnet.h5    predictions.csv  train\n",
            "mask_resnet2.h5  predictions1.csv  test_data\n"
          ],
          "name": "stdout"
        }
      ]
    },
    {
      "cell_type": "code",
      "metadata": {
        "id": "Ru1VUkv0pQrB"
      },
      "source": [
        "data = []\n",
        "filenames = []\n",
        "#df_test = pd.DataFrame(columns=['image_file'])\n",
        "test_dir='/gdrive/MyDrive/HDFC_LIFE/test_data'\n",
        "    # loop over the input images\n",
        "images = os.listdir(test_dir)\n",
        "for imageFileName in images:\n",
        "        # load the image, pre-process it, and store it in the data list\n",
        "    imageFullPath = os.path.join(test_dir, imageFileName)\n",
        "        #print(imageFullPath)\n",
        "    img = tf.keras.preprocessing.image.load_img(imageFullPath)\n",
        "    arr = tf.keras.preprocessing.image.img_to_array(img)  # Numpy array with shape (...,..,3)\n",
        "    arr = cv2.resize(arr, (224,224)) \n",
        "    data.append(arr)\n",
        "    filenames.append(imageFileName)"
      ],
      "execution_count": null,
      "outputs": []
    },
    {
      "cell_type": "code",
      "metadata": {
        "colab": {
          "base_uri": "https://localhost:8080/"
        },
        "id": "SJ4uY1wMyXtb",
        "outputId": "1fd60d32-f7ca-4efc-9785-5e8b1ea580fd"
      },
      "source": [
        "filenames"
      ],
      "execution_count": null,
      "outputs": [
        {
          "output_type": "execute_result",
          "data": {
            "text/plain": [
              "['13.jpg',\n",
              " '7.jpg',\n",
              " '5.jpg',\n",
              " '0.jpg',\n",
              " '16.jpg',\n",
              " '25.jpg',\n",
              " '4.jpg',\n",
              " '3.jpg',\n",
              " '1.jpg',\n",
              " '10.jpg',\n",
              " '23.jpg',\n",
              " '17.jpg',\n",
              " '26.jpg',\n",
              " '2.jpg',\n",
              " '21.jpg',\n",
              " '8.jpg',\n",
              " '12.jpg',\n",
              " '18.jpg',\n",
              " '44.jpg',\n",
              " '19.jpg',\n",
              " '43.jpg',\n",
              " '20.jpg',\n",
              " '38.jpg',\n",
              " '31.jpg',\n",
              " '41.jpg',\n",
              " '36.jpg',\n",
              " '6.jpg',\n",
              " '9.jpg',\n",
              " '27.jpg',\n",
              " '33.jpg',\n",
              " '40.jpg',\n",
              " '37.jpg',\n",
              " '30.jpg',\n",
              " '15.jpg',\n",
              " '34.jpg',\n",
              " '24.jpg',\n",
              " '29.jpg',\n",
              " '22.jpg',\n",
              " '45.jpg',\n",
              " '35.jpg',\n",
              " '28.jpg',\n",
              " '32.jpg',\n",
              " '42.jpg',\n",
              " '39.jpg',\n",
              " '14.jpg',\n",
              " '11.jpg']"
            ]
          },
          "metadata": {
            "tags": []
          },
          "execution_count": 11
        }
      ]
    },
    {
      "cell_type": "code",
      "metadata": {
        "id": "gU4xFziqzD7F"
      },
      "source": [
        "df_test = pd.DataFrame(columns=['image_file'])"
      ],
      "execution_count": null,
      "outputs": []
    },
    {
      "cell_type": "code",
      "metadata": {
        "id": "SaE2L8QlzMua"
      },
      "source": [
        "df_test['image_file'] = filenames"
      ],
      "execution_count": null,
      "outputs": []
    },
    {
      "cell_type": "code",
      "metadata": {
        "id": "dY3b09a3rJow"
      },
      "source": [
        "import numpy as np\n",
        "\n",
        "data=np.array(data)"
      ],
      "execution_count": null,
      "outputs": []
    },
    {
      "cell_type": "code",
      "metadata": {
        "id": "-WW7Zv0tpcxQ"
      },
      "source": [
        "yFit=trained_model.predict(data)"
      ],
      "execution_count": null,
      "outputs": []
    },
    {
      "cell_type": "code",
      "metadata": {
        "id": "USwwDNBTu6dF"
      },
      "source": [
        "y_pred = np.round(yFit,decimals=0)"
      ],
      "execution_count": null,
      "outputs": []
    },
    {
      "cell_type": "code",
      "metadata": {
        "id": "422J7pk6sfxA"
      },
      "source": [
        "predictions = []\n",
        "for k in y_pred : \n",
        "  if k[0] == 1.0 :\n",
        "    predictions.append(1)\n",
        "  elif k[1] == 1.0 :\n",
        "    predictions.append(0)"
      ],
      "execution_count": null,
      "outputs": []
    },
    {
      "cell_type": "code",
      "metadata": {
        "id": "ou_Fp2ZTsvAE"
      },
      "source": [
        "df_test['predictions'] = predictions"
      ],
      "execution_count": null,
      "outputs": []
    },
    {
      "cell_type": "code",
      "metadata": {
        "colab": {
          "base_uri": "https://localhost:8080/"
        },
        "id": "JAuyWQrSzrPO",
        "outputId": "20b40c04-90af-4801-9acd-cb511a6dad6c"
      },
      "source": [
        "!ls"
      ],
      "execution_count": null,
      "outputs": [
        {
          "output_type": "stream",
          "text": [
            "mask_resnet1.h5  mask_resnet.h5    predictions.csv  train\n",
            "mask_resnet2.h5  predictions1.csv  test_data\n"
          ],
          "name": "stdout"
        }
      ]
    },
    {
      "cell_type": "code",
      "metadata": {
        "id": "EihZUU_1zdIu"
      },
      "source": [
        "df_test.to_csv('predictions2.csv')"
      ],
      "execution_count": null,
      "outputs": []
    }
  ]
}